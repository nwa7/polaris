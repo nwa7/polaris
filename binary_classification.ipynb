{
  "cells": [
    {
      "cell_type": "markdown",
      "metadata": {
        "id": "roZZ8k0RMOBT"
      },
      "source": [
        "## Open World (unmon_standard10.pkl)"
      ]
    },
    {
      "cell_type": "markdown",
      "metadata": {
        "id": "wGeFbOrFMOUj"
      },
      "source": [
        "### 1. Data Cleaning & Pre-processing\n",
        "**unmon_standard10.pkl**: This file includes data from \"unmonitored\" websites.\n",
        "\n",
        "   - Instances: 10,000"
      ]
    },
    {
      "cell_type": "code",
      "execution_count": null,
      "metadata": {
        "colab": {
          "base_uri": "https://localhost:8080/"
        },
        "id": "s6gsSBqcCs__",
        "outputId": "cfa32eb5-c3c9-49d7-b8ff-dc367768310a"
      },
      "outputs": [
        {
          "output_type": "stream",
          "name": "stdout",
          "text": [
            "Mounted at /content/drive\n"
          ]
        }
      ],
      "source": [
        "from google.colab import drive\n",
        "drive.mount('/content/drive')"
      ]
    },
    {
      "cell_type": "code",
      "execution_count": null,
      "metadata": {
        "id": "WT6b-dzuCvcd"
      },
      "outputs": [],
      "source": [
        "import pickle\n",
        "import numpy as np"
      ]
    },
    {
      "cell_type": "code",
      "execution_count": null,
      "metadata": {
        "id": "MKMiQMC3arxu"
      },
      "outputs": [],
      "source": [
        "# Load monitored instances\n",
        "\n",
        "# Load X1\n",
        "with open('/content/drive/My Drive/Machine Learning Project/CODES/X1.pkl', 'rb') as file:\n",
        "    X1 = pickle.load(file)\n",
        "\n",
        "# Load X2\n",
        "with open('/content/drive/My Drive/Machine Learning Project/CODES/X2.pkl', 'rb') as file:\n",
        "    X2 = pickle.load(file)"
      ]
    },
    {
      "cell_type": "code",
      "execution_count": null,
      "metadata": {
        "id": "CZpiRUU0ZsQf"
      },
      "outputs": [],
      "source": [
        "# Load unmonitored instances\n",
        "\n",
        "# Load X1\n",
        "with open('/content/drive/My Drive/Machine Learning Project/CODES/X1_unmonitored.pkl', 'rb') as file:\n",
        "    X1_unmonitored = pickle.load(file)\n",
        "\n",
        "# Load X2\n",
        "with open('/content/drive/My Drive/Machine Learning Project/CODES/X2_unmonitored.pkl', 'rb') as file:\n",
        "    X2_unmonitored = pickle.load(file)"
      ]
    },
    {
      "cell_type": "code",
      "execution_count": null,
      "metadata": {
        "id": "g33uZHiRa1Gg",
        "colab": {
          "base_uri": "https://localhost:8080/"
        },
        "outputId": "7cb80e34-3094-4b54-ce6d-05e02c8b9540"
      },
      "outputs": [
        {
          "output_type": "stream",
          "name": "stdout",
          "text": [
            "Length of sampled X1: 5000\n",
            "Length of sampled X2: 5000\n",
            "\n",
            "Length of sampled X1_unmonitored: 5000\n",
            "Length of sampled X2_unmonitored: 5000\n"
          ]
        }
      ],
      "source": [
        "# Get a partial dataset to keep class balance\n",
        "num_samples_to_keep = int(len(X1_unmonitored)/2)\n",
        "\n",
        "# Randomly select a subset of indices\n",
        "selected_indices = np.random.choice(len(X1), num_samples_to_keep, replace=False)\n",
        "selected_indices_unmonitored = np.random.choice(len(X1_unmonitored), num_samples_to_keep, replace=False)\n",
        "\n",
        "# Use these indices to extract the subset of data\n",
        "X1 = [X1[i] for i in selected_indices]\n",
        "X2 = [X2[i] for i in selected_indices]\n",
        "X1_unmonitored = [X1_unmonitored[i] for i in selected_indices_unmonitored]\n",
        "X2_unmonitored = [X2_unmonitored[i] for i in selected_indices_unmonitored]\n",
        "\n",
        "# Verify lengths of sampled data\n",
        "print(f'Length of sampled X1: {len(X1)}')\n",
        "print(f'Length of sampled X2: {len(X2)}\\n')\n",
        "print(f'Length of sampled X1_unmonitored: {len(X1_unmonitored)}')\n",
        "print(f'Length of sampled X2_unmonitored: {len(X2_unmonitored)}')"
      ]
    },
    {
      "cell_type": "code",
      "execution_count": null,
      "metadata": {
        "id": "XNL2xy3_bPTG"
      },
      "outputs": [],
      "source": [
        "# Create list of ones for monitored instances\n",
        "y = [1] * num_samples_to_keep\n",
        "\n",
        "# Create list of zeroes for unmonitored instances\n",
        "y_unmonitored = [0] * num_samples_to_keep"
      ]
    },
    {
      "cell_type": "code",
      "execution_count": null,
      "metadata": {
        "id": "N-F_aLj-bS9H"
      },
      "outputs": [],
      "source": [
        "# Concatenate monitored and unmonitored instances into 1 list for each array\n",
        "X1.extend(X1_unmonitored)\n",
        "X2.extend(X2_unmonitored)\n",
        "y.extend(y_unmonitored)"
      ]
    },
    {
      "cell_type": "code",
      "source": [
        "del X1_unmonitored, X2_unmonitored, y_unmonitored"
      ],
      "metadata": {
        "id": "uG4J8z1BBgDI"
      },
      "execution_count": null,
      "outputs": []
    },
    {
      "cell_type": "markdown",
      "metadata": {
        "id": "tMBp1aYON7u7"
      },
      "source": [
        "### 2a. Feature Extraction (Continuous Features)\n",
        "\n",
        "1. Sequence of packet timestamps (X1)\n",
        "2. Sequence of packet sizes (X2)\n",
        "3. Sequence of cumulative packet sizes\n",
        "4. Sequence of bursts\n",
        "\n"
      ]
    },
    {
      "cell_type": "markdown",
      "metadata": {
        "id": "asqfZXLYDe-K"
      },
      "source": [
        "Continuous Feature 3: Sequence of Cumulative Packet Sizes"
      ]
    },
    {
      "cell_type": "code",
      "execution_count": null,
      "metadata": {
        "colab": {
          "base_uri": "https://localhost:8080/"
        },
        "id": "TmyMa-qfBtPG",
        "outputId": "bbd9c99e-1762-4af5-8c02-f3ea488ea770"
      },
      "outputs": [
        {
          "output_type": "stream",
          "name": "stdout",
          "text": [
            "First 10 values of cumulative sizes:\n",
            "[ -512 -1024  -512 -1024  -512 -1024  -512     0  -512 -1024]\n"
          ]
        }
      ],
      "source": [
        "# Compute the cumulative sum for each sequence\n",
        "cumulative_sizes = [np.cumsum(seq) for seq in X2]\n",
        "\n",
        "# Print the first 10 values of the cumulative sizes for the 1st element\n",
        "print(\"First 10 values of cumulative sizes:\")\n",
        "print(cumulative_sizes[0][:10])"
      ]
    },
    {
      "cell_type": "markdown",
      "metadata": {
        "id": "YNawaHgnDtag"
      },
      "source": [
        "Continuous Feature 4: Sequence of Bursts"
      ]
    },
    {
      "cell_type": "code",
      "execution_count": null,
      "metadata": {
        "colab": {
          "base_uri": "https://localhost:8080/"
        },
        "id": "pnhvsUz_Dyy_",
        "outputId": "23663d60-c630-44cf-821b-4682d50e0438"
      },
      "outputs": [
        {
          "output_type": "stream",
          "name": "stdout",
          "text": [
            "[0.11, 0.0, 0.0, 0.0, 0.0, 0.0, 0.08000000000000007, 0.0, 0.0, 0.0]\n",
            "[-1024, 512, -512, 512, -512, 1024, -6144, 1024, -512, 512]\n"
          ]
        }
      ],
      "source": [
        "def calculate_bursts_and_durations(X1, X2):\n",
        "    seq_of_bursts = []\n",
        "    burst_duration = []\n",
        "\n",
        "    for timestamps, sizes in zip(X1, X2):\n",
        "        burst = []\n",
        "        duration = []\n",
        "\n",
        "        current_size = 0\n",
        "        current_time = 0.0\n",
        "\n",
        "        time_start = 0.0\n",
        "\n",
        "        for time, size in zip(timestamps, sizes):\n",
        "          if current_size == 0 or (size > 0 and current_size > 0) or (size < 0 and current_size < 0):\n",
        "              current_size += size\n",
        "              current_time = time - time_start\n",
        "          else:\n",
        "              burst.append(current_size)\n",
        "              duration.append(current_time)\n",
        "              current_size = size\n",
        "              current_time = 0.0\n",
        "              time_start = time\n",
        "\n",
        "        burst.append(current_size)\n",
        "        duration.append(time-time_start)\n",
        "        seq_of_bursts.append(burst)\n",
        "        burst_duration.append(duration)\n",
        "\n",
        "    return burst_duration, seq_of_bursts\n",
        "\n",
        "burst_duration, seq_of_bursts = calculate_bursts_and_durations(X1, X2)\n",
        "\n",
        "print(burst_duration[0][:10])\n",
        "print(seq_of_bursts[0][:10])"
      ]
    },
    {
      "cell_type": "markdown",
      "metadata": {
        "id": "v4HCd_RGOvh3"
      },
      "source": [
        "### 2b. Feature Extraction (Categorical Features)\n",
        "\n",
        "\n",
        "\n",
        "1. Number of incoming packets\n",
        "2. Number of incoming packets as a fraction of the total number of packets\n",
        "3. Number of outgoing packets\n",
        "4. Number of outgoing packets as a fraction of the total number of packets\n",
        "5. Total number of packets.\n",
        "6. Packet rate\n",
        "7. Incoming packet rate (client to server)\n",
        "8. Outgoing packet rate (server to client)\n",
        "9. Average time gap\n",
        "10. Total incoming bytes\n",
        "11. Total outgoing bytes\n",
        "12. Total incoming bursts\n",
        "13. Total outgoing bursts\n",
        "14. Total bursts\n",
        "15. Average Inter-arrival time for incoming packets per sample\n",
        "16. Average inter-departure time for outgoing packets per sample\n",
        "17. Total burst duration\n",
        "\n"
      ]
    },
    {
      "cell_type": "code",
      "execution_count": null,
      "metadata": {
        "colab": {
          "base_uri": "https://localhost:8080/"
        },
        "id": "IoSK2qUtT7G2",
        "outputId": "cd950560-66ee-4374-ecfd-395559f3df45"
      },
      "outputs": [
        {
          "output_type": "stream",
          "name": "stdout",
          "text": [
            "Incoming Packets Array:\n",
            "[305, 36, 566, 515, 28, 214, 25, 188, 242, 942]\n",
            "\n",
            "Fraction of Incoming Packets Array:\n",
            "[0.11054729974628488, 0.17647058823529413, 0.056776005617413985, 0.16835567178816607, 0.1917808219178082, 0.12707838479809977, 0.09881422924901186, 0.10118406889128095, 0.05485040797824116, 0.15191098209966133]\n",
            "\n",
            "Outgoing Packets Array:\n",
            "[2454, 168, 9403, 2544, 118, 1470, 228, 1670, 4170, 5259]\n",
            "\n",
            "Fraction of Outgoing Packets Array:\n",
            "[0.8894527002537151, 0.8235294117647058, 0.943223994382586, 0.831644328211834, 0.8082191780821918, 0.8729216152019003, 0.9011857707509882, 0.898815931108719, 0.9451495920217589, 0.8480890179003386]\n"
          ]
        }
      ],
      "source": [
        "# 1. Number of incoming packets\n",
        "incoming_packets = [sum(1 for size in size_seq if size > 0) for size_seq in X2]\n",
        "\n",
        "# 2. Number of incoming packets as a fraction of the total number of packets\n",
        "fraction_incoming_packets = [sum(1 for size in size_seq if size > 0) / len(size_seq) for size_seq in X2]\n",
        "\n",
        "# 3. Number of outgoing packets\n",
        "outgoing_packets = [sum(1 for size in size_seq if size < 0) for size_seq in X2]\n",
        "\n",
        "# 4. Number of outgoing packets as a fraction of the total number of packets\n",
        "fraction_outgoing_packets = [sum(1 for size in size_seq if size < 0) / len(size_seq) for size_seq in X2]\n",
        "\n",
        "# Print first 10 values of the resulting arrays\n",
        "print(\"Incoming Packets Array:\")\n",
        "print(incoming_packets[:10])\n",
        "\n",
        "print(\"\\nFraction of Incoming Packets Array:\")\n",
        "print(fraction_incoming_packets[:10])\n",
        "\n",
        "print(\"\\nOutgoing Packets Array:\")\n",
        "print(outgoing_packets[:10])\n",
        "\n",
        "print(\"\\nFraction of Outgoing Packets Array:\")\n",
        "print(fraction_outgoing_packets[:10])"
      ]
    },
    {
      "cell_type": "code",
      "execution_count": null,
      "metadata": {
        "colab": {
          "base_uri": "https://localhost:8080/"
        },
        "id": "E_oBZbNJZ9_z",
        "outputId": "0338e33a-0f78-4ef9-baab-f7cd4057734d"
      },
      "outputs": [
        {
          "output_type": "stream",
          "name": "stdout",
          "text": [
            "Total Packets Array:\n",
            "[2759, 204, 9969, 3059, 146, 1684, 253, 1858, 4412, 6201]\n",
            "\n",
            "Packet Rate:\n",
            "[229.53410981697172, 3.248924988055423, 1296.3589076723017, 106.32603406326034, 4.439039221647917, 150.2230151650312, 68.75, 32.56221521205748, 332.9811320754717, 108.39014158363922]\n",
            "\n",
            "Incoming Packet Rate:\n",
            "[25.374376039933445, 0.5733397037744864, 73.60208062418725, 17.900590893291625, 0.8513225904530253, 19.09009812667261, 6.7934782608695645, 3.2947774272695405, 18.264150943396228, 16.46565285789198]\n",
            "\n",
            "Outgoing Packet Rate:\n",
            "[204.15973377703827, 2.6755852842809364, 1222.7568270481145, 88.42544316996872, 3.587716631194892, 131.13291703835858, 61.95652173913043, 29.26743778478794, 314.7169811320755, 91.92448872574725]\n"
          ]
        }
      ],
      "source": [
        "# 5. Total number of packets\n",
        "total_packets = [len(size_seq) for size_seq in X2]\n",
        "\n",
        "# 6. Packet Rate: Calculate the rate of packet arrival for each sequence\n",
        "packet_rate = [len(seq) / (max(seq) - min(seq)) if len(seq) > 1 else 0 for seq in X1]\n",
        "\n",
        "# 7. Incoming packet rate (client to server)\n",
        "incoming_packet_rate = [sum(1 for size in sizes if size > 0) / (max(seq) - min(seq)) if len(seq) > 1 else 0 for seq, sizes in zip(X1, X2)]\n",
        "\n",
        "# 8. Outgoing packet rate (server to client)\n",
        "outgoing_packet_rate = [sum(1 for size in sizes if size < 0) / (max(seq) - min(seq)) if len(seq) > 1 else 0 for seq, sizes in zip(X1, X2)]\n",
        "\n",
        "print(\"Total Packets Array:\")\n",
        "print(total_packets[:10])\n",
        "\n",
        "print(\"\\nPacket Rate:\")\n",
        "print(packet_rate[:10])\n",
        "\n",
        "print(\"\\nIncoming Packet Rate:\")\n",
        "print(incoming_packet_rate[:10])\n",
        "\n",
        "print(\"\\nOutgoing Packet Rate:\")\n",
        "print(outgoing_packet_rate[:10])"
      ]
    },
    {
      "cell_type": "code",
      "execution_count": null,
      "metadata": {
        "colab": {
          "base_uri": "https://localhost:8080/"
        },
        "id": "gtngxnPAb01q",
        "outputId": "2a55869c-50ee-4616-d8f9-8b59fe7b28be"
      },
      "outputs": [
        {
          "output_type": "stream",
          "name": "stdout",
          "text": [
            "\n",
            "Average Time Gaps:\n",
            "[0.004358230601885424, 0.3093103448275862, 0.0007714686998394864, 0.009408109875735775, 0.22682758620689655, 0.006660724896019014, 0.014603174603174604, 0.03072697899838449, 0.003003854001360236, 0.00922741935483871]\n"
          ]
        }
      ],
      "source": [
        "# 9. Average Time Gap: Calculate the average time gap for each sequence in X1\n",
        "avg_time_gaps = []\n",
        "\n",
        "for seq in X1:\n",
        "    if len(seq) > 1:\n",
        "        time_gaps_sum = sum(j - i for i, j in zip(seq, seq[1:]))\n",
        "        avg_time_gap = time_gaps_sum / (len(seq) - 1)  # Subtract 1 because there are len(seq) - 1 time gaps\n",
        "        avg_time_gaps.append(avg_time_gap)\n",
        "    else:\n",
        "        avg_time_gaps.append(0)\n",
        "\n",
        "print(\"\\nAverage Time Gaps:\")\n",
        "print(avg_time_gaps[:10])"
      ]
    },
    {
      "cell_type": "code",
      "source": [
        "# 10. & 11. Total incoming and outgoing bytes\n",
        "incoming_bytes = []\n",
        "outgoing_bytes = []\n",
        "\n",
        "for sample in X2:\n",
        "    incoming = sum(size for size in sample if size > 0)\n",
        "    outgoing = abs(sum(size for size in sample if size < 0))\n",
        "\n",
        "    incoming_bytes.append(incoming)\n",
        "    outgoing_bytes.append(outgoing)\n",
        "\n",
        "# Print total incoming and outgoing bytes for the first 10 samples\n",
        "print(f'Incoming Bytes: {incoming_bytes[:10]}')\n",
        "print(f'Outgoing Bytes: {outgoing_bytes[:10]}')"
      ],
      "metadata": {
        "colab": {
          "base_uri": "https://localhost:8080/"
        },
        "id": "YWhjePw_TQQM",
        "outputId": "9b89e08d-fa57-492f-892d-98ff87c46994"
      },
      "execution_count": null,
      "outputs": [
        {
          "output_type": "stream",
          "name": "stdout",
          "text": [
            "Incoming Bytes: [156160, 18432, 289792, 263680, 14336, 109568, 12800, 96256, 123904, 482304]\n",
            "Outgoing Bytes: [1256448, 86016, 4814336, 1302528, 60416, 752640, 116736, 855040, 2135040, 2692608]\n"
          ]
        }
      ]
    },
    {
      "cell_type": "code",
      "source": [
        "# 12. & 13. Number of incoming and outgoing burst\n",
        "\n",
        "total_incoming_bursts = []\n",
        "total_outgoing_bursts = []\n",
        "\n",
        "# Calculate total number of incoming and outgoing bursts for all samples\n",
        "for sample in seq_of_bursts:\n",
        "  incoming_bursts = sum(1 for val in sample if val > 0)\n",
        "  outgoing_bursts = sum(1 for val in sample if val < 0)\n",
        "\n",
        "  total_incoming_bursts.append(incoming_bursts)\n",
        "  total_outgoing_bursts.append(outgoing_bursts)\n",
        "\n",
        "# 14. Calculate burst count for each sample\n",
        "burst_count = [len(bursts) for bursts in seq_of_bursts]\n",
        "\n",
        "# Print total incoming and outgoing bursts for first 10 samples\n",
        "print(f\"Total Incoming Bursts: {total_incoming_bursts[:10]}\")\n",
        "print(f\"Total Outgoing Bursts: {total_outgoing_bursts[:10]}\")\n",
        "print(f\"Burst Count: {burst_count[:10]}\")\n",
        "\n"
      ],
      "metadata": {
        "colab": {
          "base_uri": "https://localhost:8080/"
        },
        "id": "qE_p_eExYfO9",
        "outputId": "00570d01-ad5f-4bff-c1db-427b2285fe2d"
      },
      "execution_count": null,
      "outputs": [
        {
          "output_type": "stream",
          "name": "stdout",
          "text": [
            "Total Incoming Bursts: [144, 21, 339, 167, 12, 108, 15, 92, 164, 330]\n",
            "Total Outgoing Bursts: [145, 22, 340, 168, 13, 108, 16, 92, 164, 330]\n",
            "Burst Count: [289, 43, 679, 335, 25, 216, 31, 184, 328, 660]\n"
          ]
        }
      ]
    },
    {
      "cell_type": "code",
      "source": [
        "# 15. Calculate average inter-arrival time for incoming packets per sample\n",
        "avg_interarrival_times = []\n",
        "\n",
        "for idx, (sample_packets, sample_directions) in enumerate(zip(X1, X2)):\n",
        "    incoming_packet_times = []\n",
        "\n",
        "    # Filter incoming packets based on positive direction values\n",
        "    incoming_packet_times = [packet_time for packet_time, direction in zip(sample_packets, sample_directions) if direction > 0]\n",
        "\n",
        "    if len(incoming_packet_times) <= 1:\n",
        "        # If only one or no incoming packet in the sample, assign 0 average inter-arrival time\n",
        "        avg_interarrival_times.append(0)\n",
        "    else:\n",
        "        # Calculate inter-arrival times between incoming packets\n",
        "        interarrival_times = [incoming_packet_times[i + 1] - incoming_packet_times[i] for i in range(len(incoming_packet_times) - 1)]\n",
        "\n",
        "        # Compute the average inter-arrival time for incoming packets\n",
        "        avg_interarrival_time = sum(interarrival_times) / len(interarrival_times)\n",
        "        avg_interarrival_times.append(avg_interarrival_time)\n",
        "\n",
        "# Print average inter-arrival time for incoming packets per sample\n",
        "print(\"Average inter-arrival time for incoming packets per sample:\")\n",
        "for i, avg_interarrival_time in enumerate(avg_interarrival_times[:10], start=1):\n",
        "    print(f\"Sample {i}: {avg_interarrival_time}\")\n"
      ],
      "metadata": {
        "colab": {
          "base_uri": "https://localhost:8080/"
        },
        "id": "-enbabn_aG_S",
        "outputId": "a1239628-5c0b-44ab-fb6f-c64efeb7489f"
      },
      "execution_count": null,
      "outputs": [
        {
          "output_type": "stream",
          "name": "stdout",
          "text": [
            "Average inter-arrival time for incoming packets per sample:\n",
            "Sample 1: 0.03888157894736842\n",
            "Sample 2: 1.7794285714285714\n",
            "Sample 3: 0.013433628318584072\n",
            "Sample 4: 0.0407976653696498\n",
            "Sample 5: 0.4822222222222222\n",
            "Sample 6: 0.0515962441314554\n",
            "Sample 7: 0.13583333333333333\n",
            "Sample 8: 0.30406417112299466\n",
            "Sample 9: 0.054315352697095434\n",
            "Sample 10: 0.06038257173219979\n"
          ]
        }
      ]
    },
    {
      "cell_type": "code",
      "source": [
        "# 16. Calculate average inter-departure time for outgoing packets per sample\n",
        "avg_interdepart_times = []\n",
        "\n",
        "for idx, (sample_packets, sample_directions) in enumerate(zip(X1, X2)):\n",
        "    outcoming_packet_times = []\n",
        "\n",
        "    # Filter outgoing packets based on negative direction values\n",
        "    outcoming_packet_times = [packet_time for packet_time, direction in zip(sample_packets, sample_directions) if direction < 0]\n",
        "\n",
        "    if len(outcoming_packet_times) <= 1:\n",
        "        # If only one or no outgoing packet in the sample, assign 0 average inter-depart time\n",
        "        avg_interdepart_times.append(0)\n",
        "    else:\n",
        "        # Calculate inter-departure times between outgoing packets\n",
        "        interdepart_times = [outcoming_packet_times[i + 1] - outcoming_packet_times[i] for i in range(len(outcoming_packet_times) - 1)]\n",
        "\n",
        "        # Compute the average inter-depart time for outgoing packets\n",
        "        avg_interdepart_time = sum(interdepart_times) / len(interdepart_times)\n",
        "        avg_interdepart_times.append(avg_interdepart_time)\n",
        "\n",
        "# Print average inter-depart time for outgoing packets per sample\n",
        "print(\"Average inter-departure time for outgoing packets per sample:\")\n",
        "for i, avg_interdepart_time in enumerate(avg_interdepart_times[:10], start=1):\n",
        "    print(f\"Sample {i}: {avg_interdepart_time}\")\n"
      ],
      "metadata": {
        "colab": {
          "base_uri": "https://localhost:8080/"
        },
        "id": "tUrCIrXRiDiq",
        "outputId": "a6679cc4-a3ee-4f96-8223-4931db51cd5b"
      },
      "execution_count": null,
      "outputs": [
        {
          "output_type": "stream",
          "name": "stdout",
          "text": [
            "Average inter-departure time for outgoing packets per sample:\n",
            "Sample 1: 0.004900122299225438\n",
            "Sample 2: 0.3759880239520958\n",
            "Sample 3: 0.0008179110827483514\n",
            "Sample 4: 0.011313409359024773\n",
            "Sample 5: 0.2811111111111111\n",
            "Sample 6: 0.007562968005445881\n",
            "Sample 7: 0.01621145374449339\n",
            "Sample 8: 0.006411024565608148\n",
            "Sample 9: 0.002067642120412569\n",
            "Sample 10: 0.008818942563712438\n"
          ]
        }
      ]
    },
    {
      "cell_type": "code",
      "source": [
        "# 17. Total burst duration\n",
        "total_burst_duration = [sum(duration) for duration in burst_duration]\n",
        "print(total_burst_duration[:10])"
      ],
      "metadata": {
        "colab": {
          "base_uri": "https://localhost:8080/"
        },
        "id": "OETtb0FqHi4T",
        "outputId": "6b2cdcce-ecef-4906-9499-b2e45460e67b"
      },
      "execution_count": null,
      "outputs": [
        {
          "output_type": "stream",
          "name": "stdout",
          "text": [
            "[3.1399999999999983, 1.0599999999999956, 2.600000000000005, 8.77, 1.1200000000000006, 3.749999999999998, 0.99, 50.339999999999996, 8.120000000000001, 28.189999999999998]\n"
          ]
        }
      ]
    },
    {
      "cell_type": "markdown",
      "metadata": {
        "id": "lJGbc-CLVQio"
      },
      "source": [
        "### 3a. Model Training\n"
      ]
    },
    {
      "cell_type": "code",
      "execution_count": null,
      "metadata": {
        "id": "gwZxOm6MVVJh"
      },
      "outputs": [],
      "source": [
        "X = [\n",
        "    incoming_packets,\n",
        "    fraction_incoming_packets,\n",
        "    outgoing_packets,\n",
        "    fraction_outgoing_packets,\n",
        "    total_packets,\n",
        "    packet_rate,\n",
        "    incoming_packet_rate,\n",
        "    outgoing_packet_rate,\n",
        "    avg_time_gaps,\n",
        "    # incoming_bytes,\n",
        "    # outgoing_bytes,\n",
        "    # total_incoming_bursts,\n",
        "    # total_outgoing_bursts,\n",
        "    # burst_count,\n",
        "    # avg_interarrival_times,\n",
        "    # avg_interdepart_times,\n",
        "    # total_burst_duration\n",
        "]\n",
        "\n",
        "# total_packets: 0.08391385637928211\n",
        "# fraction_incoming_packets: 0.07525438164233617\n",
        "# outgoing_packets: 0.07397300171079065\n",
        "# fraction_outgoing_packets: 0.07302431700858097\n",
        "# outgoing_bytes: 0.07264166480526325\n",
        "# incoming_bytes: 0.06342574766295982\n",
        "# incoming_packets: 0.06198666583613548\n",
        "# total_burst_duration: 0.05929302192406632\n",
        "# burst_count: 0.05624511174559692\n",
        "# total_outgoing_bursts: 0.05452631240160152\n",
        "# total_incoming_bursts: 0.05417409771603582\n",
        "# avg_interarrival_times: 0.051337481385899435\n",
        "# avg_interdepart_times: 0.04994909975727552\n",
        "# incoming_packet_rate: 0.047878438278210256\n",
        "# outgoing_packet_rate: 0.04129542002349407\n",
        "# packet_rate: 0.040831661921218544\n",
        "# avg_time_gaps: 0.04024971980125318\n",
        "\n",
        "# Transpose the feature matrix X to have samples as rows and features as columns\n",
        "X = np.array(X).T\n",
        "\n",
        "y = np.array(y)"
      ]
    },
    {
      "cell_type": "code",
      "execution_count": null,
      "metadata": {
        "id": "e0GXhG1Ic7Mf",
        "colab": {
          "base_uri": "https://localhost:8080/",
          "height": 74
        },
        "outputId": "2a2fcadd-8d78-42a9-db52-bd4750a2d9ff"
      },
      "outputs": [
        {
          "output_type": "execute_result",
          "data": {
            "text/plain": [
              "SVC(random_state=42)"
            ],
            "text/html": [
              "<style>#sk-container-id-1 {color: black;background-color: white;}#sk-container-id-1 pre{padding: 0;}#sk-container-id-1 div.sk-toggleable {background-color: white;}#sk-container-id-1 label.sk-toggleable__label {cursor: pointer;display: block;width: 100%;margin-bottom: 0;padding: 0.3em;box-sizing: border-box;text-align: center;}#sk-container-id-1 label.sk-toggleable__label-arrow:before {content: \"▸\";float: left;margin-right: 0.25em;color: #696969;}#sk-container-id-1 label.sk-toggleable__label-arrow:hover:before {color: black;}#sk-container-id-1 div.sk-estimator:hover label.sk-toggleable__label-arrow:before {color: black;}#sk-container-id-1 div.sk-toggleable__content {max-height: 0;max-width: 0;overflow: hidden;text-align: left;background-color: #f0f8ff;}#sk-container-id-1 div.sk-toggleable__content pre {margin: 0.2em;color: black;border-radius: 0.25em;background-color: #f0f8ff;}#sk-container-id-1 input.sk-toggleable__control:checked~div.sk-toggleable__content {max-height: 200px;max-width: 100%;overflow: auto;}#sk-container-id-1 input.sk-toggleable__control:checked~label.sk-toggleable__label-arrow:before {content: \"▾\";}#sk-container-id-1 div.sk-estimator input.sk-toggleable__control:checked~label.sk-toggleable__label {background-color: #d4ebff;}#sk-container-id-1 div.sk-label input.sk-toggleable__control:checked~label.sk-toggleable__label {background-color: #d4ebff;}#sk-container-id-1 input.sk-hidden--visually {border: 0;clip: rect(1px 1px 1px 1px);clip: rect(1px, 1px, 1px, 1px);height: 1px;margin: -1px;overflow: hidden;padding: 0;position: absolute;width: 1px;}#sk-container-id-1 div.sk-estimator {font-family: monospace;background-color: #f0f8ff;border: 1px dotted black;border-radius: 0.25em;box-sizing: border-box;margin-bottom: 0.5em;}#sk-container-id-1 div.sk-estimator:hover {background-color: #d4ebff;}#sk-container-id-1 div.sk-parallel-item::after {content: \"\";width: 100%;border-bottom: 1px solid gray;flex-grow: 1;}#sk-container-id-1 div.sk-label:hover label.sk-toggleable__label {background-color: #d4ebff;}#sk-container-id-1 div.sk-serial::before {content: \"\";position: absolute;border-left: 1px solid gray;box-sizing: border-box;top: 0;bottom: 0;left: 50%;z-index: 0;}#sk-container-id-1 div.sk-serial {display: flex;flex-direction: column;align-items: center;background-color: white;padding-right: 0.2em;padding-left: 0.2em;position: relative;}#sk-container-id-1 div.sk-item {position: relative;z-index: 1;}#sk-container-id-1 div.sk-parallel {display: flex;align-items: stretch;justify-content: center;background-color: white;position: relative;}#sk-container-id-1 div.sk-item::before, #sk-container-id-1 div.sk-parallel-item::before {content: \"\";position: absolute;border-left: 1px solid gray;box-sizing: border-box;top: 0;bottom: 0;left: 50%;z-index: -1;}#sk-container-id-1 div.sk-parallel-item {display: flex;flex-direction: column;z-index: 1;position: relative;background-color: white;}#sk-container-id-1 div.sk-parallel-item:first-child::after {align-self: flex-end;width: 50%;}#sk-container-id-1 div.sk-parallel-item:last-child::after {align-self: flex-start;width: 50%;}#sk-container-id-1 div.sk-parallel-item:only-child::after {width: 0;}#sk-container-id-1 div.sk-dashed-wrapped {border: 1px dashed gray;margin: 0 0.4em 0.5em 0.4em;box-sizing: border-box;padding-bottom: 0.4em;background-color: white;}#sk-container-id-1 div.sk-label label {font-family: monospace;font-weight: bold;display: inline-block;line-height: 1.2em;}#sk-container-id-1 div.sk-label-container {text-align: center;}#sk-container-id-1 div.sk-container {/* jupyter's `normalize.less` sets `[hidden] { display: none; }` but bootstrap.min.css set `[hidden] { display: none !important; }` so we also need the `!important` here to be able to override the default hidden behavior on the sphinx rendered scikit-learn.org. See: https://github.com/scikit-learn/scikit-learn/issues/21755 */display: inline-block !important;position: relative;}#sk-container-id-1 div.sk-text-repr-fallback {display: none;}</style><div id=\"sk-container-id-1\" class=\"sk-top-container\"><div class=\"sk-text-repr-fallback\"><pre>SVC(random_state=42)</pre><b>In a Jupyter environment, please rerun this cell to show the HTML representation or trust the notebook. <br />On GitHub, the HTML representation is unable to render, please try loading this page with nbviewer.org.</b></div><div class=\"sk-container\" hidden><div class=\"sk-item\"><div class=\"sk-estimator sk-toggleable\"><input class=\"sk-toggleable__control sk-hidden--visually\" id=\"sk-estimator-id-1\" type=\"checkbox\" checked><label for=\"sk-estimator-id-1\" class=\"sk-toggleable__label sk-toggleable__label-arrow\">SVC</label><div class=\"sk-toggleable__content\"><pre>SVC(random_state=42)</pre></div></div></div></div></div>"
            ]
          },
          "metadata": {},
          "execution_count": 20
        }
      ],
      "source": [
        "from sklearn.model_selection import train_test_split\n",
        "from sklearn.svm import SVC\n",
        "from sklearn.metrics import accuracy_score, classification_report\n",
        "\n",
        "# Split the data into training and testing sets\n",
        "X_train, X_test, y_train, y_test = train_test_split(X, y, test_size=0.25, random_state=42)\n",
        "\n",
        "# Create an SVM classifier\n",
        "svm = SVC(kernel='rbf', random_state=42)\n",
        "\n",
        "# Train the SVM model\n",
        "svm.fit(X_train, y_train)"
      ]
    },
    {
      "cell_type": "markdown",
      "metadata": {
        "id": "Dq0SWeV9dfuA"
      },
      "source": [
        "### 3b. Model Testing\n"
      ]
    },
    {
      "cell_type": "code",
      "execution_count": null,
      "metadata": {
        "id": "3v-t_cSPdDxn",
        "colab": {
          "base_uri": "https://localhost:8080/"
        },
        "outputId": "ced72e03-ee4c-4583-dd28-6078d3132e3a"
      },
      "outputs": [
        {
          "output_type": "stream",
          "name": "stdout",
          "text": [
            "Accuracy: 0.58\n",
            "              precision    recall  f1-score   support\n",
            "\n",
            "           0       0.57      0.64      0.60      1228\n",
            "           1       0.60      0.53      0.57      1272\n",
            "\n",
            "    accuracy                           0.58      2500\n",
            "   macro avg       0.59      0.59      0.58      2500\n",
            "weighted avg       0.59      0.58      0.58      2500\n",
            "\n"
          ]
        }
      ],
      "source": [
        "# Predict on the test set\n",
        "y_pred = svm.predict(X_test)\n",
        "\n",
        "# Evaluate the model\n",
        "accuracy = accuracy_score(y_test, y_pred)\n",
        "print(f\"Accuracy: {accuracy:.2f}\")\n",
        "\n",
        "# Get a classification report\n",
        "print(classification_report(y_test, y_pred))"
      ]
    },
    {
      "cell_type": "code",
      "source": [
        "from sklearn.model_selection import GridSearchCV\n",
        "\n",
        "# Define parameter search space\n",
        "param_grid = {'C': [0.1, 1, 10, 100, 1000],\n",
        "              'gamma': [0.1, 0.01, 0.001, 0.0001],\n",
        "              # 'gamma': [0.001, 0.0001],\n",
        "              'kernel': ['rbf']}\n",
        "\n",
        "grid = GridSearchCV(SVC(), param_grid, refit = True, verbose = 3)\n",
        "\n",
        "# Fit the model for grid search\n",
        "grid.fit(X_train, y_train)"
      ],
      "metadata": {
        "colab": {
          "base_uri": "https://localhost:8080/",
          "height": 1000
        },
        "id": "HXXpQlFqiY_w",
        "outputId": "28184cf6-b4da-41b3-efe9-5f1c528772ab"
      },
      "execution_count": null,
      "outputs": [
        {
          "output_type": "stream",
          "name": "stdout",
          "text": [
            "Fitting 5 folds for each of 20 candidates, totalling 100 fits\n",
            "[CV 1/5] END ......C=0.1, gamma=0.1, kernel=rbf;, score=0.503 total time=   1.9s\n",
            "[CV 2/5] END ......C=0.1, gamma=0.1, kernel=rbf;, score=0.503 total time=   1.8s\n",
            "[CV 3/5] END ......C=0.1, gamma=0.1, kernel=rbf;, score=0.503 total time=   1.9s\n",
            "[CV 4/5] END ......C=0.1, gamma=0.1, kernel=rbf;, score=0.503 total time=   1.9s\n",
            "[CV 5/5] END ......C=0.1, gamma=0.1, kernel=rbf;, score=0.503 total time=   1.8s\n",
            "[CV 1/5] END .....C=0.1, gamma=0.01, kernel=rbf;, score=0.503 total time=   3.4s\n",
            "[CV 2/5] END .....C=0.1, gamma=0.01, kernel=rbf;, score=0.503 total time=   3.5s\n",
            "[CV 3/5] END .....C=0.1, gamma=0.01, kernel=rbf;, score=0.505 total time=   1.9s\n",
            "[CV 4/5] END .....C=0.1, gamma=0.01, kernel=rbf;, score=0.506 total time=   1.9s\n",
            "[CV 5/5] END .....C=0.1, gamma=0.01, kernel=rbf;, score=0.506 total time=   1.9s\n",
            "[CV 1/5] END ....C=0.1, gamma=0.001, kernel=rbf;, score=0.527 total time=   2.0s\n",
            "[CV 2/5] END ....C=0.1, gamma=0.001, kernel=rbf;, score=0.537 total time=   2.0s\n",
            "[CV 3/5] END ....C=0.1, gamma=0.001, kernel=rbf;, score=0.544 total time=   3.5s\n",
            "[CV 4/5] END ....C=0.1, gamma=0.001, kernel=rbf;, score=0.535 total time=   3.3s\n",
            "[CV 5/5] END ....C=0.1, gamma=0.001, kernel=rbf;, score=0.517 total time=   2.0s\n",
            "[CV 1/5] END ...C=0.1, gamma=0.0001, kernel=rbf;, score=0.569 total time=   2.4s\n",
            "[CV 2/5] END ...C=0.1, gamma=0.0001, kernel=rbf;, score=0.589 total time=   2.3s\n",
            "[CV 3/5] END ...C=0.1, gamma=0.0001, kernel=rbf;, score=0.613 total time=   2.3s\n",
            "[CV 4/5] END ...C=0.1, gamma=0.0001, kernel=rbf;, score=0.580 total time=   3.5s\n",
            "[CV 5/5] END ...C=0.1, gamma=0.0001, kernel=rbf;, score=0.549 total time=   3.5s\n",
            "[CV 1/5] END ........C=1, gamma=0.1, kernel=rbf;, score=0.531 total time=   2.2s\n",
            "[CV 2/5] END ........C=1, gamma=0.1, kernel=rbf;, score=0.516 total time=   2.2s\n",
            "[CV 3/5] END ........C=1, gamma=0.1, kernel=rbf;, score=0.516 total time=   2.2s\n",
            "[CV 4/5] END ........C=1, gamma=0.1, kernel=rbf;, score=0.523 total time=   2.2s\n",
            "[CV 5/5] END ........C=1, gamma=0.1, kernel=rbf;, score=0.528 total time=   3.1s\n",
            "[CV 1/5] END .......C=1, gamma=0.01, kernel=rbf;, score=0.555 total time=   4.2s\n",
            "[CV 2/5] END .......C=1, gamma=0.01, kernel=rbf;, score=0.579 total time=   2.6s\n",
            "[CV 3/5] END .......C=1, gamma=0.01, kernel=rbf;, score=0.567 total time=   2.5s\n",
            "[CV 4/5] END .......C=1, gamma=0.01, kernel=rbf;, score=0.601 total time=   2.5s\n",
            "[CV 5/5] END .......C=1, gamma=0.01, kernel=rbf;, score=0.541 total time=   3.2s\n",
            "[CV 1/5] END ......C=1, gamma=0.001, kernel=rbf;, score=0.627 total time=   4.2s\n",
            "[CV 2/5] END ......C=1, gamma=0.001, kernel=rbf;, score=0.602 total time=   2.8s\n",
            "[CV 3/5] END ......C=1, gamma=0.001, kernel=rbf;, score=0.617 total time=   2.5s\n",
            "[CV 4/5] END ......C=1, gamma=0.001, kernel=rbf;, score=0.635 total time=   2.5s\n",
            "[CV 5/5] END ......C=1, gamma=0.001, kernel=rbf;, score=0.630 total time=   2.5s\n",
            "[CV 1/5] END .....C=1, gamma=0.0001, kernel=rbf;, score=0.632 total time=   3.5s\n",
            "[CV 2/5] END .....C=1, gamma=0.0001, kernel=rbf;, score=0.610 total time=   3.5s\n",
            "[CV 3/5] END .....C=1, gamma=0.0001, kernel=rbf;, score=0.641 total time=   2.5s\n",
            "[CV 4/5] END .....C=1, gamma=0.0001, kernel=rbf;, score=0.611 total time=   2.5s\n",
            "[CV 5/5] END .....C=1, gamma=0.0001, kernel=rbf;, score=0.630 total time=   2.4s\n",
            "[CV 1/5] END .......C=10, gamma=0.1, kernel=rbf;, score=0.535 total time=   2.1s\n",
            "[CV 2/5] END .......C=10, gamma=0.1, kernel=rbf;, score=0.521 total time=   4.1s\n",
            "[CV 3/5] END .......C=10, gamma=0.1, kernel=rbf;, score=0.518 total time=   3.5s\n",
            "[CV 4/5] END .......C=10, gamma=0.1, kernel=rbf;, score=0.527 total time=   2.1s\n",
            "[CV 5/5] END .......C=10, gamma=0.1, kernel=rbf;, score=0.529 total time=   2.1s\n",
            "[CV 1/5] END ......C=10, gamma=0.01, kernel=rbf;, score=0.561 total time=   2.0s\n",
            "[CV 2/5] END ......C=10, gamma=0.01, kernel=rbf;, score=0.579 total time=   2.2s\n",
            "[CV 3/5] END ......C=10, gamma=0.01, kernel=rbf;, score=0.569 total time=   3.4s\n",
            "[CV 4/5] END ......C=10, gamma=0.01, kernel=rbf;, score=0.597 total time=   4.1s\n",
            "[CV 5/5] END ......C=10, gamma=0.01, kernel=rbf;, score=0.542 total time=   2.2s\n",
            "[CV 1/5] END .....C=10, gamma=0.001, kernel=rbf;, score=0.624 total time=   2.6s\n",
            "[CV 2/5] END .....C=10, gamma=0.001, kernel=rbf;, score=0.595 total time=   2.5s\n",
            "[CV 3/5] END .....C=10, gamma=0.001, kernel=rbf;, score=0.604 total time=   2.7s\n",
            "[CV 4/5] END .....C=10, gamma=0.001, kernel=rbf;, score=0.633 total time=   5.1s\n",
            "[CV 5/5] END .....C=10, gamma=0.001, kernel=rbf;, score=0.625 total time=   3.1s\n",
            "[CV 1/5] END ....C=10, gamma=0.0001, kernel=rbf;, score=0.611 total time=   2.9s\n",
            "[CV 2/5] END ....C=10, gamma=0.0001, kernel=rbf;, score=0.602 total time=   2.9s\n",
            "[CV 3/5] END ....C=10, gamma=0.0001, kernel=rbf;, score=0.645 total time=   3.5s\n",
            "[CV 4/5] END ....C=10, gamma=0.0001, kernel=rbf;, score=0.620 total time=   4.7s\n",
            "[CV 5/5] END ....C=10, gamma=0.0001, kernel=rbf;, score=0.623 total time=   3.0s\n",
            "[CV 1/5] END ......C=100, gamma=0.1, kernel=rbf;, score=0.535 total time=   2.1s\n",
            "[CV 2/5] END ......C=100, gamma=0.1, kernel=rbf;, score=0.521 total time=   2.1s\n",
            "[CV 3/5] END ......C=100, gamma=0.1, kernel=rbf;, score=0.518 total time=   2.1s\n",
            "[CV 4/5] END ......C=100, gamma=0.1, kernel=rbf;, score=0.527 total time=   3.4s\n",
            "[CV 5/5] END ......C=100, gamma=0.1, kernel=rbf;, score=0.529 total time=   3.8s\n",
            "[CV 1/5] END .....C=100, gamma=0.01, kernel=rbf;, score=0.584 total time=   2.3s\n",
            "[CV 2/5] END .....C=100, gamma=0.01, kernel=rbf;, score=0.580 total time=   2.2s\n",
            "[CV 3/5] END .....C=100, gamma=0.01, kernel=rbf;, score=0.565 total time=   2.3s\n",
            "[CV 4/5] END .....C=100, gamma=0.01, kernel=rbf;, score=0.599 total time=   2.3s\n",
            "[CV 5/5] END .....C=100, gamma=0.01, kernel=rbf;, score=0.597 total time=   3.6s\n",
            "[CV 1/5] END ....C=100, gamma=0.001, kernel=rbf;, score=0.619 total time=   4.4s\n",
            "[CV 2/5] END ....C=100, gamma=0.001, kernel=rbf;, score=0.591 total time=   2.8s\n",
            "[CV 3/5] END ....C=100, gamma=0.001, kernel=rbf;, score=0.604 total time=   3.5s\n",
            "[CV 4/5] END ....C=100, gamma=0.001, kernel=rbf;, score=0.633 total time=   3.5s\n",
            "[CV 5/5] END ....C=100, gamma=0.001, kernel=rbf;, score=0.629 total time=   5.0s\n",
            "[CV 1/5] END ...C=100, gamma=0.0001, kernel=rbf;, score=0.603 total time=   6.5s\n",
            "[CV 2/5] END ...C=100, gamma=0.0001, kernel=rbf;, score=0.602 total time=   7.2s\n",
            "[CV 3/5] END ...C=100, gamma=0.0001, kernel=rbf;, score=0.625 total time=   6.4s\n",
            "[CV 4/5] END ...C=100, gamma=0.0001, kernel=rbf;, score=0.625 total time=   5.6s\n",
            "[CV 5/5] END ...C=100, gamma=0.0001, kernel=rbf;, score=0.626 total time=   7.8s\n",
            "[CV 1/5] END .....C=1000, gamma=0.1, kernel=rbf;, score=0.535 total time=   2.1s\n",
            "[CV 2/5] END .....C=1000, gamma=0.1, kernel=rbf;, score=0.521 total time=   2.1s\n",
            "[CV 3/5] END .....C=1000, gamma=0.1, kernel=rbf;, score=0.519 total time=   2.2s\n",
            "[CV 4/5] END .....C=1000, gamma=0.1, kernel=rbf;, score=0.529 total time=   2.1s\n",
            "[CV 5/5] END .....C=1000, gamma=0.1, kernel=rbf;, score=0.529 total time=   3.7s\n",
            "[CV 1/5] END ....C=1000, gamma=0.01, kernel=rbf;, score=0.576 total time=   3.7s\n",
            "[CV 2/5] END ....C=1000, gamma=0.01, kernel=rbf;, score=0.580 total time=   2.4s\n",
            "[CV 3/5] END ....C=1000, gamma=0.01, kernel=rbf;, score=0.563 total time=   3.1s\n",
            "[CV 4/5] END ....C=1000, gamma=0.01, kernel=rbf;, score=0.593 total time=   2.4s\n",
            "[CV 5/5] END ....C=1000, gamma=0.01, kernel=rbf;, score=0.593 total time=   3.6s\n",
            "[CV 1/5] END ...C=1000, gamma=0.001, kernel=rbf;, score=0.621 total time=   5.4s\n",
            "[CV 2/5] END ...C=1000, gamma=0.001, kernel=rbf;, score=0.592 total time=   3.9s\n",
            "[CV 3/5] END ...C=1000, gamma=0.001, kernel=rbf;, score=0.595 total time=   6.5s\n",
            "[CV 4/5] END ...C=1000, gamma=0.001, kernel=rbf;, score=0.628 total time=   5.5s\n",
            "[CV 5/5] END ...C=1000, gamma=0.001, kernel=rbf;, score=0.633 total time=   4.0s\n",
            "[CV 1/5] END ..C=1000, gamma=0.0001, kernel=rbf;, score=0.605 total time=  29.3s\n",
            "[CV 2/5] END ..C=1000, gamma=0.0001, kernel=rbf;, score=0.601 total time=  32.3s\n",
            "[CV 3/5] END ..C=1000, gamma=0.0001, kernel=rbf;, score=0.609 total time=  29.9s\n",
            "[CV 4/5] END ..C=1000, gamma=0.0001, kernel=rbf;, score=0.618 total time=  26.1s\n",
            "[CV 5/5] END ..C=1000, gamma=0.0001, kernel=rbf;, score=0.614 total time=  28.8s\n"
          ]
        },
        {
          "output_type": "execute_result",
          "data": {
            "text/plain": [
              "GridSearchCV(estimator=SVC(),\n",
              "             param_grid={'C': [0.1, 1, 10, 100, 1000],\n",
              "                         'gamma': [0.1, 0.01, 0.001, 0.0001],\n",
              "                         'kernel': ['rbf']},\n",
              "             verbose=3)"
            ],
            "text/html": [
              "<style>#sk-container-id-2 {color: black;background-color: white;}#sk-container-id-2 pre{padding: 0;}#sk-container-id-2 div.sk-toggleable {background-color: white;}#sk-container-id-2 label.sk-toggleable__label {cursor: pointer;display: block;width: 100%;margin-bottom: 0;padding: 0.3em;box-sizing: border-box;text-align: center;}#sk-container-id-2 label.sk-toggleable__label-arrow:before {content: \"▸\";float: left;margin-right: 0.25em;color: #696969;}#sk-container-id-2 label.sk-toggleable__label-arrow:hover:before {color: black;}#sk-container-id-2 div.sk-estimator:hover label.sk-toggleable__label-arrow:before {color: black;}#sk-container-id-2 div.sk-toggleable__content {max-height: 0;max-width: 0;overflow: hidden;text-align: left;background-color: #f0f8ff;}#sk-container-id-2 div.sk-toggleable__content pre {margin: 0.2em;color: black;border-radius: 0.25em;background-color: #f0f8ff;}#sk-container-id-2 input.sk-toggleable__control:checked~div.sk-toggleable__content {max-height: 200px;max-width: 100%;overflow: auto;}#sk-container-id-2 input.sk-toggleable__control:checked~label.sk-toggleable__label-arrow:before {content: \"▾\";}#sk-container-id-2 div.sk-estimator input.sk-toggleable__control:checked~label.sk-toggleable__label {background-color: #d4ebff;}#sk-container-id-2 div.sk-label input.sk-toggleable__control:checked~label.sk-toggleable__label {background-color: #d4ebff;}#sk-container-id-2 input.sk-hidden--visually {border: 0;clip: rect(1px 1px 1px 1px);clip: rect(1px, 1px, 1px, 1px);height: 1px;margin: -1px;overflow: hidden;padding: 0;position: absolute;width: 1px;}#sk-container-id-2 div.sk-estimator {font-family: monospace;background-color: #f0f8ff;border: 1px dotted black;border-radius: 0.25em;box-sizing: border-box;margin-bottom: 0.5em;}#sk-container-id-2 div.sk-estimator:hover {background-color: #d4ebff;}#sk-container-id-2 div.sk-parallel-item::after {content: \"\";width: 100%;border-bottom: 1px solid gray;flex-grow: 1;}#sk-container-id-2 div.sk-label:hover label.sk-toggleable__label {background-color: #d4ebff;}#sk-container-id-2 div.sk-serial::before {content: \"\";position: absolute;border-left: 1px solid gray;box-sizing: border-box;top: 0;bottom: 0;left: 50%;z-index: 0;}#sk-container-id-2 div.sk-serial {display: flex;flex-direction: column;align-items: center;background-color: white;padding-right: 0.2em;padding-left: 0.2em;position: relative;}#sk-container-id-2 div.sk-item {position: relative;z-index: 1;}#sk-container-id-2 div.sk-parallel {display: flex;align-items: stretch;justify-content: center;background-color: white;position: relative;}#sk-container-id-2 div.sk-item::before, #sk-container-id-2 div.sk-parallel-item::before {content: \"\";position: absolute;border-left: 1px solid gray;box-sizing: border-box;top: 0;bottom: 0;left: 50%;z-index: -1;}#sk-container-id-2 div.sk-parallel-item {display: flex;flex-direction: column;z-index: 1;position: relative;background-color: white;}#sk-container-id-2 div.sk-parallel-item:first-child::after {align-self: flex-end;width: 50%;}#sk-container-id-2 div.sk-parallel-item:last-child::after {align-self: flex-start;width: 50%;}#sk-container-id-2 div.sk-parallel-item:only-child::after {width: 0;}#sk-container-id-2 div.sk-dashed-wrapped {border: 1px dashed gray;margin: 0 0.4em 0.5em 0.4em;box-sizing: border-box;padding-bottom: 0.4em;background-color: white;}#sk-container-id-2 div.sk-label label {font-family: monospace;font-weight: bold;display: inline-block;line-height: 1.2em;}#sk-container-id-2 div.sk-label-container {text-align: center;}#sk-container-id-2 div.sk-container {/* jupyter's `normalize.less` sets `[hidden] { display: none; }` but bootstrap.min.css set `[hidden] { display: none !important; }` so we also need the `!important` here to be able to override the default hidden behavior on the sphinx rendered scikit-learn.org. See: https://github.com/scikit-learn/scikit-learn/issues/21755 */display: inline-block !important;position: relative;}#sk-container-id-2 div.sk-text-repr-fallback {display: none;}</style><div id=\"sk-container-id-2\" class=\"sk-top-container\"><div class=\"sk-text-repr-fallback\"><pre>GridSearchCV(estimator=SVC(),\n",
              "             param_grid={&#x27;C&#x27;: [0.1, 1, 10, 100, 1000],\n",
              "                         &#x27;gamma&#x27;: [0.1, 0.01, 0.001, 0.0001],\n",
              "                         &#x27;kernel&#x27;: [&#x27;rbf&#x27;]},\n",
              "             verbose=3)</pre><b>In a Jupyter environment, please rerun this cell to show the HTML representation or trust the notebook. <br />On GitHub, the HTML representation is unable to render, please try loading this page with nbviewer.org.</b></div><div class=\"sk-container\" hidden><div class=\"sk-item sk-dashed-wrapped\"><div class=\"sk-label-container\"><div class=\"sk-label sk-toggleable\"><input class=\"sk-toggleable__control sk-hidden--visually\" id=\"sk-estimator-id-2\" type=\"checkbox\" ><label for=\"sk-estimator-id-2\" class=\"sk-toggleable__label sk-toggleable__label-arrow\">GridSearchCV</label><div class=\"sk-toggleable__content\"><pre>GridSearchCV(estimator=SVC(),\n",
              "             param_grid={&#x27;C&#x27;: [0.1, 1, 10, 100, 1000],\n",
              "                         &#x27;gamma&#x27;: [0.1, 0.01, 0.001, 0.0001],\n",
              "                         &#x27;kernel&#x27;: [&#x27;rbf&#x27;]},\n",
              "             verbose=3)</pre></div></div></div><div class=\"sk-parallel\"><div class=\"sk-parallel-item\"><div class=\"sk-item\"><div class=\"sk-label-container\"><div class=\"sk-label sk-toggleable\"><input class=\"sk-toggleable__control sk-hidden--visually\" id=\"sk-estimator-id-3\" type=\"checkbox\" ><label for=\"sk-estimator-id-3\" class=\"sk-toggleable__label sk-toggleable__label-arrow\">estimator: SVC</label><div class=\"sk-toggleable__content\"><pre>SVC()</pre></div></div></div><div class=\"sk-serial\"><div class=\"sk-item\"><div class=\"sk-estimator sk-toggleable\"><input class=\"sk-toggleable__control sk-hidden--visually\" id=\"sk-estimator-id-4\" type=\"checkbox\" ><label for=\"sk-estimator-id-4\" class=\"sk-toggleable__label sk-toggleable__label-arrow\">SVC</label><div class=\"sk-toggleable__content\"><pre>SVC()</pre></div></div></div></div></div></div></div></div></div></div>"
            ]
          },
          "metadata": {},
          "execution_count": 22
        }
      ]
    },
    {
      "cell_type": "code",
      "source": [
        "# Print best parameters after grid search\n",
        "print(grid.best_params_)\n",
        "print(grid.best_estimator_)"
      ],
      "metadata": {
        "colab": {
          "base_uri": "https://localhost:8080/"
        },
        "id": "pumIeUEfjPD-",
        "outputId": "ee26e125-cd29-46ec-aafe-6dbf11e43d13"
      },
      "execution_count": null,
      "outputs": [
        {
          "output_type": "stream",
          "name": "stdout",
          "text": [
            "{'C': 1, 'gamma': 0.0001, 'kernel': 'rbf'}\n",
            "SVC(C=1, gamma=0.0001)\n"
          ]
        }
      ]
    },
    {
      "cell_type": "code",
      "source": [
        "from sklearn.metrics import accuracy_score, recall_score, precision_score\n",
        "\n",
        "# Evaluate the model with the best parameters\n",
        "grid_pred = grid.predict(X_test)\n",
        "print(\"accuracy on test dataset: {}\".format(accuracy_score(y_test, grid_pred)))\n",
        "print(\"recall on test dataset: {}\".format(recall_score(y_test, grid_pred)))\n",
        "print(\"precision on test dataset: {}\".format(recall_score(y_test, grid_pred)))\n"
      ],
      "metadata": {
        "colab": {
          "base_uri": "https://localhost:8080/"
        },
        "id": "-gD2cv04jYmq",
        "outputId": "7290b9dc-ed57-4ad0-911a-47ac5874f050"
      },
      "execution_count": null,
      "outputs": [
        {
          "output_type": "stream",
          "name": "stdout",
          "text": [
            "accuracy on test dataset: 0.6336\n",
            "recall on test dataset: 0.6352201257861635\n",
            "precision on test dataset: 0.6352201257861635\n"
          ]
        }
      ]
    },
    {
      "cell_type": "code",
      "source": [
        "svm_test = SVC(kernel='rbf', C=1, gamma=0.001, random_state=42)\n",
        "\n",
        "svm_test.fit(X_train, y_train)\n",
        "\n",
        "# Predict on the test set\n",
        "y_pred_test = svm_test.predict(X_test)\n",
        "\n",
        "# Evaluate the model\n",
        "accuracy = accuracy_score(y_test, y_pred_test)\n",
        "print(f\"Accuracy: {accuracy:.2f}\")\n",
        "\n",
        "# Get a classification report\n",
        "print(classification_report(y_test, y_pred_test))"
      ],
      "metadata": {
        "colab": {
          "base_uri": "https://localhost:8080/"
        },
        "id": "b12w7f89htWp",
        "outputId": "7b2db6c5-054d-407a-f855-fc25a684ac1d"
      },
      "execution_count": null,
      "outputs": [
        {
          "output_type": "stream",
          "name": "stdout",
          "text": [
            "Accuracy: 0.63\n",
            "              precision    recall  f1-score   support\n",
            "\n",
            "           0       0.61      0.71      0.66      1228\n",
            "           1       0.67      0.55      0.60      1272\n",
            "\n",
            "    accuracy                           0.63      2500\n",
            "   macro avg       0.64      0.63      0.63      2500\n",
            "weighted avg       0.64      0.63      0.63      2500\n",
            "\n"
          ]
        }
      ]
    },
    {
      "cell_type": "markdown",
      "source": [
        "#### 4. Logistic Regression"
      ],
      "metadata": {
        "id": "fyM9Zq-WfKqn"
      }
    },
    {
      "cell_type": "code",
      "source": [
        "from sklearn.linear_model import LogisticRegression\n",
        "\n",
        "# Logistic Regression\n",
        "logreg = LogisticRegression(random_state=42)\n",
        "logreg.fit(X_train, y_train)"
      ],
      "metadata": {
        "id": "H05-AzS8EsI7",
        "colab": {
          "base_uri": "https://localhost:8080/",
          "height": 74
        },
        "outputId": "43fed4b4-490b-4058-90fa-2874bd657f73"
      },
      "execution_count": null,
      "outputs": [
        {
          "output_type": "execute_result",
          "data": {
            "text/plain": [
              "LogisticRegression(random_state=42)"
            ],
            "text/html": [
              "<style>#sk-container-id-3 {color: black;background-color: white;}#sk-container-id-3 pre{padding: 0;}#sk-container-id-3 div.sk-toggleable {background-color: white;}#sk-container-id-3 label.sk-toggleable__label {cursor: pointer;display: block;width: 100%;margin-bottom: 0;padding: 0.3em;box-sizing: border-box;text-align: center;}#sk-container-id-3 label.sk-toggleable__label-arrow:before {content: \"▸\";float: left;margin-right: 0.25em;color: #696969;}#sk-container-id-3 label.sk-toggleable__label-arrow:hover:before {color: black;}#sk-container-id-3 div.sk-estimator:hover label.sk-toggleable__label-arrow:before {color: black;}#sk-container-id-3 div.sk-toggleable__content {max-height: 0;max-width: 0;overflow: hidden;text-align: left;background-color: #f0f8ff;}#sk-container-id-3 div.sk-toggleable__content pre {margin: 0.2em;color: black;border-radius: 0.25em;background-color: #f0f8ff;}#sk-container-id-3 input.sk-toggleable__control:checked~div.sk-toggleable__content {max-height: 200px;max-width: 100%;overflow: auto;}#sk-container-id-3 input.sk-toggleable__control:checked~label.sk-toggleable__label-arrow:before {content: \"▾\";}#sk-container-id-3 div.sk-estimator input.sk-toggleable__control:checked~label.sk-toggleable__label {background-color: #d4ebff;}#sk-container-id-3 div.sk-label input.sk-toggleable__control:checked~label.sk-toggleable__label {background-color: #d4ebff;}#sk-container-id-3 input.sk-hidden--visually {border: 0;clip: rect(1px 1px 1px 1px);clip: rect(1px, 1px, 1px, 1px);height: 1px;margin: -1px;overflow: hidden;padding: 0;position: absolute;width: 1px;}#sk-container-id-3 div.sk-estimator {font-family: monospace;background-color: #f0f8ff;border: 1px dotted black;border-radius: 0.25em;box-sizing: border-box;margin-bottom: 0.5em;}#sk-container-id-3 div.sk-estimator:hover {background-color: #d4ebff;}#sk-container-id-3 div.sk-parallel-item::after {content: \"\";width: 100%;border-bottom: 1px solid gray;flex-grow: 1;}#sk-container-id-3 div.sk-label:hover label.sk-toggleable__label {background-color: #d4ebff;}#sk-container-id-3 div.sk-serial::before {content: \"\";position: absolute;border-left: 1px solid gray;box-sizing: border-box;top: 0;bottom: 0;left: 50%;z-index: 0;}#sk-container-id-3 div.sk-serial {display: flex;flex-direction: column;align-items: center;background-color: white;padding-right: 0.2em;padding-left: 0.2em;position: relative;}#sk-container-id-3 div.sk-item {position: relative;z-index: 1;}#sk-container-id-3 div.sk-parallel {display: flex;align-items: stretch;justify-content: center;background-color: white;position: relative;}#sk-container-id-3 div.sk-item::before, #sk-container-id-3 div.sk-parallel-item::before {content: \"\";position: absolute;border-left: 1px solid gray;box-sizing: border-box;top: 0;bottom: 0;left: 50%;z-index: -1;}#sk-container-id-3 div.sk-parallel-item {display: flex;flex-direction: column;z-index: 1;position: relative;background-color: white;}#sk-container-id-3 div.sk-parallel-item:first-child::after {align-self: flex-end;width: 50%;}#sk-container-id-3 div.sk-parallel-item:last-child::after {align-self: flex-start;width: 50%;}#sk-container-id-3 div.sk-parallel-item:only-child::after {width: 0;}#sk-container-id-3 div.sk-dashed-wrapped {border: 1px dashed gray;margin: 0 0.4em 0.5em 0.4em;box-sizing: border-box;padding-bottom: 0.4em;background-color: white;}#sk-container-id-3 div.sk-label label {font-family: monospace;font-weight: bold;display: inline-block;line-height: 1.2em;}#sk-container-id-3 div.sk-label-container {text-align: center;}#sk-container-id-3 div.sk-container {/* jupyter's `normalize.less` sets `[hidden] { display: none; }` but bootstrap.min.css set `[hidden] { display: none !important; }` so we also need the `!important` here to be able to override the default hidden behavior on the sphinx rendered scikit-learn.org. See: https://github.com/scikit-learn/scikit-learn/issues/21755 */display: inline-block !important;position: relative;}#sk-container-id-3 div.sk-text-repr-fallback {display: none;}</style><div id=\"sk-container-id-3\" class=\"sk-top-container\"><div class=\"sk-text-repr-fallback\"><pre>LogisticRegression(random_state=42)</pre><b>In a Jupyter environment, please rerun this cell to show the HTML representation or trust the notebook. <br />On GitHub, the HTML representation is unable to render, please try loading this page with nbviewer.org.</b></div><div class=\"sk-container\" hidden><div class=\"sk-item\"><div class=\"sk-estimator sk-toggleable\"><input class=\"sk-toggleable__control sk-hidden--visually\" id=\"sk-estimator-id-5\" type=\"checkbox\" checked><label for=\"sk-estimator-id-5\" class=\"sk-toggleable__label sk-toggleable__label-arrow\">LogisticRegression</label><div class=\"sk-toggleable__content\"><pre>LogisticRegression(random_state=42)</pre></div></div></div></div></div>"
            ]
          },
          "metadata": {},
          "execution_count": 26
        }
      ]
    },
    {
      "cell_type": "code",
      "source": [
        "# Model Testing\n",
        "y_pred = logreg.predict(X_test)\n",
        "accuracy = accuracy_score(y_test, y_pred)\n",
        "print(f\"Accuracy: {accuracy:.2f}\")\n",
        "print(classification_report(y_test, y_pred))"
      ],
      "metadata": {
        "id": "fA3s-rMhIPrt",
        "colab": {
          "base_uri": "https://localhost:8080/"
        },
        "outputId": "84b62f6d-98a0-4619-d533-8137c9e7a52c"
      },
      "execution_count": null,
      "outputs": [
        {
          "output_type": "stream",
          "name": "stdout",
          "text": [
            "Accuracy: 0.53\n",
            "              precision    recall  f1-score   support\n",
            "\n",
            "           0       0.51      0.60      0.55      1228\n",
            "           1       0.54      0.46      0.50      1272\n",
            "\n",
            "    accuracy                           0.53      2500\n",
            "   macro avg       0.53      0.53      0.52      2500\n",
            "weighted avg       0.53      0.53      0.52      2500\n",
            "\n"
          ]
        }
      ]
    },
    {
      "cell_type": "code",
      "source": [
        "# Grid Search for Hyperparameter Tuning\n",
        "from sklearn.model_selection import GridSearchCV\n",
        "\n",
        "param_grid = {'C': [0.1, 1, 10, 100, 1000, 10000]}\n",
        "grid = GridSearchCV(LogisticRegression(random_state=42), param_grid, cv=5)\n",
        "grid.fit(X_train, y_train)"
      ],
      "metadata": {
        "id": "h9PQqAl7EsKv",
        "colab": {
          "base_uri": "https://localhost:8080/",
          "height": 116
        },
        "outputId": "7fd6045b-21d2-466b-b175-e8ee972a169e"
      },
      "execution_count": null,
      "outputs": [
        {
          "output_type": "execute_result",
          "data": {
            "text/plain": [
              "GridSearchCV(cv=5, estimator=LogisticRegression(random_state=42),\n",
              "             param_grid={'C': [0.1, 1, 10, 100, 1000, 10000]})"
            ],
            "text/html": [
              "<style>#sk-container-id-4 {color: black;background-color: white;}#sk-container-id-4 pre{padding: 0;}#sk-container-id-4 div.sk-toggleable {background-color: white;}#sk-container-id-4 label.sk-toggleable__label {cursor: pointer;display: block;width: 100%;margin-bottom: 0;padding: 0.3em;box-sizing: border-box;text-align: center;}#sk-container-id-4 label.sk-toggleable__label-arrow:before {content: \"▸\";float: left;margin-right: 0.25em;color: #696969;}#sk-container-id-4 label.sk-toggleable__label-arrow:hover:before {color: black;}#sk-container-id-4 div.sk-estimator:hover label.sk-toggleable__label-arrow:before {color: black;}#sk-container-id-4 div.sk-toggleable__content {max-height: 0;max-width: 0;overflow: hidden;text-align: left;background-color: #f0f8ff;}#sk-container-id-4 div.sk-toggleable__content pre {margin: 0.2em;color: black;border-radius: 0.25em;background-color: #f0f8ff;}#sk-container-id-4 input.sk-toggleable__control:checked~div.sk-toggleable__content {max-height: 200px;max-width: 100%;overflow: auto;}#sk-container-id-4 input.sk-toggleable__control:checked~label.sk-toggleable__label-arrow:before {content: \"▾\";}#sk-container-id-4 div.sk-estimator input.sk-toggleable__control:checked~label.sk-toggleable__label {background-color: #d4ebff;}#sk-container-id-4 div.sk-label input.sk-toggleable__control:checked~label.sk-toggleable__label {background-color: #d4ebff;}#sk-container-id-4 input.sk-hidden--visually {border: 0;clip: rect(1px 1px 1px 1px);clip: rect(1px, 1px, 1px, 1px);height: 1px;margin: -1px;overflow: hidden;padding: 0;position: absolute;width: 1px;}#sk-container-id-4 div.sk-estimator {font-family: monospace;background-color: #f0f8ff;border: 1px dotted black;border-radius: 0.25em;box-sizing: border-box;margin-bottom: 0.5em;}#sk-container-id-4 div.sk-estimator:hover {background-color: #d4ebff;}#sk-container-id-4 div.sk-parallel-item::after {content: \"\";width: 100%;border-bottom: 1px solid gray;flex-grow: 1;}#sk-container-id-4 div.sk-label:hover label.sk-toggleable__label {background-color: #d4ebff;}#sk-container-id-4 div.sk-serial::before {content: \"\";position: absolute;border-left: 1px solid gray;box-sizing: border-box;top: 0;bottom: 0;left: 50%;z-index: 0;}#sk-container-id-4 div.sk-serial {display: flex;flex-direction: column;align-items: center;background-color: white;padding-right: 0.2em;padding-left: 0.2em;position: relative;}#sk-container-id-4 div.sk-item {position: relative;z-index: 1;}#sk-container-id-4 div.sk-parallel {display: flex;align-items: stretch;justify-content: center;background-color: white;position: relative;}#sk-container-id-4 div.sk-item::before, #sk-container-id-4 div.sk-parallel-item::before {content: \"\";position: absolute;border-left: 1px solid gray;box-sizing: border-box;top: 0;bottom: 0;left: 50%;z-index: -1;}#sk-container-id-4 div.sk-parallel-item {display: flex;flex-direction: column;z-index: 1;position: relative;background-color: white;}#sk-container-id-4 div.sk-parallel-item:first-child::after {align-self: flex-end;width: 50%;}#sk-container-id-4 div.sk-parallel-item:last-child::after {align-self: flex-start;width: 50%;}#sk-container-id-4 div.sk-parallel-item:only-child::after {width: 0;}#sk-container-id-4 div.sk-dashed-wrapped {border: 1px dashed gray;margin: 0 0.4em 0.5em 0.4em;box-sizing: border-box;padding-bottom: 0.4em;background-color: white;}#sk-container-id-4 div.sk-label label {font-family: monospace;font-weight: bold;display: inline-block;line-height: 1.2em;}#sk-container-id-4 div.sk-label-container {text-align: center;}#sk-container-id-4 div.sk-container {/* jupyter's `normalize.less` sets `[hidden] { display: none; }` but bootstrap.min.css set `[hidden] { display: none !important; }` so we also need the `!important` here to be able to override the default hidden behavior on the sphinx rendered scikit-learn.org. See: https://github.com/scikit-learn/scikit-learn/issues/21755 */display: inline-block !important;position: relative;}#sk-container-id-4 div.sk-text-repr-fallback {display: none;}</style><div id=\"sk-container-id-4\" class=\"sk-top-container\"><div class=\"sk-text-repr-fallback\"><pre>GridSearchCV(cv=5, estimator=LogisticRegression(random_state=42),\n",
              "             param_grid={&#x27;C&#x27;: [0.1, 1, 10, 100, 1000, 10000]})</pre><b>In a Jupyter environment, please rerun this cell to show the HTML representation or trust the notebook. <br />On GitHub, the HTML representation is unable to render, please try loading this page with nbviewer.org.</b></div><div class=\"sk-container\" hidden><div class=\"sk-item sk-dashed-wrapped\"><div class=\"sk-label-container\"><div class=\"sk-label sk-toggleable\"><input class=\"sk-toggleable__control sk-hidden--visually\" id=\"sk-estimator-id-6\" type=\"checkbox\" ><label for=\"sk-estimator-id-6\" class=\"sk-toggleable__label sk-toggleable__label-arrow\">GridSearchCV</label><div class=\"sk-toggleable__content\"><pre>GridSearchCV(cv=5, estimator=LogisticRegression(random_state=42),\n",
              "             param_grid={&#x27;C&#x27;: [0.1, 1, 10, 100, 1000, 10000]})</pre></div></div></div><div class=\"sk-parallel\"><div class=\"sk-parallel-item\"><div class=\"sk-item\"><div class=\"sk-label-container\"><div class=\"sk-label sk-toggleable\"><input class=\"sk-toggleable__control sk-hidden--visually\" id=\"sk-estimator-id-7\" type=\"checkbox\" ><label for=\"sk-estimator-id-7\" class=\"sk-toggleable__label sk-toggleable__label-arrow\">estimator: LogisticRegression</label><div class=\"sk-toggleable__content\"><pre>LogisticRegression(random_state=42)</pre></div></div></div><div class=\"sk-serial\"><div class=\"sk-item\"><div class=\"sk-estimator sk-toggleable\"><input class=\"sk-toggleable__control sk-hidden--visually\" id=\"sk-estimator-id-8\" type=\"checkbox\" ><label for=\"sk-estimator-id-8\" class=\"sk-toggleable__label sk-toggleable__label-arrow\">LogisticRegression</label><div class=\"sk-toggleable__content\"><pre>LogisticRegression(random_state=42)</pre></div></div></div></div></div></div></div></div></div></div>"
            ]
          },
          "metadata": {},
          "execution_count": 28
        }
      ]
    },
    {
      "cell_type": "code",
      "source": [
        "best_params = grid.best_params_\n",
        "print(best_params)"
      ],
      "metadata": {
        "id": "JfsvWOd3Ez22",
        "colab": {
          "base_uri": "https://localhost:8080/"
        },
        "outputId": "ee16a6be-3588-4c1e-9148-fbdbb57600e3"
      },
      "execution_count": null,
      "outputs": [
        {
          "output_type": "stream",
          "name": "stdout",
          "text": [
            "{'C': 0.1}\n"
          ]
        }
      ]
    },
    {
      "cell_type": "code",
      "source": [
        "grid_pred = grid.predict(X_test)\n",
        "print(\"accuracy on test dataset: {}\".format(accuracy_score(y_test, grid_pred)))\n",
        "print(\"recall on test dataset: {}\".format(recall_score(y_test, grid_pred)))\n",
        "print(\"precision on test dataset: {}\".format(recall_score(y_test, grid_pred)))"
      ],
      "metadata": {
        "colab": {
          "base_uri": "https://localhost:8080/"
        },
        "id": "RXXd31wYWylc",
        "outputId": "b7fce62f-9fae-45ad-be19-9c2b890e26ab"
      },
      "execution_count": null,
      "outputs": [
        {
          "output_type": "stream",
          "name": "stdout",
          "text": [
            "accuracy on test dataset: 0.5256\n",
            "recall on test dataset: 0.45754716981132076\n",
            "precision on test dataset: 0.45754716981132076\n"
          ]
        }
      ]
    },
    {
      "cell_type": "code",
      "source": [
        "from sklearn.linear_model import LogisticRegression\n",
        "from sklearn.metrics import accuracy_score, classification_report\n",
        "\n",
        "# New Logistic Regression Model with the best 'C' value we got from Grid Search\n",
        "best_c_value = 1.0\n",
        "logreg = LogisticRegression(C=best_c_value, random_state=42)\n",
        "\n",
        "# Train the model on the training data\n",
        "logreg.fit(X_train, y_train)\n",
        "\n",
        "# Predict on the test set\n",
        "y_pred = logreg.predict(X_test)\n",
        "\n",
        "# Evaluate the model\n",
        "accuracy = accuracy_score(y_test, y_pred)\n",
        "print(f\"Accuracy: {accuracy:.2f}\")\n",
        "\n",
        "# Get a classification report\n",
        "print(classification_report(y_test, y_pred))"
      ],
      "metadata": {
        "id": "Wx9WcQzvhc7k",
        "colab": {
          "base_uri": "https://localhost:8080/"
        },
        "outputId": "a115cb22-98cc-4482-b261-dd1a83621205"
      },
      "execution_count": null,
      "outputs": [
        {
          "output_type": "stream",
          "name": "stdout",
          "text": [
            "Accuracy: 0.53\n",
            "              precision    recall  f1-score   support\n",
            "\n",
            "           0       0.51      0.60      0.55      1228\n",
            "           1       0.54      0.46      0.50      1272\n",
            "\n",
            "    accuracy                           0.53      2500\n",
            "   macro avg       0.53      0.53      0.52      2500\n",
            "weighted avg       0.53      0.53      0.52      2500\n",
            "\n"
          ]
        }
      ]
    },
    {
      "cell_type": "code",
      "source": [
        "from sklearn.ensemble import RandomForestClassifier, GradientBoostingClassifier\n",
        "from sklearn.linear_model import LogisticRegression\n",
        "from sklearn.svm import SVC\n",
        "from sklearn.model_selection import train_test_split\n",
        "from sklearn.metrics import accuracy_score, classification_report\n",
        "from imblearn.over_sampling import SMOTE\n",
        "from sklearn.model_selection import cross_val_score\n",
        "from sklearn.preprocessing import StandardScaler\n",
        "import re\n",
        "\n",
        "results = {}\n",
        "\n",
        "# Assign labels '1' for monitored instances and '-1' for unmonitored instances\n",
        "y_binary = y #[1] * num_samples_to_keep + [-1] * num_samples_to_keep\n",
        "\n",
        "# Feature Scaling\n",
        "scaler = StandardScaler()\n",
        "X_scaled_binary = scaler.fit_transform(X)\n",
        "\n",
        "# Split the data into training and testing sets\n",
        "X_train_binary, X_test_binary, y_train_binary, y_test_binary = train_test_split(\n",
        "    X_scaled_binary, y_binary, test_size=0.25, random_state=42)\n",
        "\n",
        "# Define models\n",
        "models = {\n",
        "    'SVM': SVC(),\n",
        "    'RandomForest': RandomForestClassifier(),\n",
        "    'GradientBoosting': GradientBoostingClassifier(),\n",
        "    'LogisticRegression' : LogisticRegression()\n",
        "}\n",
        "\n",
        "# Iterate through models\n",
        "for model_name, model in models.items():\n",
        "    # Use GridSearchCV for hyperparameter tuning\n",
        "    param_grid = {}\n",
        "\n",
        "    if model_name == 'SVM':\n",
        "        param_grid = {'C': [0.1, 1, 10, 100],\n",
        "                      'gamma': [0.001, 0.01, 0.1, 1],\n",
        "                      'kernel': ['rbf']}\n",
        "    elif model_name == 'RandomForest':\n",
        "        param_grid = {'n_estimators': [50, 100, 200],\n",
        "                      'max_depth': [None, 10, 20],\n",
        "                      'min_samples_split': [2, 5, 10],\n",
        "                      'min_samples_leaf': [1, 2, 4]}\n",
        "    elif model_name == 'GradientBoosting':\n",
        "        param_grid = {'n_estimators': [50, 100, 200],\n",
        "                      'learning_rate': [0.01, 0.1, 0.2],\n",
        "                      'max_depth': [3, 5, 7]}\n",
        "    elif model_name == 'LogisticRegression':\n",
        "        param_grid = {'C': [0.1, 1, 10, 100],\n",
        "                      'penalty': ['l2']}\n",
        "\n",
        "    # Create GridSearchCV object\n",
        "    grid = GridSearchCV(model, param_grid, refit=True, verbose=3, n_jobs=-1)\n",
        "\n",
        "    # Use cross-validation to get more reliable performance estimates\n",
        "    cv_scores = cross_val_score(grid, X_train_binary, y_train_binary, cv=5)\n",
        "    print(f\"Cross-validated {model_name} Accuracy: {np.mean(cv_scores):.2f} (± {np.std(cv_scores):.2f})\")\n",
        "\n",
        "    # Train the model on the entire training set\n",
        "    grid.fit(X_train_binary, y_train_binary)\n",
        "\n",
        "    # Print the best parameters and estimator\n",
        "    print(f\"Best parameters for {model_name}: {grid.best_params_}\")\n",
        "    print(f\"Best estimator for {model_name}: {grid.best_estimator_}\")\n",
        "\n",
        "    # Predict on the test set\n",
        "    y_pred = grid.predict(X_test_binary)\n",
        "\n",
        "    # Evaluate the model\n",
        "    accuracy = accuracy_score(y_test_binary, y_pred)\n",
        "    print(f\"{model_name} Accuracy: {accuracy:.2f}\")\n",
        "    print(classification_report(y_test_binary, y_pred))\n",
        "\n",
        "    # Generate the classification report\n",
        "    class_report = classification_report(y_test_binary, y_pred)\n",
        "\n",
        "    # Parse the classification report and extract relevant metrics\n",
        "    lines = class_report.split('\\n')\n",
        "    classes = [re.search(r'\\s+(-?\\d+)\\s+', line).group(1) for line in lines if re.search(r'\\s+(-?\\d+)\\s+', line)]\n",
        "    precision, recall, f1_score, support = [], [], [], []\n",
        "\n",
        "    for line in lines[2:-5]:\n",
        "        values = re.findall(r'\\d+\\.\\d+|\\d+', line)\n",
        "        if len(values) >= 4:\n",
        "            precision.append(float(values[1]))\n",
        "            recall.append(float(values[2]))\n",
        "            f1_score.append(float(values[3]))\n",
        "            support.append(int(values[4]))\n",
        "\n",
        "    # Store results in the dictionary\n",
        "    results[model_name] = {\n",
        "        'precision': precision,\n",
        "        'recall': recall,\n",
        "        'f1_score': f1_score,\n",
        "        'overall_accuracy': accuracy,\n",
        "        'classification_report': class_report\n",
        "    }"
      ],
      "metadata": {
        "id": "_OvJiCdwIB-6",
        "colab": {
          "base_uri": "https://localhost:8080/"
        },
        "outputId": "a31ec0b3-bad1-4757-d0f7-7b43b3b6fa27"
      },
      "execution_count": null,
      "outputs": [
        {
          "output_type": "stream",
          "name": "stdout",
          "text": [
            "Fitting 5 folds for each of 16 candidates, totalling 80 fits\n",
            "Fitting 5 folds for each of 16 candidates, totalling 80 fits\n",
            "Fitting 5 folds for each of 16 candidates, totalling 80 fits\n",
            "Fitting 5 folds for each of 16 candidates, totalling 80 fits\n",
            "Fitting 5 folds for each of 16 candidates, totalling 80 fits\n",
            "Cross-validated SVM Accuracy: 0.63 (± 0.01)\n",
            "Fitting 5 folds for each of 16 candidates, totalling 80 fits\n",
            "Best parameters for SVM: {'C': 10, 'gamma': 1, 'kernel': 'rbf'}\n",
            "Best estimator for SVM: SVC(C=10, gamma=1)\n",
            "SVM Accuracy: 0.63\n",
            "              precision    recall  f1-score   support\n",
            "\n",
            "           0       0.62      0.63      0.62      1228\n",
            "           1       0.64      0.62      0.63      1272\n",
            "\n",
            "    accuracy                           0.63      2500\n",
            "   macro avg       0.63      0.63      0.63      2500\n",
            "weighted avg       0.63      0.63      0.63      2500\n",
            "\n",
            "Fitting 5 folds for each of 81 candidates, totalling 405 fits\n",
            "Fitting 5 folds for each of 81 candidates, totalling 405 fits\n",
            "Fitting 5 folds for each of 81 candidates, totalling 405 fits\n"
          ]
        }
      ]
    },
    {
      "cell_type": "code",
      "source": [
        "import matplotlib.pyplot as plt\n",
        "import numpy as np\n",
        "from sklearn.metrics import classification_report\n",
        "import re\n",
        "\n",
        "# Visualization code outside the loop\n",
        "for model_name, result in results.items():\n",
        "    precision = result['precision']\n",
        "    recall = result['recall']\n",
        "    f1_score = result['f1_score']\n",
        "    overall_accuracy = result['overall_accuracy']\n",
        "    classification_report_str = result['classification_report']\n",
        "\n",
        "    # Visualization code for each model\n",
        "    lines = classification_report_str.split('\\n')\n",
        "    classes = [re.search(r'\\s+(-?\\d+)\\s+', line).group(1) for line in lines if re.search(r'\\s+(-?\\d+)\\s+', line)]\n",
        "\n",
        "    fig, ax = plt.subplots(figsize=(10, 6))\n",
        "    bar_width = 0.2\n",
        "    index = np.arange(len(classes))\n",
        "\n",
        "    bar1 = ax.bar(index, precision, bar_width, label='Precision')\n",
        "    bar2 = ax.bar(index + bar_width, recall, bar_width, label='Recall')\n",
        "    bar3 = ax.bar(index + 2 * bar_width, f1_score, bar_width, label='F1-Score')\n",
        "\n",
        "    ax.axhline(y=overall_accuracy, color='r', linestyle='--', label='Overall Accuracy')\n",
        "\n",
        "    middle_position = index[-1] - 1.5 * bar_width\n",
        "    ax.text(middle_position, overall_accuracy + 0.02, f'Accuracy: {overall_accuracy:.2f}', ha='center', va='bottom', color='r')\n",
        "\n",
        "    ax.set_xlabel('Classes')\n",
        "    ax.set_ylabel('Scores')\n",
        "    ax.set_title(f'Classification Metrics - {model_name}')\n",
        "    ax.set_xticks(index + bar_width)\n",
        "    ax.set_xticklabels(classes)\n",
        "    ax.legend()\n",
        "\n",
        "    # Add values on top of the bars\n",
        "    for bars in [bar1, bar2, bar3]:\n",
        "        for bar, value in zip(bars, precision + recall + f1_score):\n",
        "            height = bar.get_height()\n",
        "            ax.text(bar.get_x() + bar.get_width() / 2, height, f'{value:.2f}', ha='center', va='bottom')\n",
        "\n",
        "    plt.show()"
      ],
      "metadata": {
        "id": "C6SrnKbnIkC0"
      },
      "execution_count": null,
      "outputs": []
    }
  ],
  "metadata": {
    "colab": {
      "provenance": [],
      "gpuType": "T4"
    },
    "kernelspec": {
      "display_name": "Python 3",
      "name": "python3"
    },
    "language_info": {
      "name": "python"
    },
    "accelerator": "GPU"
  },
  "nbformat": 4,
  "nbformat_minor": 0
}