{
  "nbformat": 4,
  "nbformat_minor": 0,
  "metadata": {
    "colab": {
      "provenance": []
    },
    "kernelspec": {
      "name": "python3",
      "display_name": "Python 3"
    },
    "language_info": {
      "name": "python"
    }
  },
  "cells": [
    {
      "cell_type": "markdown",
      "source": [
        "## Closed World (mon_standard.pkl)"
      ],
      "metadata": {
        "id": "v4Nl-Ne5L-WA"
      }
    },
    {
      "cell_type": "markdown",
      "source": [
        "### 1. Data Cleaning & Pre-processing\n",
        "\n",
        "**mon_standard.pkl**: This file contains data from \"monitored\" websites.\n",
        "\n",
        "   - Class count: 95\n",
        "\n",
        "   - Instance count: 19,000 (95 websites, each with 10 subpages which are non-index pages, observed 20 times each)\n",
        "\n"
      ],
      "metadata": {
        "id": "sgkuT368UDVv"
      }
    },
    {
      "cell_type": "code",
      "source": [
        "from google.colab import drive\n",
        "drive.mount('/content/drive')"
      ],
      "metadata": {
        "colab": {
          "base_uri": "https://localhost:8080/"
        },
        "id": "s6gsSBqcCs__",
        "outputId": "0e4a3e6c-4104-490e-c318-78564b4bc021"
      },
      "execution_count": null,
      "outputs": [
        {
          "output_type": "stream",
          "name": "stdout",
          "text": [
            "Mounted at /content/drive\n"
          ]
        }
      ]
    },
    {
      "cell_type": "code",
      "source": [
        "import pickle\n",
        "import numpy as np"
      ],
      "metadata": {
        "id": "WT6b-dzuCvcd"
      },
      "execution_count": null,
      "outputs": []
    },
    {
      "cell_type": "code",
      "source": [
        "# Load X1, X2, y\n",
        "\n",
        "# Load X1\n",
        "with open('/content/drive/My Drive/Machine Learning Project/CODES/X1.pkl', 'rb') as file:\n",
        "    X1 = pickle.load(file)\n",
        "\n",
        "# Load X2\n",
        "with open('/content/drive/My Drive/Machine Learning Project/CODES/X2.pkl', 'rb') as file:\n",
        "    X2 = pickle.load(file)\n",
        "\n",
        "# Load y\n",
        "with open('/content/drive/My Drive/Machine Learning Project/CODES/y.pkl', 'rb') as file:\n",
        "    y = pickle.load(file)"
      ],
      "metadata": {
        "id": "P__9vF8ECxi2"
      },
      "execution_count": null,
      "outputs": []
    },
    {
      "cell_type": "code",
      "source": [
        "import random\n",
        "\n",
        "num_samples_per_y = y.count(0)\n",
        "num_sample = int(num_samples_per_y/2)\n",
        "\n",
        "# Initialize lists to store sampled values\n",
        "sampled_X1 = []\n",
        "sampled_X2 = []\n",
        "sampled_y = []\n",
        "\n",
        "# Randomly sample num_sample values for each value of y\n",
        "unique_y_values = set(y)\n",
        "for val in unique_y_values:\n",
        "    indices_for_y = [idx for idx, value in enumerate(y) if value == val]  # Find indices corresponding to each value of y\n",
        "    sampled_indices = random.sample(indices_for_y, num_sample)  # Sample num_sample indices\n",
        "    sampled_X1.extend([X1[i] for i in sampled_indices])\n",
        "    sampled_X2.extend([X2[i] for i in sampled_indices])\n",
        "    sampled_y.extend([y[i] for i in sampled_indices])\n",
        "\n",
        "# Verify the lengths of sampled lists\n",
        "print(\"Sampled X1 length:\", len(sampled_X1))\n",
        "print(\"Sampled X2 length:\", len(sampled_X2))\n",
        "print(\"Sampled y length:\", len(sampled_y))\n"
      ],
      "metadata": {
        "colab": {
          "base_uri": "https://localhost:8080/"
        },
        "id": "Pc_I3bbQpMZN",
        "outputId": "9de59c19-93a4-449d-f3de-d90e5e438a0e"
      },
      "execution_count": null,
      "outputs": [
        {
          "output_type": "stream",
          "name": "stdout",
          "text": [
            "Sampled X1 length: 9500\n",
            "Sampled X2 length: 9500\n",
            "Sampled y length: 9500\n"
          ]
        }
      ]
    },
    {
      "cell_type": "code",
      "source": [
        "X1 = sampled_X1\n",
        "X2 = sampled_X2\n",
        "y = sampled_y"
      ],
      "metadata": {
        "id": "M-iQznvlC391"
      },
      "execution_count": null,
      "outputs": []
    },
    {
      "cell_type": "markdown",
      "source": [
        "### 2a. Feature Extraction (Continuous Features)\n",
        "\n",
        "1. Sequence of packet timestamps (X1)\n",
        "2. Sequence of packet sizes (X2)\n",
        "3. Sequence of cumulative packet sizes\n",
        "4. Sequence of bursts\n",
        "\n"
      ],
      "metadata": {
        "id": "tMBp1aYON7u7"
      }
    },
    {
      "cell_type": "markdown",
      "source": [
        "Continuous Feature 3: Sequence of Cumulative Packet Sizes"
      ],
      "metadata": {
        "id": "asqfZXLYDe-K"
      }
    },
    {
      "cell_type": "code",
      "source": [
        "# Compute the cumulative sum for each sequence\n",
        "cumulative_sizes = [np.cumsum(seq) for seq in X2]\n",
        "\n",
        "# Print the first 10 values of the cumulative sizes for the 1st element\n",
        "print(\"First 10 values of cumulative sizes:\")\n",
        "print(cumulative_sizes[0][:10])"
      ],
      "metadata": {
        "id": "TmyMa-qfBtPG",
        "colab": {
          "base_uri": "https://localhost:8080/"
        },
        "outputId": "264cf07c-7ec6-4e18-a4ed-b54d16fc364d"
      },
      "execution_count": null,
      "outputs": [
        {
          "output_type": "stream",
          "name": "stdout",
          "text": [
            "First 10 values of cumulative sizes:\n",
            "[ -512 -1024  -512 -1024  -512 -1024  -512     0  -512 -1024]\n"
          ]
        }
      ]
    },
    {
      "cell_type": "markdown",
      "source": [
        "Continuous Feature 4: Sequence of Bursts"
      ],
      "metadata": {
        "id": "YNawaHgnDtag"
      }
    },
    {
      "cell_type": "code",
      "source": [
        "def calculate_bursts_and_durations(X1, X2):\n",
        "    seq_of_bursts = []\n",
        "    burst_duration = []\n",
        "\n",
        "    for timestamps, sizes in zip(X1, X2):\n",
        "        burst = []\n",
        "        duration = []\n",
        "\n",
        "        current_size = 0\n",
        "        current_time = 0.0\n",
        "\n",
        "        time_start = 0.0\n",
        "\n",
        "        for time, size in zip(timestamps, sizes):\n",
        "          if current_size == 0 or (size > 0 and current_size > 0) or (size < 0 and current_size < 0):\n",
        "              current_size += size\n",
        "              current_time = time - time_start\n",
        "          else:\n",
        "              burst.append(current_size)\n",
        "              duration.append(current_time)\n",
        "              current_size = size\n",
        "              current_time = 0.0\n",
        "              time_start = time\n",
        "\n",
        "        burst.append(current_size)\n",
        "        duration.append(time-time_start)\n",
        "        seq_of_bursts.append(burst)\n",
        "        burst_duration.append(duration)\n",
        "\n",
        "    return burst_duration, seq_of_bursts\n",
        "\n",
        "burst_duration, seq_of_bursts = calculate_bursts_and_durations(X1, X2)\n",
        "\n",
        "print(burst_duration[0][:10])\n",
        "print(seq_of_bursts[0][:10])"
      ],
      "metadata": {
        "id": "pnhvsUz_Dyy_",
        "colab": {
          "base_uri": "https://localhost:8080/"
        },
        "outputId": "1809f0eb-97bf-43bd-c3d6-649353be32ac"
      },
      "execution_count": null,
      "outputs": [
        {
          "output_type": "stream",
          "name": "stdout",
          "text": [
            "[0.32, 0.0, 0.0, 0.0, 0.0, 0.0, 0.08000000000000007, 0.0, 0.0, 0.0]\n",
            "[-1024, 512, -512, 512, -512, 1024, -7168, 512, -512, 512]\n"
          ]
        }
      ]
    },
    {
      "cell_type": "code",
      "source": [
        "print(X1[0][:20])\n",
        "print(X2[0][:20])"
      ],
      "metadata": {
        "colab": {
          "base_uri": "https://localhost:8080/"
        },
        "id": "9vyMljXvu61_",
        "outputId": "58c06c57-21ab-4acf-a13b-9da81f37f4d0"
      },
      "execution_count": null,
      "outputs": [
        {
          "output_type": "stream",
          "name": "stdout",
          "text": [
            "[0.0, 0.32, 0.32, 0.5, 1.22, 1.42, 1.42, 1.42, 1.68, 1.68, 1.68, 1.68, 1.68, 1.68, 1.68, 1.76, 1.76, 1.76, 1.76, 1.76]\n",
            "[-512, -512, 512, -512, 512, -512, 512, 512, -512, -512, -512, -512, -512, -512, -512, -512, -512, -512, -512, -512]\n"
          ]
        }
      ]
    },
    {
      "cell_type": "markdown",
      "source": [
        "### 2b. Feature Extraction (Categorical Features)\n",
        "\n",
        "\n",
        "1. Number of incoming packets\n",
        "2. Number of incoming packets as a fraction of the total number of packets\n",
        "3. Number of outgoing packets\n",
        "4. Number of outgoing packets as a fraction of the total number of packets\n",
        "5. Total number of packets.\n",
        "6. Packet rate\n",
        "7. Incoming packet rate (client to server)\n",
        "8. Outgoing packet rate (server to client)\n",
        "9. Average time gap\n",
        "10. Total incoming bytes\n",
        "11. Total outgoing bytes\n",
        "12. Total incoming bursts\n",
        "13. Total outgoing bursts\n",
        "14. Total bursts\n",
        "15. Average Inter-arrival time for incoming packets per sample\n",
        "16. Average inter-departure time for outgoing packets per sample\n",
        "17. Total burst duration"
      ],
      "metadata": {
        "id": "v4HCd_RGOvh3"
      }
    },
    {
      "cell_type": "code",
      "source": [
        "# 1. Number of incoming packets\n",
        "incoming_packets = [sum(1 for size in size_seq if size > 0) for size_seq in X2]\n",
        "\n",
        "# 2. Number of incoming packets as a fraction of the total number of packets\n",
        "fraction_incoming_packets = [sum(1 for size in size_seq if size > 0) / len(size_seq) for size_seq in X2]\n",
        "\n",
        "# 3. Number of outgoing packets\n",
        "outgoing_packets = [sum(1 for size in size_seq if size < 0) for size_seq in X2]\n",
        "\n",
        "# 4. Number of outgoing packets as a fraction of the total number of packets\n",
        "fraction_outgoing_packets = [sum(1 for size in size_seq if size < 0) / len(size_seq) for size_seq in X2]\n",
        "\n",
        "# Print first 10 values of the resulting arrays\n",
        "print(\"Incoming Packets Array:\")\n",
        "print(incoming_packets[:10])\n",
        "\n",
        "print(\"\\nFraction of Incoming Packets Array:\")\n",
        "print(fraction_incoming_packets[:10])\n",
        "\n",
        "print(\"\\nOutgoing Packets Array:\")\n",
        "print(outgoing_packets[:10])\n",
        "\n",
        "print(\"\\nFraction of Outgoing Packets Array:\")\n",
        "print(fraction_outgoing_packets[:10])"
      ],
      "metadata": {
        "colab": {
          "base_uri": "https://localhost:8080/"
        },
        "id": "IoSK2qUtT7G2",
        "outputId": "2d712e63-fe44-4f4d-f86b-a287017423a9"
      },
      "execution_count": null,
      "outputs": [
        {
          "output_type": "stream",
          "name": "stdout",
          "text": [
            "Incoming Packets Array:\n",
            "[542, 1604, 1476, 146, 115, 175, 286, 632, 153, 1635]\n",
            "\n",
            "Fraction of Incoming Packets Array:\n",
            "[0.07457347275729224, 0.31624605678233436, 0.28935502842579885, 0.06457319770013269, 0.08115737473535639, 0.09820426487093153, 0.14644137224782386, 0.0635048231511254, 0.06790945406125166, 0.31545437005595217]\n",
            "\n",
            "Outgoing Packets Array:\n",
            "[6726, 3468, 3625, 2115, 1302, 1607, 1667, 9320, 2100, 3548]\n",
            "\n",
            "Fraction of Outgoing Packets Array:\n",
            "[0.9254265272427078, 0.6837539432176656, 0.7106449715742011, 0.9354268022998673, 0.9188426252646437, 0.9017957351290684, 0.8535586277521762, 0.9364951768488746, 0.9320905459387483, 0.6845456299440479]\n"
          ]
        }
      ]
    },
    {
      "cell_type": "code",
      "source": [
        "# 5. Total number of packets\n",
        "total_packets = [len(size_seq) for size_seq in X2]\n",
        "\n",
        "# 6. Packet Rate: Calculate the rate of packet arrival for each sequence\n",
        "packet_rate = [len(seq) / (max(seq) - min(seq)) if len(seq) > 1 else 0 for seq in X1]\n",
        "\n",
        "# 7. Incoming packet rate (client to server)\n",
        "incoming_packet_rate = [sum(1 for size in sizes if size > 0) / (max(seq) - min(seq)) if len(seq) > 1 else 0 for seq, sizes in zip(X1, X2)]\n",
        "\n",
        "# 8. Outgoing packet rate (server to client)\n",
        "outgoing_packet_rate = [sum(1 for size in sizes if size < 0) / (max(seq) - min(seq)) if len(seq) > 1 else 0 for seq, sizes in zip(X1, X2)]\n",
        "\n",
        "print(\"Total Packets Array:\")\n",
        "print(total_packets[:10])\n",
        "\n",
        "print(\"\\nPacket Rate:\")\n",
        "print(packet_rate[:10])\n",
        "\n",
        "print(\"\\nIncoming Packet Rate:\")\n",
        "print(incoming_packet_rate[:10])\n",
        "\n",
        "print(\"\\nOutgoing Packet Rate:\")\n",
        "print(outgoing_packet_rate[:10])"
      ],
      "metadata": {
        "colab": {
          "base_uri": "https://localhost:8080/"
        },
        "id": "E_oBZbNJZ9_z",
        "outputId": "029a9648-c62c-4a15-c577-de99115e35c7"
      },
      "execution_count": null,
      "outputs": [
        {
          "output_type": "stream",
          "name": "stdout",
          "text": [
            "Total Packets Array:\n",
            "[7268, 5072, 5101, 2261, 1417, 1782, 1953, 9952, 2253, 5183]\n",
            "\n",
            "Packet Rate:\n",
            "[521.0035842293908, 97.05319556065825, 90.26720934347904, 227.69385699899297, 133.05164319248826, 129.22407541696882, 55.95988538681949, 1181.9477434679336, 206.88705234159778, 260.84549572219424]\n",
            "\n",
            "Incoming Packet Rate:\n",
            "[38.85304659498208, 30.692690394182932, 26.11927092549991, 14.702920443101712, 10.7981220657277, 12.69035532994924, 8.194842406876791, 75.05938242280286, 14.049586776859503, 82.28485153497735]\n",
            "\n",
            "Outgoing Packet Rate:\n",
            "[482.15053763440864, 66.36050516647532, 64.14793841797912, 212.99093655589124, 122.25352112676056, 116.53372008701959, 47.7650429799427, 1106.8883610451308, 192.8374655647383, 178.5606441872169]\n"
          ]
        }
      ]
    },
    {
      "cell_type": "code",
      "source": [
        "# 9. Average Time Gap: Calculate the average time gap for each sequence in X1\n",
        "avg_time_gaps = []\n",
        "\n",
        "for seq in X1:\n",
        "    if len(seq) > 1:\n",
        "        time_gaps_sum = sum(j - i for i, j in zip(seq, seq[1:]))\n",
        "        avg_time_gap = time_gaps_sum / (len(seq) - 1)  # Subtract 1 because there are len(seq) - 1 time gaps\n",
        "        avg_time_gaps.append(avg_time_gap)\n",
        "    else:\n",
        "        avg_time_gaps.append(0)\n",
        "\n",
        "print(\"\\nAverage Time Gaps:\")\n",
        "print(avg_time_gaps[:10])"
      ],
      "metadata": {
        "id": "gtngxnPAb01q",
        "colab": {
          "base_uri": "https://localhost:8080/"
        },
        "outputId": "a695c94c-8d04-4f45-aca1-b91d09298eac"
      },
      "execution_count": null,
      "outputs": [
        {
          "output_type": "stream",
          "name": "stdout",
          "text": [
            "\n",
            "Average Time Gaps:\n",
            "[0.0019196367139122058, 0.010305659633208439, 0.011080392156862745, 0.004393805309734513, 0.007521186440677966, 0.0077428411005053335, 0.017879098360655737, 0.0008461461159682444, 0.004835701598579041, 0.003834426862215361]\n"
          ]
        }
      ]
    },
    {
      "cell_type": "code",
      "source": [
        "# 10. & 11. Total incoming and outgoing bytes\n",
        "incoming_bytes = []\n",
        "outgoing_bytes = []\n",
        "\n",
        "for sample in X2:\n",
        "    incoming = sum(size for size in sample if size > 0)\n",
        "    outgoing = abs(sum(size for size in sample if size < 0))\n",
        "\n",
        "    incoming_bytes.append(incoming)\n",
        "    outgoing_bytes.append(outgoing)\n",
        "\n",
        "# Print total incoming and outgoing bytes for the first 10 samples\n",
        "print(f'Incoming Bytes: {incoming_bytes[:10]}')\n",
        "print(f'Outgoing Bytes: {outgoing_bytes[:10]}')"
      ],
      "metadata": {
        "colab": {
          "base_uri": "https://localhost:8080/"
        },
        "id": "YWhjePw_TQQM",
        "outputId": "9bd9dfdf-4d2e-4f30-9a0f-03f4560d6763"
      },
      "execution_count": null,
      "outputs": [
        {
          "output_type": "stream",
          "name": "stdout",
          "text": [
            "Incoming Bytes: [277504, 821248, 755712, 74752, 58880, 89600, 146432, 323584, 78336, 837120]\n",
            "Outgoing Bytes: [3443712, 1775616, 1856000, 1082880, 666624, 822784, 853504, 4771840, 1075200, 1816576]\n"
          ]
        }
      ]
    },
    {
      "cell_type": "code",
      "source": [
        "# 12. & 13. Number of incoming and outgoing burst\n",
        "\n",
        "total_incoming_bursts = []\n",
        "total_outgoing_bursts = []\n",
        "\n",
        "# Calculate total number of incoming and outgoing bursts for all samples\n",
        "for sample in seq_of_bursts:\n",
        "  incoming_bursts = sum(1 for val in sample if val > 0)\n",
        "  outgoing_bursts = sum(1 for val in sample if val < 0)\n",
        "\n",
        "  total_incoming_bursts.append(incoming_bursts)\n",
        "  total_outgoing_bursts.append(outgoing_bursts)\n",
        "\n",
        "# 14. Calculate burst count for each sample\n",
        "burst_count = [len(bursts) for bursts in seq_of_bursts]\n",
        "\n",
        "# Print total incoming and outgoing bursts for first 10 samples\n",
        "print(f\"Total Incoming Bursts: {total_incoming_bursts[:10]}\")\n",
        "print(f\"Total Outgoing Bursts: {total_outgoing_bursts[:10]}\")\n",
        "print(f\"Burst Count: {burst_count[:10]}\")\n",
        "\n"
      ],
      "metadata": {
        "colab": {
          "base_uri": "https://localhost:8080/"
        },
        "id": "qE_p_eExYfO9",
        "outputId": "1f94e997-6462-40e6-b2c5-06a5481c9fd1"
      },
      "execution_count": null,
      "outputs": [
        {
          "output_type": "stream",
          "name": "stdout",
          "text": [
            "Total Incoming Bursts: [291, 188, 181, 92, 76, 94, 107, 395, 102, 211]\n",
            "Total Outgoing Bursts: [291, 188, 181, 92, 76, 94, 107, 396, 102, 211]\n",
            "Burst Count: [582, 376, 362, 184, 152, 188, 214, 791, 204, 422]\n"
          ]
        }
      ]
    },
    {
      "cell_type": "code",
      "source": [
        "# 15. Calculate average inter-arrival time for incoming packets per sample\n",
        "avg_interarrival_times = []\n",
        "\n",
        "for idx, (sample_packets, sample_directions) in enumerate(zip(X1, X2)):\n",
        "    incoming_packet_times = []\n",
        "\n",
        "    # Filter incoming packets based on positive direction values\n",
        "    incoming_packet_times = [packet_time for packet_time, direction in zip(sample_packets, sample_directions) if direction > 0]\n",
        "\n",
        "    if len(incoming_packet_times) <= 1:\n",
        "        # If only one or no incoming packet in the sample, assign 0 average inter-arrival time\n",
        "        avg_interarrival_times.append(0)\n",
        "    else:\n",
        "        # Calculate inter-arrival times between incoming packets\n",
        "        interarrival_times = [incoming_packet_times[i + 1] - incoming_packet_times[i] for i in range(len(incoming_packet_times) - 1)]\n",
        "\n",
        "        # Compute the average inter-arrival time for incoming packets\n",
        "        avg_interarrival_time = sum(interarrival_times) / len(interarrival_times)\n",
        "        avg_interarrival_times.append(avg_interarrival_time)\n",
        "\n",
        "# Print average inter-arrival time for incoming packets per sample\n",
        "print(\"Average inter-arrival time for incoming packets per sample:\")\n",
        "for i, avg_interarrival_time in enumerate(avg_interarrival_times[:10], start=1):\n",
        "    print(f\"Sample {i}: {avg_interarrival_time}\")\n"
      ],
      "metadata": {
        "colab": {
          "base_uri": "https://localhost:8080/"
        },
        "id": "-enbabn_aG_S",
        "outputId": "00b1ddf4-c274-4d79-c31d-cc4c71c5cfcb"
      },
      "execution_count": null,
      "outputs": [
        {
          "output_type": "stream",
          "name": "stdout",
          "text": [
            "Average inter-arrival time for incoming packets per sample:\n",
            "Sample 1: 0.02519408502772643\n",
            "Sample 2: 0.032532751091703054\n",
            "Sample 3: 0.03810847457627118\n",
            "Sample 4: 0.06737931034482758\n",
            "Sample 5: 0.09201754385964912\n",
            "Sample 6: 0.07833333333333332\n",
            "Sample 7: 0.121859649122807\n",
            "Sample 8: 0.01316957210776545\n",
            "Sample 9: 0.07078947368421053\n",
            "Sample 10: 0.012086903304773562\n"
          ]
        }
      ]
    },
    {
      "cell_type": "code",
      "source": [
        "# 16. Calculate average inter-departure time for outgoing packets per sample\n",
        "avg_interdepart_times = []\n",
        "\n",
        "for idx, (sample_packets, sample_directions) in enumerate(zip(X1, X2)):\n",
        "    outcoming_packet_times = []\n",
        "\n",
        "    # Filter outgoing packets based on negative direction values\n",
        "    outcoming_packet_times = [packet_time for packet_time, direction in zip(sample_packets, sample_directions) if direction < 0]\n",
        "\n",
        "    if len(outcoming_packet_times) <= 1:\n",
        "        # If only one or no outgoing packet in the sample, assign 0 average inter-depart time\n",
        "        avg_interdepart_times.append(0)\n",
        "    else:\n",
        "        # Calculate inter-depart times between outgoing packets\n",
        "        interdepart_times = [outcoming_packet_times[i + 1] - outcoming_packet_times[i] for i in range(len(outcoming_packet_times) - 1)]\n",
        "\n",
        "        # Compute the average inter-depart time for outgoing packets\n",
        "        avg_interdepart_time = sum(interdepart_times) / len(interdepart_times)\n",
        "        avg_interdepart_times.append(avg_interdepart_time)\n",
        "\n",
        "# Print average inter-depart time for outgoing packets per sample\n",
        "print(\"Average inter-departure time for outgoing packets per sample:\")\n",
        "for i, avg_interdepart_time in enumerate(avg_interdepart_times[:10], start=1):\n",
        "    print(f\"Sample {i}: {avg_interdepart_time}\")\n"
      ],
      "metadata": {
        "colab": {
          "base_uri": "https://localhost:8080/"
        },
        "id": "tUrCIrXRiDiq",
        "outputId": "f2f91a87-4e95-4a25-ecdc-7a288f05df49"
      },
      "execution_count": null,
      "outputs": [
        {
          "output_type": "stream",
          "name": "stdout",
          "text": [
            "Average inter-departure time for outgoing packets per sample:\n",
            "Sample 1: 0.002074349442379182\n",
            "Sample 2: 0.015073550620132678\n",
            "Sample 3: 0.007618653421633554\n",
            "Sample 4: 0.0027861873226111633\n",
            "Sample 5: 0.008070714834742506\n",
            "Sample 6: 0.006674968866749689\n",
            "Sample 7: 0.020948379351740695\n",
            "Sample 8: 0.0009035304217190686\n",
            "Sample 9: 0.0034730824202000954\n",
            "Sample 10: 0.005599097829151395\n"
          ]
        }
      ]
    },
    {
      "cell_type": "code",
      "source": [
        "# 17. Total burst duration\n",
        "total_burst_duration = [sum(duration) for duration in burst_duration]\n",
        "print(total_burst_duration[:10])"
      ],
      "metadata": {
        "colab": {
          "base_uri": "https://localhost:8080/"
        },
        "id": "OETtb0FqHi4T",
        "outputId": "1a1964d4-25bd-4e1b-b183-747ed728c94a"
      },
      "execution_count": null,
      "outputs": [
        {
          "output_type": "stream",
          "name": "stdout",
          "text": [
            "[7.72, 11.769999999999994, 46.10999999999999, 6.599999999999999, 3.1099999999999977, 7.1599999999999975, 8.429999999999996, 4.170000000000005, 5.219999999999999, 6.0600000000000005]\n"
          ]
        }
      ]
    },
    {
      "cell_type": "markdown",
      "source": [
        "### 3a. Model Training\n",
        "- Decision Tree\n"
      ],
      "metadata": {
        "id": "lJGbc-CLVQio"
      }
    },
    {
      "cell_type": "code",
      "source": [
        "X = [\n",
        "    incoming_packets,\n",
        "    fraction_incoming_packets,\n",
        "    outgoing_packets,\n",
        "    fraction_outgoing_packets,\n",
        "    total_packets,\n",
        "    # packet_rate,\n",
        "    # incoming_packet_rate,\n",
        "    # outgoing_packet_rate,\n",
        "    # avg_time_gaps,\n",
        "    incoming_bytes,\n",
        "    outgoing_bytes,\n",
        "    total_incoming_bursts,\n",
        "    total_outgoing_bursts,\n",
        "    burst_count,\n",
        "    avg_interarrival_times,\n",
        "    avg_interdepart_times,\n",
        "    total_burst_duration\n",
        "]\n",
        "\n",
        "# Feature importance (code is in feature_selection.ipynb)\n",
        "# total_packets: 0.08391385637928211\n",
        "# fraction_incoming_packets: 0.07525438164233617\n",
        "# outgoing_packets: 0.07397300171079065\n",
        "# fraction_outgoing_packets: 0.07302431700858097\n",
        "# outgoing_bytes: 0.07264166480526325\n",
        "# incoming_bytes: 0.06342574766295982\n",
        "# incoming_packets: 0.06198666583613548\n",
        "# total_burst_duration: 0.05929302192406632\n",
        "# burst_count: 0.05624511174559692\n",
        "# total_outgoing_bursts: 0.05452631240160152\n",
        "# total_incoming_bursts: 0.05417409771603582\n",
        "# avg_interarrival_times: 0.051337481385899435\n",
        "# avg_interdepart_times: 0.04994909975727552\n",
        "# incoming_packet_rate: 0.047878438278210256\n",
        "# outgoing_packet_rate: 0.04129542002349407\n",
        "# packet_rate: 0.040831661921218544\n",
        "# avg_time_gaps: 0.04024971980125318\n",
        "\n",
        "# Transpose the feature matrix X to have samples as rows and features as columns\n",
        "X = np.array(X).T\n",
        "\n",
        "y = np.array(y)"
      ],
      "metadata": {
        "id": "gwZxOm6MVVJh"
      },
      "execution_count": null,
      "outputs": []
    },
    {
      "cell_type": "code",
      "source": [
        "from sklearn.model_selection import train_test_split\n",
        "from sklearn.metrics import accuracy_score, classification_report\n",
        "from sklearn.tree import DecisionTreeClassifier\n",
        "\n",
        "# Split the data into training and testing sets\n",
        "X_train, X_test, y_train, y_test = train_test_split(X, y, test_size=0.25, random_state=42)\n",
        "\n",
        "# Create the Decision Tree Classifier\n",
        "clf = DecisionTreeClassifier(random_state=42)\n",
        "\n",
        "# Train the model\n",
        "clf.fit(X_train, y_train)\n"
      ],
      "metadata": {
        "id": "8crNPqK3mTXM",
        "colab": {
          "base_uri": "https://localhost:8080/",
          "height": 74
        },
        "outputId": "5251c9ef-62d8-4cb2-d210-f34e8402ccfc"
      },
      "execution_count": null,
      "outputs": [
        {
          "output_type": "execute_result",
          "data": {
            "text/plain": [
              "DecisionTreeClassifier(random_state=42)"
            ],
            "text/html": [
              "<style>#sk-container-id-1 {color: black;background-color: white;}#sk-container-id-1 pre{padding: 0;}#sk-container-id-1 div.sk-toggleable {background-color: white;}#sk-container-id-1 label.sk-toggleable__label {cursor: pointer;display: block;width: 100%;margin-bottom: 0;padding: 0.3em;box-sizing: border-box;text-align: center;}#sk-container-id-1 label.sk-toggleable__label-arrow:before {content: \"▸\";float: left;margin-right: 0.25em;color: #696969;}#sk-container-id-1 label.sk-toggleable__label-arrow:hover:before {color: black;}#sk-container-id-1 div.sk-estimator:hover label.sk-toggleable__label-arrow:before {color: black;}#sk-container-id-1 div.sk-toggleable__content {max-height: 0;max-width: 0;overflow: hidden;text-align: left;background-color: #f0f8ff;}#sk-container-id-1 div.sk-toggleable__content pre {margin: 0.2em;color: black;border-radius: 0.25em;background-color: #f0f8ff;}#sk-container-id-1 input.sk-toggleable__control:checked~div.sk-toggleable__content {max-height: 200px;max-width: 100%;overflow: auto;}#sk-container-id-1 input.sk-toggleable__control:checked~label.sk-toggleable__label-arrow:before {content: \"▾\";}#sk-container-id-1 div.sk-estimator input.sk-toggleable__control:checked~label.sk-toggleable__label {background-color: #d4ebff;}#sk-container-id-1 div.sk-label input.sk-toggleable__control:checked~label.sk-toggleable__label {background-color: #d4ebff;}#sk-container-id-1 input.sk-hidden--visually {border: 0;clip: rect(1px 1px 1px 1px);clip: rect(1px, 1px, 1px, 1px);height: 1px;margin: -1px;overflow: hidden;padding: 0;position: absolute;width: 1px;}#sk-container-id-1 div.sk-estimator {font-family: monospace;background-color: #f0f8ff;border: 1px dotted black;border-radius: 0.25em;box-sizing: border-box;margin-bottom: 0.5em;}#sk-container-id-1 div.sk-estimator:hover {background-color: #d4ebff;}#sk-container-id-1 div.sk-parallel-item::after {content: \"\";width: 100%;border-bottom: 1px solid gray;flex-grow: 1;}#sk-container-id-1 div.sk-label:hover label.sk-toggleable__label {background-color: #d4ebff;}#sk-container-id-1 div.sk-serial::before {content: \"\";position: absolute;border-left: 1px solid gray;box-sizing: border-box;top: 0;bottom: 0;left: 50%;z-index: 0;}#sk-container-id-1 div.sk-serial {display: flex;flex-direction: column;align-items: center;background-color: white;padding-right: 0.2em;padding-left: 0.2em;position: relative;}#sk-container-id-1 div.sk-item {position: relative;z-index: 1;}#sk-container-id-1 div.sk-parallel {display: flex;align-items: stretch;justify-content: center;background-color: white;position: relative;}#sk-container-id-1 div.sk-item::before, #sk-container-id-1 div.sk-parallel-item::before {content: \"\";position: absolute;border-left: 1px solid gray;box-sizing: border-box;top: 0;bottom: 0;left: 50%;z-index: -1;}#sk-container-id-1 div.sk-parallel-item {display: flex;flex-direction: column;z-index: 1;position: relative;background-color: white;}#sk-container-id-1 div.sk-parallel-item:first-child::after {align-self: flex-end;width: 50%;}#sk-container-id-1 div.sk-parallel-item:last-child::after {align-self: flex-start;width: 50%;}#sk-container-id-1 div.sk-parallel-item:only-child::after {width: 0;}#sk-container-id-1 div.sk-dashed-wrapped {border: 1px dashed gray;margin: 0 0.4em 0.5em 0.4em;box-sizing: border-box;padding-bottom: 0.4em;background-color: white;}#sk-container-id-1 div.sk-label label {font-family: monospace;font-weight: bold;display: inline-block;line-height: 1.2em;}#sk-container-id-1 div.sk-label-container {text-align: center;}#sk-container-id-1 div.sk-container {/* jupyter's `normalize.less` sets `[hidden] { display: none; }` but bootstrap.min.css set `[hidden] { display: none !important; }` so we also need the `!important` here to be able to override the default hidden behavior on the sphinx rendered scikit-learn.org. See: https://github.com/scikit-learn/scikit-learn/issues/21755 */display: inline-block !important;position: relative;}#sk-container-id-1 div.sk-text-repr-fallback {display: none;}</style><div id=\"sk-container-id-1\" class=\"sk-top-container\"><div class=\"sk-text-repr-fallback\"><pre>DecisionTreeClassifier(random_state=42)</pre><b>In a Jupyter environment, please rerun this cell to show the HTML representation or trust the notebook. <br />On GitHub, the HTML representation is unable to render, please try loading this page with nbviewer.org.</b></div><div class=\"sk-container\" hidden><div class=\"sk-item\"><div class=\"sk-estimator sk-toggleable\"><input class=\"sk-toggleable__control sk-hidden--visually\" id=\"sk-estimator-id-1\" type=\"checkbox\" checked><label for=\"sk-estimator-id-1\" class=\"sk-toggleable__label sk-toggleable__label-arrow\">DecisionTreeClassifier</label><div class=\"sk-toggleable__content\"><pre>DecisionTreeClassifier(random_state=42)</pre></div></div></div></div></div>"
            ]
          },
          "metadata": {},
          "execution_count": 18
        }
      ]
    },
    {
      "cell_type": "markdown",
      "source": [
        "### 3b. Model Testing"
      ],
      "metadata": {
        "id": "UCkT-NJVVVa4"
      }
    },
    {
      "cell_type": "code",
      "source": [
        "# Predict on the test set\n",
        "y_pred = clf.predict(X_test)\n",
        "\n",
        "# Evaluate the model\n",
        "accuracy = accuracy_score(y_test, y_pred)\n",
        "print(f\"Accuracy: {accuracy:.2f}\")\n",
        "\n",
        "# Get a classification report\n",
        "print(classification_report(y_test, y_pred))"
      ],
      "metadata": {
        "id": "q7Rt4g25VZn8",
        "colab": {
          "base_uri": "https://localhost:8080/"
        },
        "outputId": "5ab540df-0f79-4340-d1dc-b36f922cbc85"
      },
      "execution_count": null,
      "outputs": [
        {
          "output_type": "stream",
          "name": "stdout",
          "text": [
            "Accuracy: 0.49\n",
            "              precision    recall  f1-score   support\n",
            "\n",
            "           0       0.59      0.41      0.48        39\n",
            "           1       0.38      0.35      0.36        26\n",
            "           2       0.84      0.67      0.74        24\n",
            "           3       0.44      0.46      0.45        24\n",
            "           4       0.42      0.33      0.37        24\n",
            "           5       0.52      0.50      0.51        26\n",
            "           6       0.83      0.83      0.83        24\n",
            "           7       0.62      0.50      0.55        32\n",
            "           8       0.38      0.45      0.41        20\n",
            "           9       0.32      0.37      0.34        19\n",
            "          10       0.39      0.38      0.39        29\n",
            "          11       0.38      0.29      0.33        28\n",
            "          12       0.71      0.71      0.71        24\n",
            "          13       0.20      0.16      0.18        25\n",
            "          14       0.46      0.46      0.46        28\n",
            "          15       0.52      0.56      0.54        27\n",
            "          16       0.72      0.50      0.59        26\n",
            "          17       0.38      0.40      0.39        30\n",
            "          18       0.65      0.93      0.76        14\n",
            "          19       0.50      0.78      0.61        18\n",
            "          20       0.92      0.88      0.90        25\n",
            "          21       0.26      0.20      0.23        30\n",
            "          22       0.28      0.19      0.22        27\n",
            "          23       0.53      0.56      0.54        18\n",
            "          24       0.04      0.04      0.04        23\n",
            "          25       0.36      0.71      0.48        17\n",
            "          26       0.86      0.73      0.79        26\n",
            "          27       0.42      0.45      0.43        22\n",
            "          28       0.89      0.55      0.68        29\n",
            "          29       0.48      0.43      0.45        28\n",
            "          30       0.77      0.57      0.66        35\n",
            "          31       0.58      0.52      0.55        27\n",
            "          32       0.44      0.48      0.46        23\n",
            "          33       0.56      0.43      0.49        21\n",
            "          34       0.13      0.16      0.14        25\n",
            "          35       0.72      0.67      0.69        27\n",
            "          36       0.46      0.65      0.54        20\n",
            "          37       0.20      0.20      0.20        20\n",
            "          38       0.41      0.61      0.49        23\n",
            "          39       0.25      0.30      0.27        23\n",
            "          40       0.56      0.53      0.55        34\n",
            "          41       0.58      0.63      0.60        30\n",
            "          42       0.29      0.27      0.28        26\n",
            "          43       0.54      0.52      0.53        27\n",
            "          44       0.77      0.95      0.85        21\n",
            "          45       0.50      0.54      0.52        24\n",
            "          46       0.46      0.37      0.41        30\n",
            "          47       0.35      0.28      0.31        25\n",
            "          48       0.41      0.50      0.45        24\n",
            "          49       0.75      0.55      0.63        22\n",
            "          50       0.48      0.56      0.52        25\n",
            "          51       0.34      0.34      0.34        29\n",
            "          52       0.63      0.59      0.61        29\n",
            "          53       0.35      0.43      0.38        21\n",
            "          54       0.70      0.58      0.64        24\n",
            "          55       0.30      0.56      0.39        18\n",
            "          56       0.84      0.93      0.88        28\n",
            "          57       0.45      0.50      0.47        28\n",
            "          58       0.81      0.68      0.74        31\n",
            "          59       0.64      0.56      0.60        25\n",
            "          60       0.64      0.33      0.44        27\n",
            "          61       0.48      0.43      0.46        30\n",
            "          62       0.48      0.43      0.45        23\n",
            "          63       0.29      0.41      0.34        22\n",
            "          64       0.48      0.41      0.44        29\n",
            "          65       0.25      0.32      0.28        19\n",
            "          66       0.47      0.58      0.52        24\n",
            "          67       0.52      0.50      0.51        22\n",
            "          68       0.46      0.45      0.46        29\n",
            "          69       0.33      0.50      0.40        20\n",
            "          70       0.77      0.96      0.86        25\n",
            "          71       0.29      0.37      0.33        27\n",
            "          72       0.63      0.54      0.58        35\n",
            "          73       0.57      0.59      0.58        22\n",
            "          74       0.26      0.29      0.27        21\n",
            "          75       0.71      0.58      0.64        26\n",
            "          76       0.86      0.97      0.91        33\n",
            "          77       0.14      0.16      0.15        19\n",
            "          78       0.17      0.14      0.15        28\n",
            "          79       0.29      0.33      0.31        24\n",
            "          80       0.58      0.50      0.54        28\n",
            "          81       0.44      0.61      0.51        18\n",
            "          82       0.71      0.46      0.56        26\n",
            "          83       0.50      0.52      0.51        21\n",
            "          84       0.21      0.24      0.22        17\n",
            "          85       0.67      0.54      0.60        26\n",
            "          86       0.84      1.00      0.91        21\n",
            "          87       0.71      0.55      0.62        22\n",
            "          88       0.38      0.48      0.43        21\n",
            "          89       0.42      0.38      0.40        26\n",
            "          90       0.38      0.45      0.41        20\n",
            "          91       0.41      0.43      0.42        21\n",
            "          92       0.36      0.33      0.34        30\n",
            "          93       0.60      0.62      0.61        29\n",
            "          94       0.46      0.41      0.43        27\n",
            "\n",
            "    accuracy                           0.49      2375\n",
            "   macro avg       0.50      0.50      0.49      2375\n",
            "weighted avg       0.51      0.49      0.49      2375\n",
            "\n"
          ]
        }
      ]
    },
    {
      "cell_type": "markdown",
      "source": [
        "### 4. Hyperparameter Tuning"
      ],
      "metadata": {
        "id": "goythFGtEb57"
      }
    },
    {
      "cell_type": "code",
      "source": [
        "from sklearn.model_selection import GridSearchCV\n",
        "\n",
        "# Define the parameter grid\n",
        "param_grid = {\n",
        "    'criterion': ['gini', 'entropy'],\n",
        "    'max_depth': [10, 15, 20],\n",
        "    'min_samples_split': [2, 5, 10],\n",
        "    'min_samples_leaf': [1, 2, 4]\n",
        "}\n",
        "\n",
        "grid_search = GridSearchCV(clf, param_grid, cv=3, scoring='accuracy', refit = True, verbose = 3)\n",
        "\n",
        "# Fit the grid search to the data\n",
        "grid_search.fit(X_train, y_train)"
      ],
      "metadata": {
        "id": "fDkdbCUc_q4h",
        "colab": {
          "base_uri": "https://localhost:8080/",
          "height": 1000
        },
        "outputId": "e4fc8320-0fec-49ae-f2c2-5a35a70f933f"
      },
      "execution_count": null,
      "outputs": [
        {
          "output_type": "stream",
          "name": "stdout",
          "text": [
            "Fitting 3 folds for each of 54 candidates, totalling 162 fits\n",
            "[CV 1/3] END criterion=gini, max_depth=10, min_samples_leaf=1, min_samples_split=2;, score=0.334 total time=   0.1s\n",
            "[CV 2/3] END criterion=gini, max_depth=10, min_samples_leaf=1, min_samples_split=2;, score=0.302 total time=   0.1s\n",
            "[CV 3/3] END criterion=gini, max_depth=10, min_samples_leaf=1, min_samples_split=2;, score=0.331 total time=   0.1s\n",
            "[CV 1/3] END criterion=gini, max_depth=10, min_samples_leaf=1, min_samples_split=5;, score=0.335 total time=   0.1s\n",
            "[CV 2/3] END criterion=gini, max_depth=10, min_samples_leaf=1, min_samples_split=5;, score=0.303 total time=   0.1s\n",
            "[CV 3/3] END criterion=gini, max_depth=10, min_samples_leaf=1, min_samples_split=5;, score=0.328 total time=   0.1s\n",
            "[CV 1/3] END criterion=gini, max_depth=10, min_samples_leaf=1, min_samples_split=10;, score=0.332 total time=   0.1s\n",
            "[CV 2/3] END criterion=gini, max_depth=10, min_samples_leaf=1, min_samples_split=10;, score=0.300 total time=   0.1s\n",
            "[CV 3/3] END criterion=gini, max_depth=10, min_samples_leaf=1, min_samples_split=10;, score=0.321 total time=   0.1s\n",
            "[CV 1/3] END criterion=gini, max_depth=10, min_samples_leaf=2, min_samples_split=2;, score=0.328 total time=   0.1s\n",
            "[CV 2/3] END criterion=gini, max_depth=10, min_samples_leaf=2, min_samples_split=2;, score=0.301 total time=   0.1s\n",
            "[CV 3/3] END criterion=gini, max_depth=10, min_samples_leaf=2, min_samples_split=2;, score=0.327 total time=   0.1s\n",
            "[CV 1/3] END criterion=gini, max_depth=10, min_samples_leaf=2, min_samples_split=5;, score=0.325 total time=   0.1s\n",
            "[CV 2/3] END criterion=gini, max_depth=10, min_samples_leaf=2, min_samples_split=5;, score=0.301 total time=   0.1s\n",
            "[CV 3/3] END criterion=gini, max_depth=10, min_samples_leaf=2, min_samples_split=5;, score=0.323 total time=   0.1s\n",
            "[CV 1/3] END criterion=gini, max_depth=10, min_samples_leaf=2, min_samples_split=10;, score=0.332 total time=   0.1s\n",
            "[CV 2/3] END criterion=gini, max_depth=10, min_samples_leaf=2, min_samples_split=10;, score=0.301 total time=   0.1s\n",
            "[CV 3/3] END criterion=gini, max_depth=10, min_samples_leaf=2, min_samples_split=10;, score=0.320 total time=   0.1s\n",
            "[CV 1/3] END criterion=gini, max_depth=10, min_samples_leaf=4, min_samples_split=2;, score=0.324 total time=   0.1s\n",
            "[CV 2/3] END criterion=gini, max_depth=10, min_samples_leaf=4, min_samples_split=2;, score=0.301 total time=   0.1s\n",
            "[CV 3/3] END criterion=gini, max_depth=10, min_samples_leaf=4, min_samples_split=2;, score=0.323 total time=   0.1s\n",
            "[CV 1/3] END criterion=gini, max_depth=10, min_samples_leaf=4, min_samples_split=5;, score=0.324 total time=   0.1s\n",
            "[CV 2/3] END criterion=gini, max_depth=10, min_samples_leaf=4, min_samples_split=5;, score=0.301 total time=   0.1s\n",
            "[CV 3/3] END criterion=gini, max_depth=10, min_samples_leaf=4, min_samples_split=5;, score=0.323 total time=   0.1s\n",
            "[CV 1/3] END criterion=gini, max_depth=10, min_samples_leaf=4, min_samples_split=10;, score=0.328 total time=   0.1s\n",
            "[CV 2/3] END criterion=gini, max_depth=10, min_samples_leaf=4, min_samples_split=10;, score=0.299 total time=   0.1s\n",
            "[CV 3/3] END criterion=gini, max_depth=10, min_samples_leaf=4, min_samples_split=10;, score=0.322 total time=   0.2s\n",
            "[CV 1/3] END criterion=gini, max_depth=15, min_samples_leaf=1, min_samples_split=2;, score=0.438 total time=   0.3s\n",
            "[CV 2/3] END criterion=gini, max_depth=15, min_samples_leaf=1, min_samples_split=2;, score=0.428 total time=   0.3s\n",
            "[CV 3/3] END criterion=gini, max_depth=15, min_samples_leaf=1, min_samples_split=2;, score=0.439 total time=   0.3s\n",
            "[CV 1/3] END criterion=gini, max_depth=15, min_samples_leaf=1, min_samples_split=5;, score=0.436 total time=   0.3s\n",
            "[CV 2/3] END criterion=gini, max_depth=15, min_samples_leaf=1, min_samples_split=5;, score=0.419 total time=   0.3s\n",
            "[CV 3/3] END criterion=gini, max_depth=15, min_samples_leaf=1, min_samples_split=5;, score=0.437 total time=   0.2s\n",
            "[CV 1/3] END criterion=gini, max_depth=15, min_samples_leaf=1, min_samples_split=10;, score=0.427 total time=   0.2s\n",
            "[CV 2/3] END criterion=gini, max_depth=15, min_samples_leaf=1, min_samples_split=10;, score=0.411 total time=   0.2s\n",
            "[CV 3/3] END criterion=gini, max_depth=15, min_samples_leaf=1, min_samples_split=10;, score=0.428 total time=   0.2s\n",
            "[CV 1/3] END criterion=gini, max_depth=15, min_samples_leaf=2, min_samples_split=2;, score=0.431 total time=   0.3s\n",
            "[CV 2/3] END criterion=gini, max_depth=15, min_samples_leaf=2, min_samples_split=2;, score=0.426 total time=   0.3s\n",
            "[CV 3/3] END criterion=gini, max_depth=15, min_samples_leaf=2, min_samples_split=2;, score=0.436 total time=   0.3s\n",
            "[CV 1/3] END criterion=gini, max_depth=15, min_samples_leaf=2, min_samples_split=5;, score=0.429 total time=   0.2s\n",
            "[CV 2/3] END criterion=gini, max_depth=15, min_samples_leaf=2, min_samples_split=5;, score=0.420 total time=   0.3s\n",
            "[CV 3/3] END criterion=gini, max_depth=15, min_samples_leaf=2, min_samples_split=5;, score=0.431 total time=   0.3s\n",
            "[CV 1/3] END criterion=gini, max_depth=15, min_samples_leaf=2, min_samples_split=10;, score=0.424 total time=   0.2s\n",
            "[CV 2/3] END criterion=gini, max_depth=15, min_samples_leaf=2, min_samples_split=10;, score=0.413 total time=   0.2s\n",
            "[CV 3/3] END criterion=gini, max_depth=15, min_samples_leaf=2, min_samples_split=10;, score=0.428 total time=   0.2s\n",
            "[CV 1/3] END criterion=gini, max_depth=15, min_samples_leaf=4, min_samples_split=2;, score=0.416 total time=   0.2s\n",
            "[CV 2/3] END criterion=gini, max_depth=15, min_samples_leaf=4, min_samples_split=2;, score=0.412 total time=   0.2s\n",
            "[CV 3/3] END criterion=gini, max_depth=15, min_samples_leaf=4, min_samples_split=2;, score=0.432 total time=   0.3s\n",
            "[CV 1/3] END criterion=gini, max_depth=15, min_samples_leaf=4, min_samples_split=5;, score=0.416 total time=   0.2s\n",
            "[CV 2/3] END criterion=gini, max_depth=15, min_samples_leaf=4, min_samples_split=5;, score=0.412 total time=   0.2s\n",
            "[CV 3/3] END criterion=gini, max_depth=15, min_samples_leaf=4, min_samples_split=5;, score=0.432 total time=   0.2s\n",
            "[CV 1/3] END criterion=gini, max_depth=15, min_samples_leaf=4, min_samples_split=10;, score=0.413 total time=   0.2s\n",
            "[CV 2/3] END criterion=gini, max_depth=15, min_samples_leaf=4, min_samples_split=10;, score=0.410 total time=   0.2s\n",
            "[CV 3/3] END criterion=gini, max_depth=15, min_samples_leaf=4, min_samples_split=10;, score=0.426 total time=   0.2s\n",
            "[CV 1/3] END criterion=gini, max_depth=20, min_samples_leaf=1, min_samples_split=2;, score=0.465 total time=   0.3s\n",
            "[CV 2/3] END criterion=gini, max_depth=20, min_samples_leaf=1, min_samples_split=2;, score=0.451 total time=   0.3s\n",
            "[CV 3/3] END criterion=gini, max_depth=20, min_samples_leaf=1, min_samples_split=2;, score=0.457 total time=   0.2s\n",
            "[CV 1/3] END criterion=gini, max_depth=20, min_samples_leaf=1, min_samples_split=5;, score=0.460 total time=   0.2s\n",
            "[CV 2/3] END criterion=gini, max_depth=20, min_samples_leaf=1, min_samples_split=5;, score=0.444 total time=   0.2s\n",
            "[CV 3/3] END criterion=gini, max_depth=20, min_samples_leaf=1, min_samples_split=5;, score=0.452 total time=   0.2s\n",
            "[CV 1/3] END criterion=gini, max_depth=20, min_samples_leaf=1, min_samples_split=10;, score=0.443 total time=   0.2s\n",
            "[CV 2/3] END criterion=gini, max_depth=20, min_samples_leaf=1, min_samples_split=10;, score=0.426 total time=   0.2s\n",
            "[CV 3/3] END criterion=gini, max_depth=20, min_samples_leaf=1, min_samples_split=10;, score=0.443 total time=   0.2s\n",
            "[CV 1/3] END criterion=gini, max_depth=20, min_samples_leaf=2, min_samples_split=2;, score=0.455 total time=   0.2s\n",
            "[CV 2/3] END criterion=gini, max_depth=20, min_samples_leaf=2, min_samples_split=2;, score=0.453 total time=   0.2s\n",
            "[CV 3/3] END criterion=gini, max_depth=20, min_samples_leaf=2, min_samples_split=2;, score=0.445 total time=   0.2s\n",
            "[CV 1/3] END criterion=gini, max_depth=20, min_samples_leaf=2, min_samples_split=5;, score=0.446 total time=   0.2s\n",
            "[CV 2/3] END criterion=gini, max_depth=20, min_samples_leaf=2, min_samples_split=5;, score=0.437 total time=   0.2s\n",
            "[CV 3/3] END criterion=gini, max_depth=20, min_samples_leaf=2, min_samples_split=5;, score=0.453 total time=   0.2s\n",
            "[CV 1/3] END criterion=gini, max_depth=20, min_samples_leaf=2, min_samples_split=10;, score=0.440 total time=   0.2s\n",
            "[CV 2/3] END criterion=gini, max_depth=20, min_samples_leaf=2, min_samples_split=10;, score=0.429 total time=   0.2s\n",
            "[CV 3/3] END criterion=gini, max_depth=20, min_samples_leaf=2, min_samples_split=10;, score=0.440 total time=   0.2s\n",
            "[CV 1/3] END criterion=gini, max_depth=20, min_samples_leaf=4, min_samples_split=2;, score=0.435 total time=   0.2s\n",
            "[CV 2/3] END criterion=gini, max_depth=20, min_samples_leaf=4, min_samples_split=2;, score=0.431 total time=   0.2s\n",
            "[CV 3/3] END criterion=gini, max_depth=20, min_samples_leaf=4, min_samples_split=2;, score=0.443 total time=   0.2s\n",
            "[CV 1/3] END criterion=gini, max_depth=20, min_samples_leaf=4, min_samples_split=5;, score=0.435 total time=   0.2s\n",
            "[CV 2/3] END criterion=gini, max_depth=20, min_samples_leaf=4, min_samples_split=5;, score=0.431 total time=   0.2s\n",
            "[CV 3/3] END criterion=gini, max_depth=20, min_samples_leaf=4, min_samples_split=5;, score=0.443 total time=   0.2s\n",
            "[CV 1/3] END criterion=gini, max_depth=20, min_samples_leaf=4, min_samples_split=10;, score=0.426 total time=   0.2s\n",
            "[CV 2/3] END criterion=gini, max_depth=20, min_samples_leaf=4, min_samples_split=10;, score=0.426 total time=   0.2s\n",
            "[CV 3/3] END criterion=gini, max_depth=20, min_samples_leaf=4, min_samples_split=10;, score=0.436 total time=   0.2s\n",
            "[CV 1/3] END criterion=entropy, max_depth=10, min_samples_leaf=1, min_samples_split=2;, score=0.453 total time=   0.5s\n",
            "[CV 2/3] END criterion=entropy, max_depth=10, min_samples_leaf=1, min_samples_split=2;, score=0.452 total time=   0.5s\n",
            "[CV 3/3] END criterion=entropy, max_depth=10, min_samples_leaf=1, min_samples_split=2;, score=0.458 total time=   0.5s\n",
            "[CV 1/3] END criterion=entropy, max_depth=10, min_samples_leaf=1, min_samples_split=5;, score=0.454 total time=   0.5s\n",
            "[CV 2/3] END criterion=entropy, max_depth=10, min_samples_leaf=1, min_samples_split=5;, score=0.449 total time=   0.5s\n",
            "[CV 3/3] END criterion=entropy, max_depth=10, min_samples_leaf=1, min_samples_split=5;, score=0.456 total time=   0.5s\n",
            "[CV 1/3] END criterion=entropy, max_depth=10, min_samples_leaf=1, min_samples_split=10;, score=0.439 total time=   0.5s\n",
            "[CV 2/3] END criterion=entropy, max_depth=10, min_samples_leaf=1, min_samples_split=10;, score=0.450 total time=   0.5s\n",
            "[CV 3/3] END criterion=entropy, max_depth=10, min_samples_leaf=1, min_samples_split=10;, score=0.443 total time=   0.5s\n",
            "[CV 1/3] END criterion=entropy, max_depth=10, min_samples_leaf=2, min_samples_split=2;, score=0.448 total time=   0.5s\n",
            "[CV 2/3] END criterion=entropy, max_depth=10, min_samples_leaf=2, min_samples_split=2;, score=0.449 total time=   0.7s\n",
            "[CV 3/3] END criterion=entropy, max_depth=10, min_samples_leaf=2, min_samples_split=2;, score=0.456 total time=   0.9s\n",
            "[CV 1/3] END criterion=entropy, max_depth=10, min_samples_leaf=2, min_samples_split=5;, score=0.445 total time=   0.9s\n",
            "[CV 2/3] END criterion=entropy, max_depth=10, min_samples_leaf=2, min_samples_split=5;, score=0.446 total time=   0.9s\n",
            "[CV 3/3] END criterion=entropy, max_depth=10, min_samples_leaf=2, min_samples_split=5;, score=0.454 total time=   0.9s\n",
            "[CV 1/3] END criterion=entropy, max_depth=10, min_samples_leaf=2, min_samples_split=10;, score=0.440 total time=   0.9s\n",
            "[CV 2/3] END criterion=entropy, max_depth=10, min_samples_leaf=2, min_samples_split=10;, score=0.447 total time=   0.9s\n",
            "[CV 3/3] END criterion=entropy, max_depth=10, min_samples_leaf=2, min_samples_split=10;, score=0.443 total time=   0.9s\n",
            "[CV 1/3] END criterion=entropy, max_depth=10, min_samples_leaf=4, min_samples_split=2;, score=0.440 total time=   0.8s\n",
            "[CV 2/3] END criterion=entropy, max_depth=10, min_samples_leaf=4, min_samples_split=2;, score=0.440 total time=   0.5s\n",
            "[CV 3/3] END criterion=entropy, max_depth=10, min_samples_leaf=4, min_samples_split=2;, score=0.437 total time=   0.5s\n",
            "[CV 1/3] END criterion=entropy, max_depth=10, min_samples_leaf=4, min_samples_split=5;, score=0.440 total time=   0.5s\n",
            "[CV 2/3] END criterion=entropy, max_depth=10, min_samples_leaf=4, min_samples_split=5;, score=0.440 total time=   0.5s\n",
            "[CV 3/3] END criterion=entropy, max_depth=10, min_samples_leaf=4, min_samples_split=5;, score=0.437 total time=   0.5s\n",
            "[CV 1/3] END criterion=entropy, max_depth=10, min_samples_leaf=4, min_samples_split=10;, score=0.441 total time=   0.5s\n",
            "[CV 2/3] END criterion=entropy, max_depth=10, min_samples_leaf=4, min_samples_split=10;, score=0.436 total time=   0.5s\n",
            "[CV 3/3] END criterion=entropy, max_depth=10, min_samples_leaf=4, min_samples_split=10;, score=0.442 total time=   0.5s\n",
            "[CV 1/3] END criterion=entropy, max_depth=15, min_samples_leaf=1, min_samples_split=2;, score=0.490 total time=   0.6s\n",
            "[CV 2/3] END criterion=entropy, max_depth=15, min_samples_leaf=1, min_samples_split=2;, score=0.467 total time=   0.5s\n",
            "[CV 3/3] END criterion=entropy, max_depth=15, min_samples_leaf=1, min_samples_split=2;, score=0.474 total time=   0.5s\n",
            "[CV 1/3] END criterion=entropy, max_depth=15, min_samples_leaf=1, min_samples_split=5;, score=0.480 total time=   0.6s\n",
            "[CV 2/3] END criterion=entropy, max_depth=15, min_samples_leaf=1, min_samples_split=5;, score=0.468 total time=   0.5s\n",
            "[CV 3/3] END criterion=entropy, max_depth=15, min_samples_leaf=1, min_samples_split=5;, score=0.462 total time=   0.5s\n",
            "[CV 1/3] END criterion=entropy, max_depth=15, min_samples_leaf=1, min_samples_split=10;, score=0.455 total time=   0.5s\n",
            "[CV 2/3] END criterion=entropy, max_depth=15, min_samples_leaf=1, min_samples_split=10;, score=0.454 total time=   0.5s\n",
            "[CV 3/3] END criterion=entropy, max_depth=15, min_samples_leaf=1, min_samples_split=10;, score=0.442 total time=   0.5s\n",
            "[CV 1/3] END criterion=entropy, max_depth=15, min_samples_leaf=2, min_samples_split=2;, score=0.470 total time=   0.5s\n",
            "[CV 2/3] END criterion=entropy, max_depth=15, min_samples_leaf=2, min_samples_split=2;, score=0.460 total time=   0.5s\n",
            "[CV 3/3] END criterion=entropy, max_depth=15, min_samples_leaf=2, min_samples_split=2;, score=0.453 total time=   0.9s\n",
            "[CV 1/3] END criterion=entropy, max_depth=15, min_samples_leaf=2, min_samples_split=5;, score=0.475 total time=   0.9s\n",
            "[CV 2/3] END criterion=entropy, max_depth=15, min_samples_leaf=2, min_samples_split=5;, score=0.463 total time=   0.9s\n",
            "[CV 3/3] END criterion=entropy, max_depth=15, min_samples_leaf=2, min_samples_split=5;, score=0.464 total time=   0.9s\n",
            "[CV 1/3] END criterion=entropy, max_depth=15, min_samples_leaf=2, min_samples_split=10;, score=0.448 total time=   0.9s\n",
            "[CV 2/3] END criterion=entropy, max_depth=15, min_samples_leaf=2, min_samples_split=10;, score=0.455 total time=   0.9s\n",
            "[CV 3/3] END criterion=entropy, max_depth=15, min_samples_leaf=2, min_samples_split=10;, score=0.438 total time=   0.9s\n",
            "[CV 1/3] END criterion=entropy, max_depth=15, min_samples_leaf=4, min_samples_split=2;, score=0.454 total time=   0.9s\n",
            "[CV 2/3] END criterion=entropy, max_depth=15, min_samples_leaf=4, min_samples_split=2;, score=0.451 total time=   0.6s\n",
            "[CV 3/3] END criterion=entropy, max_depth=15, min_samples_leaf=4, min_samples_split=2;, score=0.446 total time=   0.5s\n",
            "[CV 1/3] END criterion=entropy, max_depth=15, min_samples_leaf=4, min_samples_split=5;, score=0.454 total time=   0.5s\n",
            "[CV 2/3] END criterion=entropy, max_depth=15, min_samples_leaf=4, min_samples_split=5;, score=0.451 total time=   0.5s\n",
            "[CV 3/3] END criterion=entropy, max_depth=15, min_samples_leaf=4, min_samples_split=5;, score=0.446 total time=   0.5s\n",
            "[CV 1/3] END criterion=entropy, max_depth=15, min_samples_leaf=4, min_samples_split=10;, score=0.451 total time=   0.5s\n",
            "[CV 2/3] END criterion=entropy, max_depth=15, min_samples_leaf=4, min_samples_split=10;, score=0.448 total time=   0.5s\n",
            "[CV 3/3] END criterion=entropy, max_depth=15, min_samples_leaf=4, min_samples_split=10;, score=0.443 total time=   0.5s\n",
            "[CV 1/3] END criterion=entropy, max_depth=20, min_samples_leaf=1, min_samples_split=2;, score=0.485 total time=   0.6s\n",
            "[CV 2/3] END criterion=entropy, max_depth=20, min_samples_leaf=1, min_samples_split=2;, score=0.470 total time=   0.5s\n",
            "[CV 3/3] END criterion=entropy, max_depth=20, min_samples_leaf=1, min_samples_split=2;, score=0.473 total time=   0.5s\n",
            "[CV 1/3] END criterion=entropy, max_depth=20, min_samples_leaf=1, min_samples_split=5;, score=0.476 total time=   0.5s\n",
            "[CV 2/3] END criterion=entropy, max_depth=20, min_samples_leaf=1, min_samples_split=5;, score=0.468 total time=   0.5s\n",
            "[CV 3/3] END criterion=entropy, max_depth=20, min_samples_leaf=1, min_samples_split=5;, score=0.463 total time=   0.5s\n",
            "[CV 1/3] END criterion=entropy, max_depth=20, min_samples_leaf=1, min_samples_split=10;, score=0.455 total time=   0.5s\n",
            "[CV 2/3] END criterion=entropy, max_depth=20, min_samples_leaf=1, min_samples_split=10;, score=0.454 total time=   0.5s\n",
            "[CV 3/3] END criterion=entropy, max_depth=20, min_samples_leaf=1, min_samples_split=10;, score=0.442 total time=   0.5s\n",
            "[CV 1/3] END criterion=entropy, max_depth=20, min_samples_leaf=2, min_samples_split=2;, score=0.464 total time=   0.5s\n",
            "[CV 2/3] END criterion=entropy, max_depth=20, min_samples_leaf=2, min_samples_split=2;, score=0.460 total time=   0.5s\n",
            "[CV 3/3] END criterion=entropy, max_depth=20, min_samples_leaf=2, min_samples_split=2;, score=0.453 total time=   0.7s\n",
            "[CV 1/3] END criterion=entropy, max_depth=20, min_samples_leaf=2, min_samples_split=5;, score=0.475 total time=   0.9s\n",
            "[CV 2/3] END criterion=entropy, max_depth=20, min_samples_leaf=2, min_samples_split=5;, score=0.463 total time=   0.9s\n",
            "[CV 3/3] END criterion=entropy, max_depth=20, min_samples_leaf=2, min_samples_split=5;, score=0.464 total time=   0.9s\n",
            "[CV 1/3] END criterion=entropy, max_depth=20, min_samples_leaf=2, min_samples_split=10;, score=0.448 total time=   0.9s\n",
            "[CV 2/3] END criterion=entropy, max_depth=20, min_samples_leaf=2, min_samples_split=10;, score=0.455 total time=   0.9s\n",
            "[CV 3/3] END criterion=entropy, max_depth=20, min_samples_leaf=2, min_samples_split=10;, score=0.438 total time=   0.9s\n",
            "[CV 1/3] END criterion=entropy, max_depth=20, min_samples_leaf=4, min_samples_split=2;, score=0.454 total time=   0.9s\n",
            "[CV 2/3] END criterion=entropy, max_depth=20, min_samples_leaf=4, min_samples_split=2;, score=0.451 total time=   0.8s\n",
            "[CV 3/3] END criterion=entropy, max_depth=20, min_samples_leaf=4, min_samples_split=2;, score=0.446 total time=   0.5s\n",
            "[CV 1/3] END criterion=entropy, max_depth=20, min_samples_leaf=4, min_samples_split=5;, score=0.454 total time=   0.5s\n",
            "[CV 2/3] END criterion=entropy, max_depth=20, min_samples_leaf=4, min_samples_split=5;, score=0.451 total time=   0.5s\n",
            "[CV 3/3] END criterion=entropy, max_depth=20, min_samples_leaf=4, min_samples_split=5;, score=0.446 total time=   0.5s\n",
            "[CV 1/3] END criterion=entropy, max_depth=20, min_samples_leaf=4, min_samples_split=10;, score=0.451 total time=   0.5s\n",
            "[CV 2/3] END criterion=entropy, max_depth=20, min_samples_leaf=4, min_samples_split=10;, score=0.448 total time=   0.5s\n",
            "[CV 3/3] END criterion=entropy, max_depth=20, min_samples_leaf=4, min_samples_split=10;, score=0.443 total time=   0.5s\n"
          ]
        },
        {
          "output_type": "execute_result",
          "data": {
            "text/plain": [
              "GridSearchCV(cv=3, estimator=DecisionTreeClassifier(random_state=42),\n",
              "             param_grid={'criterion': ['gini', 'entropy'],\n",
              "                         'max_depth': [10, 15, 20],\n",
              "                         'min_samples_leaf': [1, 2, 4],\n",
              "                         'min_samples_split': [2, 5, 10]},\n",
              "             scoring='accuracy', verbose=3)"
            ],
            "text/html": [
              "<style>#sk-container-id-2 {color: black;background-color: white;}#sk-container-id-2 pre{padding: 0;}#sk-container-id-2 div.sk-toggleable {background-color: white;}#sk-container-id-2 label.sk-toggleable__label {cursor: pointer;display: block;width: 100%;margin-bottom: 0;padding: 0.3em;box-sizing: border-box;text-align: center;}#sk-container-id-2 label.sk-toggleable__label-arrow:before {content: \"▸\";float: left;margin-right: 0.25em;color: #696969;}#sk-container-id-2 label.sk-toggleable__label-arrow:hover:before {color: black;}#sk-container-id-2 div.sk-estimator:hover label.sk-toggleable__label-arrow:before {color: black;}#sk-container-id-2 div.sk-toggleable__content {max-height: 0;max-width: 0;overflow: hidden;text-align: left;background-color: #f0f8ff;}#sk-container-id-2 div.sk-toggleable__content pre {margin: 0.2em;color: black;border-radius: 0.25em;background-color: #f0f8ff;}#sk-container-id-2 input.sk-toggleable__control:checked~div.sk-toggleable__content {max-height: 200px;max-width: 100%;overflow: auto;}#sk-container-id-2 input.sk-toggleable__control:checked~label.sk-toggleable__label-arrow:before {content: \"▾\";}#sk-container-id-2 div.sk-estimator input.sk-toggleable__control:checked~label.sk-toggleable__label {background-color: #d4ebff;}#sk-container-id-2 div.sk-label input.sk-toggleable__control:checked~label.sk-toggleable__label {background-color: #d4ebff;}#sk-container-id-2 input.sk-hidden--visually {border: 0;clip: rect(1px 1px 1px 1px);clip: rect(1px, 1px, 1px, 1px);height: 1px;margin: -1px;overflow: hidden;padding: 0;position: absolute;width: 1px;}#sk-container-id-2 div.sk-estimator {font-family: monospace;background-color: #f0f8ff;border: 1px dotted black;border-radius: 0.25em;box-sizing: border-box;margin-bottom: 0.5em;}#sk-container-id-2 div.sk-estimator:hover {background-color: #d4ebff;}#sk-container-id-2 div.sk-parallel-item::after {content: \"\";width: 100%;border-bottom: 1px solid gray;flex-grow: 1;}#sk-container-id-2 div.sk-label:hover label.sk-toggleable__label {background-color: #d4ebff;}#sk-container-id-2 div.sk-serial::before {content: \"\";position: absolute;border-left: 1px solid gray;box-sizing: border-box;top: 0;bottom: 0;left: 50%;z-index: 0;}#sk-container-id-2 div.sk-serial {display: flex;flex-direction: column;align-items: center;background-color: white;padding-right: 0.2em;padding-left: 0.2em;position: relative;}#sk-container-id-2 div.sk-item {position: relative;z-index: 1;}#sk-container-id-2 div.sk-parallel {display: flex;align-items: stretch;justify-content: center;background-color: white;position: relative;}#sk-container-id-2 div.sk-item::before, #sk-container-id-2 div.sk-parallel-item::before {content: \"\";position: absolute;border-left: 1px solid gray;box-sizing: border-box;top: 0;bottom: 0;left: 50%;z-index: -1;}#sk-container-id-2 div.sk-parallel-item {display: flex;flex-direction: column;z-index: 1;position: relative;background-color: white;}#sk-container-id-2 div.sk-parallel-item:first-child::after {align-self: flex-end;width: 50%;}#sk-container-id-2 div.sk-parallel-item:last-child::after {align-self: flex-start;width: 50%;}#sk-container-id-2 div.sk-parallel-item:only-child::after {width: 0;}#sk-container-id-2 div.sk-dashed-wrapped {border: 1px dashed gray;margin: 0 0.4em 0.5em 0.4em;box-sizing: border-box;padding-bottom: 0.4em;background-color: white;}#sk-container-id-2 div.sk-label label {font-family: monospace;font-weight: bold;display: inline-block;line-height: 1.2em;}#sk-container-id-2 div.sk-label-container {text-align: center;}#sk-container-id-2 div.sk-container {/* jupyter's `normalize.less` sets `[hidden] { display: none; }` but bootstrap.min.css set `[hidden] { display: none !important; }` so we also need the `!important` here to be able to override the default hidden behavior on the sphinx rendered scikit-learn.org. See: https://github.com/scikit-learn/scikit-learn/issues/21755 */display: inline-block !important;position: relative;}#sk-container-id-2 div.sk-text-repr-fallback {display: none;}</style><div id=\"sk-container-id-2\" class=\"sk-top-container\"><div class=\"sk-text-repr-fallback\"><pre>GridSearchCV(cv=3, estimator=DecisionTreeClassifier(random_state=42),\n",
              "             param_grid={&#x27;criterion&#x27;: [&#x27;gini&#x27;, &#x27;entropy&#x27;],\n",
              "                         &#x27;max_depth&#x27;: [10, 15, 20],\n",
              "                         &#x27;min_samples_leaf&#x27;: [1, 2, 4],\n",
              "                         &#x27;min_samples_split&#x27;: [2, 5, 10]},\n",
              "             scoring=&#x27;accuracy&#x27;, verbose=3)</pre><b>In a Jupyter environment, please rerun this cell to show the HTML representation or trust the notebook. <br />On GitHub, the HTML representation is unable to render, please try loading this page with nbviewer.org.</b></div><div class=\"sk-container\" hidden><div class=\"sk-item sk-dashed-wrapped\"><div class=\"sk-label-container\"><div class=\"sk-label sk-toggleable\"><input class=\"sk-toggleable__control sk-hidden--visually\" id=\"sk-estimator-id-2\" type=\"checkbox\" ><label for=\"sk-estimator-id-2\" class=\"sk-toggleable__label sk-toggleable__label-arrow\">GridSearchCV</label><div class=\"sk-toggleable__content\"><pre>GridSearchCV(cv=3, estimator=DecisionTreeClassifier(random_state=42),\n",
              "             param_grid={&#x27;criterion&#x27;: [&#x27;gini&#x27;, &#x27;entropy&#x27;],\n",
              "                         &#x27;max_depth&#x27;: [10, 15, 20],\n",
              "                         &#x27;min_samples_leaf&#x27;: [1, 2, 4],\n",
              "                         &#x27;min_samples_split&#x27;: [2, 5, 10]},\n",
              "             scoring=&#x27;accuracy&#x27;, verbose=3)</pre></div></div></div><div class=\"sk-parallel\"><div class=\"sk-parallel-item\"><div class=\"sk-item\"><div class=\"sk-label-container\"><div class=\"sk-label sk-toggleable\"><input class=\"sk-toggleable__control sk-hidden--visually\" id=\"sk-estimator-id-3\" type=\"checkbox\" ><label for=\"sk-estimator-id-3\" class=\"sk-toggleable__label sk-toggleable__label-arrow\">estimator: DecisionTreeClassifier</label><div class=\"sk-toggleable__content\"><pre>DecisionTreeClassifier(random_state=42)</pre></div></div></div><div class=\"sk-serial\"><div class=\"sk-item\"><div class=\"sk-estimator sk-toggleable\"><input class=\"sk-toggleable__control sk-hidden--visually\" id=\"sk-estimator-id-4\" type=\"checkbox\" ><label for=\"sk-estimator-id-4\" class=\"sk-toggleable__label sk-toggleable__label-arrow\">DecisionTreeClassifier</label><div class=\"sk-toggleable__content\"><pre>DecisionTreeClassifier(random_state=42)</pre></div></div></div></div></div></div></div></div></div></div>"
            ]
          },
          "metadata": {},
          "execution_count": 20
        }
      ]
    },
    {
      "cell_type": "code",
      "source": [
        "# Get the best parameters and the best estimator\n",
        "best_params = grid_search.best_params_\n",
        "best_estimator = grid_search.best_estimator_\n",
        "\n",
        "# Train the model with the best parameters\n",
        "best_estimator.fit(X_train, y_train)\n",
        "\n",
        "# Predict on the test set\n",
        "y_pred = best_estimator.predict(X_test)\n",
        "\n",
        "# Evaluate the model\n",
        "accuracy = accuracy_score(y_test, y_pred)\n",
        "print(f\"Accuracy: {accuracy:.2f}\")\n",
        "\n",
        "# Get a classification report\n",
        "print(classification_report(y_test, y_pred))"
      ],
      "metadata": {
        "colab": {
          "base_uri": "https://localhost:8080/"
        },
        "id": "tZB1KQCU3htD",
        "outputId": "85df53e2-6b71-40c8-b97e-3cbe4e82f623"
      },
      "execution_count": null,
      "outputs": [
        {
          "output_type": "stream",
          "name": "stdout",
          "text": [
            "Accuracy: 0.50\n",
            "              precision    recall  f1-score   support\n",
            "\n",
            "           0       0.47      0.41      0.44        39\n",
            "           1       0.46      0.46      0.46        26\n",
            "           2       0.61      0.83      0.70        24\n",
            "           3       0.55      0.50      0.52        24\n",
            "           4       0.43      0.42      0.43        24\n",
            "           5       0.62      0.50      0.55        26\n",
            "           6       0.71      0.83      0.77        24\n",
            "           7       0.54      0.47      0.50        32\n",
            "           8       0.65      0.55      0.59        20\n",
            "           9       0.38      0.42      0.40        19\n",
            "          10       0.39      0.41      0.40        29\n",
            "          11       0.43      0.54      0.48        28\n",
            "          12       0.67      0.67      0.67        24\n",
            "          13       0.11      0.12      0.11        25\n",
            "          14       0.35      0.32      0.33        28\n",
            "          15       0.61      0.52      0.56        27\n",
            "          16       0.59      0.50      0.54        26\n",
            "          17       0.43      0.43      0.43        30\n",
            "          18       0.81      0.93      0.87        14\n",
            "          19       0.83      0.83      0.83        18\n",
            "          20       0.92      0.88      0.90        25\n",
            "          21       0.18      0.17      0.17        30\n",
            "          22       0.31      0.30      0.30        27\n",
            "          23       0.48      0.56      0.51        18\n",
            "          24       0.17      0.22      0.19        23\n",
            "          25       0.48      0.65      0.55        17\n",
            "          26       0.72      0.69      0.71        26\n",
            "          27       0.45      0.45      0.45        22\n",
            "          28       0.73      0.66      0.69        29\n",
            "          29       0.43      0.32      0.37        28\n",
            "          30       0.68      0.49      0.57        35\n",
            "          31       0.54      0.52      0.53        27\n",
            "          32       0.30      0.26      0.28        23\n",
            "          33       0.58      0.33      0.42        21\n",
            "          34       0.17      0.20      0.18        25\n",
            "          35       0.46      0.44      0.45        27\n",
            "          36       0.38      0.50      0.43        20\n",
            "          37       0.40      0.40      0.40        20\n",
            "          38       0.41      0.48      0.44        23\n",
            "          39       0.28      0.43      0.34        23\n",
            "          40       0.52      0.50      0.51        34\n",
            "          41       0.57      0.53      0.55        30\n",
            "          42       0.28      0.27      0.27        26\n",
            "          43       0.82      0.67      0.73        27\n",
            "          44       0.86      0.90      0.88        21\n",
            "          45       0.32      0.38      0.35        24\n",
            "          46       0.57      0.40      0.47        30\n",
            "          47       0.41      0.36      0.38        25\n",
            "          48       0.28      0.29      0.29        24\n",
            "          49       0.79      0.68      0.73        22\n",
            "          50       0.43      0.52      0.47        25\n",
            "          51       0.38      0.38      0.38        29\n",
            "          52       0.67      0.62      0.64        29\n",
            "          53       0.43      0.14      0.21        21\n",
            "          54       0.60      0.75      0.67        24\n",
            "          55       0.29      0.44      0.35        18\n",
            "          56       0.64      0.82      0.72        28\n",
            "          57       0.55      0.39      0.46        28\n",
            "          58       0.81      0.71      0.76        31\n",
            "          59       0.53      0.64      0.58        25\n",
            "          60       0.68      0.48      0.57        27\n",
            "          61       0.42      0.27      0.33        30\n",
            "          62       0.55      0.48      0.51        23\n",
            "          63       0.23      0.27      0.25        22\n",
            "          64       0.43      0.41      0.42        29\n",
            "          65       0.17      0.16      0.16        19\n",
            "          66       0.44      0.58      0.50        24\n",
            "          67       0.70      0.73      0.71        22\n",
            "          68       0.42      0.34      0.38        29\n",
            "          69       0.40      0.30      0.34        20\n",
            "          70       0.83      0.96      0.89        25\n",
            "          71       0.36      0.33      0.35        27\n",
            "          72       0.61      0.49      0.54        35\n",
            "          73       0.56      0.45      0.50        22\n",
            "          74       0.31      0.52      0.39        21\n",
            "          75       0.79      0.73      0.76        26\n",
            "          76       0.94      0.94      0.94        33\n",
            "          77       0.19      0.26      0.22        19\n",
            "          78       0.25      0.21      0.23        28\n",
            "          79       0.24      0.29      0.26        24\n",
            "          80       0.68      0.61      0.64        28\n",
            "          81       0.43      0.56      0.49        18\n",
            "          82       0.50      0.35      0.41        26\n",
            "          83       0.61      0.81      0.69        21\n",
            "          84       0.27      0.47      0.34        17\n",
            "          85       0.64      0.69      0.67        26\n",
            "          86       0.86      0.86      0.86        21\n",
            "          87       0.67      0.73      0.70        22\n",
            "          88       0.45      0.43      0.44        21\n",
            "          89       0.43      0.50      0.46        26\n",
            "          90       0.36      0.40      0.38        20\n",
            "          91       0.50      0.52      0.51        21\n",
            "          92       0.44      0.40      0.42        30\n",
            "          93       0.66      0.66      0.66        29\n",
            "          94       0.22      0.19      0.20        27\n",
            "\n",
            "    accuracy                           0.50      2375\n",
            "   macro avg       0.50      0.50      0.49      2375\n",
            "weighted avg       0.51      0.50      0.50      2375\n",
            "\n"
          ]
        }
      ]
    },
    {
      "cell_type": "code",
      "source": [
        "print(best_params)\n",
        "print(best_estimator)"
      ],
      "metadata": {
        "colab": {
          "base_uri": "https://localhost:8080/"
        },
        "id": "bFAFe_3Z2BS5",
        "outputId": "801e6ec9-a816-45e4-f8b7-826513ecd1ac"
      },
      "execution_count": null,
      "outputs": [
        {
          "output_type": "stream",
          "name": "stdout",
          "text": [
            "{'criterion': 'entropy', 'max_depth': 15, 'min_samples_leaf': 1, 'min_samples_split': 2}\n",
            "DecisionTreeClassifier(criterion='entropy', max_depth=15, random_state=42)\n"
          ]
        }
      ]
    },
    {
      "cell_type": "markdown",
      "source": [
        "#### 5a. Random Forest"
      ],
      "metadata": {
        "id": "q9uBKoPVEq7v"
      }
    },
    {
      "cell_type": "code",
      "source": [
        "from sklearn.ensemble import RandomForestClassifier\n",
        "\n",
        "# Create the Random Forest Classifier\n",
        "rf_clf = RandomForestClassifier()\n",
        "\n",
        "# Train the model\n",
        "rf_clf.fit(X_train, y_train)"
      ],
      "metadata": {
        "colab": {
          "base_uri": "https://localhost:8080/",
          "height": 74
        },
        "id": "rTYyjlQCBBwn",
        "outputId": "7d6025d1-7848-4e8a-cb32-b6b498cc4561"
      },
      "execution_count": null,
      "outputs": [
        {
          "output_type": "execute_result",
          "data": {
            "text/plain": [
              "RandomForestClassifier()"
            ],
            "text/html": [
              "<style>#sk-container-id-3 {color: black;background-color: white;}#sk-container-id-3 pre{padding: 0;}#sk-container-id-3 div.sk-toggleable {background-color: white;}#sk-container-id-3 label.sk-toggleable__label {cursor: pointer;display: block;width: 100%;margin-bottom: 0;padding: 0.3em;box-sizing: border-box;text-align: center;}#sk-container-id-3 label.sk-toggleable__label-arrow:before {content: \"▸\";float: left;margin-right: 0.25em;color: #696969;}#sk-container-id-3 label.sk-toggleable__label-arrow:hover:before {color: black;}#sk-container-id-3 div.sk-estimator:hover label.sk-toggleable__label-arrow:before {color: black;}#sk-container-id-3 div.sk-toggleable__content {max-height: 0;max-width: 0;overflow: hidden;text-align: left;background-color: #f0f8ff;}#sk-container-id-3 div.sk-toggleable__content pre {margin: 0.2em;color: black;border-radius: 0.25em;background-color: #f0f8ff;}#sk-container-id-3 input.sk-toggleable__control:checked~div.sk-toggleable__content {max-height: 200px;max-width: 100%;overflow: auto;}#sk-container-id-3 input.sk-toggleable__control:checked~label.sk-toggleable__label-arrow:before {content: \"▾\";}#sk-container-id-3 div.sk-estimator input.sk-toggleable__control:checked~label.sk-toggleable__label {background-color: #d4ebff;}#sk-container-id-3 div.sk-label input.sk-toggleable__control:checked~label.sk-toggleable__label {background-color: #d4ebff;}#sk-container-id-3 input.sk-hidden--visually {border: 0;clip: rect(1px 1px 1px 1px);clip: rect(1px, 1px, 1px, 1px);height: 1px;margin: -1px;overflow: hidden;padding: 0;position: absolute;width: 1px;}#sk-container-id-3 div.sk-estimator {font-family: monospace;background-color: #f0f8ff;border: 1px dotted black;border-radius: 0.25em;box-sizing: border-box;margin-bottom: 0.5em;}#sk-container-id-3 div.sk-estimator:hover {background-color: #d4ebff;}#sk-container-id-3 div.sk-parallel-item::after {content: \"\";width: 100%;border-bottom: 1px solid gray;flex-grow: 1;}#sk-container-id-3 div.sk-label:hover label.sk-toggleable__label {background-color: #d4ebff;}#sk-container-id-3 div.sk-serial::before {content: \"\";position: absolute;border-left: 1px solid gray;box-sizing: border-box;top: 0;bottom: 0;left: 50%;z-index: 0;}#sk-container-id-3 div.sk-serial {display: flex;flex-direction: column;align-items: center;background-color: white;padding-right: 0.2em;padding-left: 0.2em;position: relative;}#sk-container-id-3 div.sk-item {position: relative;z-index: 1;}#sk-container-id-3 div.sk-parallel {display: flex;align-items: stretch;justify-content: center;background-color: white;position: relative;}#sk-container-id-3 div.sk-item::before, #sk-container-id-3 div.sk-parallel-item::before {content: \"\";position: absolute;border-left: 1px solid gray;box-sizing: border-box;top: 0;bottom: 0;left: 50%;z-index: -1;}#sk-container-id-3 div.sk-parallel-item {display: flex;flex-direction: column;z-index: 1;position: relative;background-color: white;}#sk-container-id-3 div.sk-parallel-item:first-child::after {align-self: flex-end;width: 50%;}#sk-container-id-3 div.sk-parallel-item:last-child::after {align-self: flex-start;width: 50%;}#sk-container-id-3 div.sk-parallel-item:only-child::after {width: 0;}#sk-container-id-3 div.sk-dashed-wrapped {border: 1px dashed gray;margin: 0 0.4em 0.5em 0.4em;box-sizing: border-box;padding-bottom: 0.4em;background-color: white;}#sk-container-id-3 div.sk-label label {font-family: monospace;font-weight: bold;display: inline-block;line-height: 1.2em;}#sk-container-id-3 div.sk-label-container {text-align: center;}#sk-container-id-3 div.sk-container {/* jupyter's `normalize.less` sets `[hidden] { display: none; }` but bootstrap.min.css set `[hidden] { display: none !important; }` so we also need the `!important` here to be able to override the default hidden behavior on the sphinx rendered scikit-learn.org. See: https://github.com/scikit-learn/scikit-learn/issues/21755 */display: inline-block !important;position: relative;}#sk-container-id-3 div.sk-text-repr-fallback {display: none;}</style><div id=\"sk-container-id-3\" class=\"sk-top-container\"><div class=\"sk-text-repr-fallback\"><pre>RandomForestClassifier()</pre><b>In a Jupyter environment, please rerun this cell to show the HTML representation or trust the notebook. <br />On GitHub, the HTML representation is unable to render, please try loading this page with nbviewer.org.</b></div><div class=\"sk-container\" hidden><div class=\"sk-item\"><div class=\"sk-estimator sk-toggleable\"><input class=\"sk-toggleable__control sk-hidden--visually\" id=\"sk-estimator-id-5\" type=\"checkbox\" checked><label for=\"sk-estimator-id-5\" class=\"sk-toggleable__label sk-toggleable__label-arrow\">RandomForestClassifier</label><div class=\"sk-toggleable__content\"><pre>RandomForestClassifier()</pre></div></div></div></div></div>"
            ]
          },
          "metadata": {},
          "execution_count": 23
        }
      ]
    },
    {
      "cell_type": "code",
      "source": [
        "# Predict on the test set\n",
        "y_pred = rf_clf.predict(X_test)\n",
        "\n",
        "# Evaluate the model\n",
        "accuracy = accuracy_score(y_test, y_pred)\n",
        "print(f\"Accuracy: {accuracy:.2f}\")\n",
        "\n",
        "# Get a classification report\n",
        "print(classification_report(y_test, y_pred))"
      ],
      "metadata": {
        "colab": {
          "base_uri": "https://localhost:8080/"
        },
        "id": "BkDlXbKzD3bo",
        "outputId": "86ab20b3-5d48-41e9-fd4e-9eade60d5347"
      },
      "execution_count": null,
      "outputs": [
        {
          "output_type": "stream",
          "name": "stdout",
          "text": [
            "Accuracy: 0.63\n",
            "              precision    recall  f1-score   support\n",
            "\n",
            "           0       0.76      0.56      0.65        39\n",
            "           1       0.48      0.50      0.49        26\n",
            "           2       0.87      0.83      0.85        24\n",
            "           3       0.58      0.62      0.60        24\n",
            "           4       0.70      0.58      0.64        24\n",
            "           5       0.74      0.65      0.69        26\n",
            "           6       0.74      0.96      0.84        24\n",
            "           7       0.66      0.66      0.66        32\n",
            "           8       0.82      0.70      0.76        20\n",
            "           9       0.59      0.53      0.56        19\n",
            "          10       0.70      0.48      0.57        29\n",
            "          11       0.71      0.61      0.65        28\n",
            "          12       0.88      0.88      0.88        24\n",
            "          13       0.45      0.36      0.40        25\n",
            "          14       0.65      0.46      0.54        28\n",
            "          15       0.62      0.78      0.69        27\n",
            "          16       0.62      0.50      0.55        26\n",
            "          17       0.59      0.53      0.56        30\n",
            "          18       0.93      1.00      0.97        14\n",
            "          19       0.57      0.72      0.63        18\n",
            "          20       0.85      0.92      0.88        25\n",
            "          21       0.45      0.17      0.24        30\n",
            "          22       0.46      0.41      0.43        27\n",
            "          23       0.71      0.67      0.69        18\n",
            "          24       0.23      0.22      0.22        23\n",
            "          25       0.58      0.82      0.68        17\n",
            "          26       0.80      0.77      0.78        26\n",
            "          27       0.61      0.64      0.62        22\n",
            "          28       0.68      0.59      0.63        29\n",
            "          29       0.56      0.54      0.55        28\n",
            "          30       0.88      0.66      0.75        35\n",
            "          31       0.64      0.67      0.65        27\n",
            "          32       0.55      0.48      0.51        23\n",
            "          33       0.63      0.57      0.60        21\n",
            "          34       0.09      0.08      0.09        25\n",
            "          35       0.70      0.85      0.77        27\n",
            "          36       0.58      0.90      0.71        20\n",
            "          37       0.32      0.30      0.31        20\n",
            "          38       0.56      0.65      0.60        23\n",
            "          39       0.48      0.61      0.54        23\n",
            "          40       0.74      0.68      0.71        34\n",
            "          41       0.68      0.83      0.75        30\n",
            "          42       0.42      0.38      0.40        26\n",
            "          43       0.65      0.74      0.69        27\n",
            "          44       0.81      1.00      0.89        21\n",
            "          45       0.57      0.54      0.55        24\n",
            "          46       0.72      0.60      0.65        30\n",
            "          47       0.57      0.68      0.62        25\n",
            "          48       0.48      0.54      0.51        24\n",
            "          49       0.67      0.73      0.70        22\n",
            "          50       0.58      0.72      0.64        25\n",
            "          51       0.65      0.52      0.58        29\n",
            "          52       0.75      0.62      0.68        29\n",
            "          53       0.50      0.52      0.51        21\n",
            "          54       0.78      0.75      0.77        24\n",
            "          55       0.36      0.44      0.40        18\n",
            "          56       0.87      0.93      0.90        28\n",
            "          57       0.68      0.54      0.60        28\n",
            "          58       0.88      0.90      0.89        31\n",
            "          59       0.71      0.88      0.79        25\n",
            "          60       0.65      0.81      0.72        27\n",
            "          61       0.53      0.57      0.55        30\n",
            "          62       0.75      0.65      0.70        23\n",
            "          63       0.50      0.45      0.48        22\n",
            "          64       0.45      0.48      0.47        29\n",
            "          65       0.24      0.37      0.29        19\n",
            "          66       0.41      0.71      0.52        24\n",
            "          67       0.84      0.73      0.78        22\n",
            "          68       0.56      0.34      0.43        29\n",
            "          69       0.46      0.55      0.50        20\n",
            "          70       0.77      0.96      0.86        25\n",
            "          71       0.61      0.52      0.56        27\n",
            "          72       0.76      0.80      0.78        35\n",
            "          73       0.53      0.77      0.63        22\n",
            "          74       0.37      0.48      0.42        21\n",
            "          75       0.85      0.88      0.87        26\n",
            "          76       0.94      0.94      0.94        33\n",
            "          77       0.50      0.37      0.42        19\n",
            "          78       0.53      0.36      0.43        28\n",
            "          79       0.35      0.38      0.36        24\n",
            "          80       0.87      0.71      0.78        28\n",
            "          81       0.57      0.72      0.63        18\n",
            "          82       0.75      0.46      0.57        26\n",
            "          83       0.62      0.76      0.68        21\n",
            "          84       0.35      0.53      0.42        17\n",
            "          85       0.83      0.77      0.80        26\n",
            "          86       0.88      1.00      0.93        21\n",
            "          87       0.67      0.73      0.70        22\n",
            "          88       0.60      0.43      0.50        21\n",
            "          89       0.52      0.50      0.51        26\n",
            "          90       0.50      0.65      0.57        20\n",
            "          91       0.67      0.67      0.67        21\n",
            "          92       0.85      0.57      0.68        30\n",
            "          93       0.88      0.76      0.81        29\n",
            "          94       0.40      0.44      0.42        27\n",
            "\n",
            "    accuracy                           0.63      2375\n",
            "   macro avg       0.63      0.63      0.62      2375\n",
            "weighted avg       0.64      0.63      0.62      2375\n",
            "\n"
          ]
        }
      ]
    },
    {
      "cell_type": "markdown",
      "source": [
        "#### 6. K-NN"
      ],
      "metadata": {
        "id": "gLIQZV5yMtRk"
      }
    },
    {
      "cell_type": "code",
      "source": [
        "from sklearn.model_selection import GridSearchCV\n",
        "from sklearn.neighbors import KNeighborsClassifier\n",
        "from sklearn.metrics import accuracy_score\n",
        "import time\n",
        "from sklearn.decomposition import PCA\n",
        "from sklearn.pipeline import Pipeline"
      ],
      "metadata": {
        "id": "D4_jqZI3MslB"
      },
      "execution_count": null,
      "outputs": []
    },
    {
      "cell_type": "code",
      "source": [
        "X_train, X_test, y_train, y_test = train_test_split(X, y, test_size=0.25, random_state=42)"
      ],
      "metadata": {
        "id": "zrI1MFZeflw2"
      },
      "execution_count": null,
      "outputs": []
    },
    {
      "cell_type": "code",
      "source": [
        "# Initialize a dictionary to store results\n",
        "results = {}\n",
        "\n",
        "# Iterate over different values of n_neighbors\n",
        "for n in range(5, 51):\n",
        "    # Initialize k-NN classifier with the current n_neighbors value\n",
        "    knn_classifier = KNeighborsClassifier(n_neighbors=n)\n",
        "\n",
        "    # Train the classifier and measure the time\n",
        "    start_time = time.time()\n",
        "    knn_classifier.fit(X_train, y_train)\n",
        "    training_time = time.time() - start_time\n",
        "\n",
        "    # Predictions & Accuracy\n",
        "    y_pred = knn_classifier.predict(X_test)\n",
        "    accuracy = accuracy_score(y_test, y_pred)\n",
        "\n",
        "    # Store results in the dictionary\n",
        "    results[n] = {'accuracy': accuracy, 'training_time': training_time}\n",
        "\n",
        "# Print the results\n",
        "for n, metrics in results.items():\n",
        "    print(f\"n_neighbors = {n}: Accuracy = {metrics['accuracy']:.4f}, Training time = {metrics['training_time']:.2f} seconds\")\n",
        "\n",
        "# Find and print the value of n_neighbors with the highest accuracy\n",
        "best_n = max(results, key=lambda k: results[k]['accuracy'])\n",
        "print(f\"\\nBest n_neighbors: {best_n} with accuracy = {results[best_n]['accuracy']:.4f}\")"
      ],
      "metadata": {
        "colab": {
          "base_uri": "https://localhost:8080/"
        },
        "id": "i4q68J8YNHpk",
        "outputId": "e3d27b68-fd1e-4c7c-f3c5-16b41a296b3a"
      },
      "execution_count": null,
      "outputs": [
        {
          "output_type": "stream",
          "name": "stdout",
          "text": [
            "n_neighbors = 5: Accuracy = 0.4147, Training time = 0.03 seconds\n",
            "n_neighbors = 6: Accuracy = 0.4147, Training time = 0.02 seconds\n",
            "n_neighbors = 7: Accuracy = 0.4164, Training time = 0.03 seconds\n",
            "n_neighbors = 8: Accuracy = 0.4181, Training time = 0.01 seconds\n",
            "n_neighbors = 9: Accuracy = 0.4105, Training time = 0.01 seconds\n",
            "n_neighbors = 10: Accuracy = 0.4101, Training time = 0.01 seconds\n",
            "n_neighbors = 11: Accuracy = 0.4046, Training time = 0.01 seconds\n",
            "n_neighbors = 12: Accuracy = 0.4017, Training time = 0.02 seconds\n",
            "n_neighbors = 13: Accuracy = 0.4029, Training time = 0.02 seconds\n",
            "n_neighbors = 14: Accuracy = 0.4004, Training time = 0.02 seconds\n",
            "n_neighbors = 15: Accuracy = 0.3949, Training time = 0.02 seconds\n",
            "n_neighbors = 16: Accuracy = 0.3861, Training time = 0.02 seconds\n",
            "n_neighbors = 17: Accuracy = 0.3895, Training time = 0.02 seconds\n",
            "n_neighbors = 18: Accuracy = 0.3895, Training time = 0.02 seconds\n",
            "n_neighbors = 19: Accuracy = 0.3777, Training time = 0.02 seconds\n",
            "n_neighbors = 20: Accuracy = 0.3684, Training time = 0.02 seconds\n",
            "n_neighbors = 21: Accuracy = 0.3688, Training time = 0.02 seconds\n",
            "n_neighbors = 22: Accuracy = 0.3634, Training time = 0.02 seconds\n",
            "n_neighbors = 23: Accuracy = 0.3562, Training time = 0.02 seconds\n",
            "n_neighbors = 24: Accuracy = 0.3507, Training time = 0.02 seconds\n",
            "n_neighbors = 25: Accuracy = 0.3491, Training time = 0.02 seconds\n",
            "n_neighbors = 26: Accuracy = 0.3415, Training time = 0.02 seconds\n",
            "n_neighbors = 27: Accuracy = 0.3389, Training time = 0.02 seconds\n",
            "n_neighbors = 28: Accuracy = 0.3263, Training time = 0.02 seconds\n",
            "n_neighbors = 29: Accuracy = 0.3272, Training time = 0.02 seconds\n",
            "n_neighbors = 30: Accuracy = 0.3255, Training time = 0.02 seconds\n",
            "n_neighbors = 31: Accuracy = 0.3208, Training time = 0.02 seconds\n",
            "n_neighbors = 32: Accuracy = 0.3196, Training time = 0.02 seconds\n",
            "n_neighbors = 33: Accuracy = 0.3196, Training time = 0.02 seconds\n",
            "n_neighbors = 34: Accuracy = 0.3162, Training time = 0.02 seconds\n",
            "n_neighbors = 35: Accuracy = 0.3128, Training time = 0.02 seconds\n",
            "n_neighbors = 36: Accuracy = 0.3120, Training time = 0.02 seconds\n",
            "n_neighbors = 37: Accuracy = 0.3103, Training time = 0.02 seconds\n",
            "n_neighbors = 38: Accuracy = 0.3103, Training time = 0.02 seconds\n",
            "n_neighbors = 39: Accuracy = 0.3112, Training time = 0.02 seconds\n",
            "n_neighbors = 40: Accuracy = 0.3069, Training time = 0.02 seconds\n",
            "n_neighbors = 41: Accuracy = 0.3040, Training time = 0.01 seconds\n",
            "n_neighbors = 42: Accuracy = 0.3015, Training time = 0.01 seconds\n",
            "n_neighbors = 43: Accuracy = 0.3006, Training time = 0.01 seconds\n",
            "n_neighbors = 44: Accuracy = 0.2981, Training time = 0.01 seconds\n",
            "n_neighbors = 45: Accuracy = 0.2977, Training time = 0.01 seconds\n",
            "n_neighbors = 46: Accuracy = 0.2985, Training time = 0.01 seconds\n",
            "n_neighbors = 47: Accuracy = 0.2977, Training time = 0.01 seconds\n",
            "n_neighbors = 48: Accuracy = 0.2977, Training time = 0.01 seconds\n",
            "n_neighbors = 49: Accuracy = 0.2964, Training time = 0.01 seconds\n",
            "n_neighbors = 50: Accuracy = 0.2931, Training time = 0.02 seconds\n",
            "\n",
            "Best n_neighbors: 8 with accuracy = 0.4181\n"
          ]
        }
      ]
    },
    {
      "cell_type": "code",
      "source": [
        "#2. Use PCA + k-NN to reduce the dimension and GridSearchCV to select the optimal number of principal components and k in k-NN.\n",
        "pipe = Pipeline([\n",
        "    ('pca', PCA()),\n",
        "    ('clf', KNeighborsClassifier())\n",
        "])\n",
        "\n",
        "parameters = {\n",
        "    'pca__n_components': [2, 4, 6, 8, 10],\n",
        "    'clf__n_neighbors': [5, 8, 10]\n",
        "}\n",
        "\n",
        "# GridSearchCV with 5-fold cross-validation\n",
        "grid_search = GridSearchCV(pipe, parameters, cv=5, scoring='accuracy', verbose=1)\n",
        "grid_search.fit(X_train, y_train)"
      ],
      "metadata": {
        "colab": {
          "base_uri": "https://localhost:8080/",
          "height": 167
        },
        "id": "QF82zxVvOWOR",
        "outputId": "dd8035f6-236b-4722-896e-de084375a739"
      },
      "execution_count": null,
      "outputs": [
        {
          "output_type": "stream",
          "name": "stdout",
          "text": [
            "Fitting 5 folds for each of 15 candidates, totalling 75 fits\n"
          ]
        },
        {
          "output_type": "execute_result",
          "data": {
            "text/plain": [
              "GridSearchCV(cv=5,\n",
              "             estimator=Pipeline(steps=[('pca', PCA()),\n",
              "                                       ('clf', KNeighborsClassifier())]),\n",
              "             param_grid={'clf__n_neighbors': [5, 8, 10],\n",
              "                         'pca__n_components': [2, 4, 6, 8, 10]},\n",
              "             scoring='accuracy', verbose=1)"
            ],
            "text/html": [
              "<style>#sk-container-id-5 {color: black;background-color: white;}#sk-container-id-5 pre{padding: 0;}#sk-container-id-5 div.sk-toggleable {background-color: white;}#sk-container-id-5 label.sk-toggleable__label {cursor: pointer;display: block;width: 100%;margin-bottom: 0;padding: 0.3em;box-sizing: border-box;text-align: center;}#sk-container-id-5 label.sk-toggleable__label-arrow:before {content: \"▸\";float: left;margin-right: 0.25em;color: #696969;}#sk-container-id-5 label.sk-toggleable__label-arrow:hover:before {color: black;}#sk-container-id-5 div.sk-estimator:hover label.sk-toggleable__label-arrow:before {color: black;}#sk-container-id-5 div.sk-toggleable__content {max-height: 0;max-width: 0;overflow: hidden;text-align: left;background-color: #f0f8ff;}#sk-container-id-5 div.sk-toggleable__content pre {margin: 0.2em;color: black;border-radius: 0.25em;background-color: #f0f8ff;}#sk-container-id-5 input.sk-toggleable__control:checked~div.sk-toggleable__content {max-height: 200px;max-width: 100%;overflow: auto;}#sk-container-id-5 input.sk-toggleable__control:checked~label.sk-toggleable__label-arrow:before {content: \"▾\";}#sk-container-id-5 div.sk-estimator input.sk-toggleable__control:checked~label.sk-toggleable__label {background-color: #d4ebff;}#sk-container-id-5 div.sk-label input.sk-toggleable__control:checked~label.sk-toggleable__label {background-color: #d4ebff;}#sk-container-id-5 input.sk-hidden--visually {border: 0;clip: rect(1px 1px 1px 1px);clip: rect(1px, 1px, 1px, 1px);height: 1px;margin: -1px;overflow: hidden;padding: 0;position: absolute;width: 1px;}#sk-container-id-5 div.sk-estimator {font-family: monospace;background-color: #f0f8ff;border: 1px dotted black;border-radius: 0.25em;box-sizing: border-box;margin-bottom: 0.5em;}#sk-container-id-5 div.sk-estimator:hover {background-color: #d4ebff;}#sk-container-id-5 div.sk-parallel-item::after {content: \"\";width: 100%;border-bottom: 1px solid gray;flex-grow: 1;}#sk-container-id-5 div.sk-label:hover label.sk-toggleable__label {background-color: #d4ebff;}#sk-container-id-5 div.sk-serial::before {content: \"\";position: absolute;border-left: 1px solid gray;box-sizing: border-box;top: 0;bottom: 0;left: 50%;z-index: 0;}#sk-container-id-5 div.sk-serial {display: flex;flex-direction: column;align-items: center;background-color: white;padding-right: 0.2em;padding-left: 0.2em;position: relative;}#sk-container-id-5 div.sk-item {position: relative;z-index: 1;}#sk-container-id-5 div.sk-parallel {display: flex;align-items: stretch;justify-content: center;background-color: white;position: relative;}#sk-container-id-5 div.sk-item::before, #sk-container-id-5 div.sk-parallel-item::before {content: \"\";position: absolute;border-left: 1px solid gray;box-sizing: border-box;top: 0;bottom: 0;left: 50%;z-index: -1;}#sk-container-id-5 div.sk-parallel-item {display: flex;flex-direction: column;z-index: 1;position: relative;background-color: white;}#sk-container-id-5 div.sk-parallel-item:first-child::after {align-self: flex-end;width: 50%;}#sk-container-id-5 div.sk-parallel-item:last-child::after {align-self: flex-start;width: 50%;}#sk-container-id-5 div.sk-parallel-item:only-child::after {width: 0;}#sk-container-id-5 div.sk-dashed-wrapped {border: 1px dashed gray;margin: 0 0.4em 0.5em 0.4em;box-sizing: border-box;padding-bottom: 0.4em;background-color: white;}#sk-container-id-5 div.sk-label label {font-family: monospace;font-weight: bold;display: inline-block;line-height: 1.2em;}#sk-container-id-5 div.sk-label-container {text-align: center;}#sk-container-id-5 div.sk-container {/* jupyter's `normalize.less` sets `[hidden] { display: none; }` but bootstrap.min.css set `[hidden] { display: none !important; }` so we also need the `!important` here to be able to override the default hidden behavior on the sphinx rendered scikit-learn.org. See: https://github.com/scikit-learn/scikit-learn/issues/21755 */display: inline-block !important;position: relative;}#sk-container-id-5 div.sk-text-repr-fallback {display: none;}</style><div id=\"sk-container-id-5\" class=\"sk-top-container\"><div class=\"sk-text-repr-fallback\"><pre>GridSearchCV(cv=5,\n",
              "             estimator=Pipeline(steps=[(&#x27;pca&#x27;, PCA()),\n",
              "                                       (&#x27;clf&#x27;, KNeighborsClassifier())]),\n",
              "             param_grid={&#x27;clf__n_neighbors&#x27;: [5, 8, 10],\n",
              "                         &#x27;pca__n_components&#x27;: [2, 4, 6, 8, 10]},\n",
              "             scoring=&#x27;accuracy&#x27;, verbose=1)</pre><b>In a Jupyter environment, please rerun this cell to show the HTML representation or trust the notebook. <br />On GitHub, the HTML representation is unable to render, please try loading this page with nbviewer.org.</b></div><div class=\"sk-container\" hidden><div class=\"sk-item sk-dashed-wrapped\"><div class=\"sk-label-container\"><div class=\"sk-label sk-toggleable\"><input class=\"sk-toggleable__control sk-hidden--visually\" id=\"sk-estimator-id-10\" type=\"checkbox\" ><label for=\"sk-estimator-id-10\" class=\"sk-toggleable__label sk-toggleable__label-arrow\">GridSearchCV</label><div class=\"sk-toggleable__content\"><pre>GridSearchCV(cv=5,\n",
              "             estimator=Pipeline(steps=[(&#x27;pca&#x27;, PCA()),\n",
              "                                       (&#x27;clf&#x27;, KNeighborsClassifier())]),\n",
              "             param_grid={&#x27;clf__n_neighbors&#x27;: [5, 8, 10],\n",
              "                         &#x27;pca__n_components&#x27;: [2, 4, 6, 8, 10]},\n",
              "             scoring=&#x27;accuracy&#x27;, verbose=1)</pre></div></div></div><div class=\"sk-parallel\"><div class=\"sk-parallel-item\"><div class=\"sk-item\"><div class=\"sk-label-container\"><div class=\"sk-label sk-toggleable\"><input class=\"sk-toggleable__control sk-hidden--visually\" id=\"sk-estimator-id-11\" type=\"checkbox\" ><label for=\"sk-estimator-id-11\" class=\"sk-toggleable__label sk-toggleable__label-arrow\">estimator: Pipeline</label><div class=\"sk-toggleable__content\"><pre>Pipeline(steps=[(&#x27;pca&#x27;, PCA()), (&#x27;clf&#x27;, KNeighborsClassifier())])</pre></div></div></div><div class=\"sk-serial\"><div class=\"sk-item\"><div class=\"sk-serial\"><div class=\"sk-item\"><div class=\"sk-estimator sk-toggleable\"><input class=\"sk-toggleable__control sk-hidden--visually\" id=\"sk-estimator-id-12\" type=\"checkbox\" ><label for=\"sk-estimator-id-12\" class=\"sk-toggleable__label sk-toggleable__label-arrow\">PCA</label><div class=\"sk-toggleable__content\"><pre>PCA()</pre></div></div></div><div class=\"sk-item\"><div class=\"sk-estimator sk-toggleable\"><input class=\"sk-toggleable__control sk-hidden--visually\" id=\"sk-estimator-id-13\" type=\"checkbox\" ><label for=\"sk-estimator-id-13\" class=\"sk-toggleable__label sk-toggleable__label-arrow\">KNeighborsClassifier</label><div class=\"sk-toggleable__content\"><pre>KNeighborsClassifier()</pre></div></div></div></div></div></div></div></div></div></div></div></div>"
            ]
          },
          "metadata": {},
          "execution_count": 33
        }
      ]
    },
    {
      "cell_type": "code",
      "source": [
        "# 3. Report the best accuracy and parameters\n",
        "print(\"Best Parameters:\", grid_search.best_params_)\n",
        "print(\"Best Cross-Validated Accuracy:\", grid_search.best_score_)"
      ],
      "metadata": {
        "colab": {
          "base_uri": "https://localhost:8080/"
        },
        "id": "c2GZWFb4OvbI",
        "outputId": "d40c7105-0884-435b-cdca-0e3fe4d2fefc"
      },
      "execution_count": null,
      "outputs": [
        {
          "output_type": "stream",
          "name": "stdout",
          "text": [
            "Best Parameters: {'clf__n_neighbors': 5, 'pca__n_components': 4}\n",
            "Best Cross-Validated Accuracy: 0.4040701754385966\n"
          ]
        }
      ]
    },
    {
      "cell_type": "code",
      "source": [
        "# 4. Using the best estimator with the best parameters, re-evaluate the testing set and measure the time to elapse.\n",
        "best_estimator = grid_search.best_estimator_\n",
        "\n",
        "# Time to evaluate on the testing set\n",
        "start_time = time.time()\n",
        "y_test_pred = best_estimator.predict(X_test)\n",
        "testing_time = time.time() - start_time\n",
        "\n",
        "# Accuracy on the testing set\n",
        "accuracy_test = accuracy_score(y_test, y_test_pred)\n",
        "\n",
        "print(\"Accuracy on the Testing Set:\", accuracy_test)\n",
        "print(\"Testing Time:\", testing_time, \"seconds\")"
      ],
      "metadata": {
        "colab": {
          "base_uri": "https://localhost:8080/"
        },
        "id": "LEriDHnUO0Lw",
        "outputId": "544d10e0-d2b4-4f94-ed94-643d56c50213"
      },
      "execution_count": null,
      "outputs": [
        {
          "output_type": "stream",
          "name": "stdout",
          "text": [
            "Accuracy on the Testing Set: 0.4147368421052632\n",
            "Testing Time: 0.13258647918701172 seconds\n"
          ]
        }
      ]
    }
  ]
}