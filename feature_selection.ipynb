{
  "nbformat": 4,
  "nbformat_minor": 0,
  "metadata": {
    "colab": {
      "provenance": []
    },
    "kernelspec": {
      "name": "python3",
      "display_name": "Python 3"
    },
    "language_info": {
      "name": "python"
    }
  },
  "cells": [
    {
      "cell_type": "markdown",
      "source": [
        "# Feature Extraction"
      ],
      "metadata": {
        "id": "l4_6ck2l3nme"
      }
    },
    {
      "cell_type": "markdown",
      "source": [
        "### 1. Data Cleaning & Pre-processing\n",
        "\n",
        "**mon_standard.pkl**: This file contains data from \"monitored\" websites.\n",
        "\n",
        "   - Class count: 95\n",
        "\n",
        "   - Instance count: 19,000 (95 websites, each with 10 subpages which are non-index pages, observed 20 times each)\n",
        "\n"
      ],
      "metadata": {
        "id": "sgkuT368UDVv"
      }
    },
    {
      "cell_type": "code",
      "source": [
        "from google.colab import drive\n",
        "drive.mount('/content/drive')"
      ],
      "metadata": {
        "colab": {
          "base_uri": "https://localhost:8080/"
        },
        "id": "s6gsSBqcCs__",
        "outputId": "d1e11df4-0c28-431e-b314-0cf1abdf38ec"
      },
      "execution_count": null,
      "outputs": [
        {
          "output_type": "stream",
          "name": "stdout",
          "text": [
            "Mounted at /content/drive\n"
          ]
        }
      ]
    },
    {
      "cell_type": "code",
      "source": [
        "import pickle\n",
        "import numpy as np"
      ],
      "metadata": {
        "id": "WT6b-dzuCvcd"
      },
      "execution_count": null,
      "outputs": []
    },
    {
      "cell_type": "code",
      "source": [
        "# Load X1, X2, y\n",
        "\n",
        "# Load X1\n",
        "with open('/content/drive/My Drive/Machine Learning Project/CODES/X1.pkl', 'rb') as file:\n",
        "    X1 = pickle.load(file)\n",
        "\n",
        "# Load X2\n",
        "with open('/content/drive/My Drive/Machine Learning Project/CODES/X2.pkl', 'rb') as file:\n",
        "    X2 = pickle.load(file)\n",
        "\n",
        "# Load y\n",
        "with open('/content/drive/My Drive/Machine Learning Project/CODES/y.pkl', 'rb') as file:\n",
        "    y = pickle.load(file)"
      ],
      "metadata": {
        "id": "P__9vF8ECxi2"
      },
      "execution_count": null,
      "outputs": []
    },
    {
      "cell_type": "code",
      "source": [
        "import random\n",
        "\n",
        "num_samples_per_y = y.count(0)\n",
        "num_sample = int(num_samples_per_y/2)\n",
        "\n",
        "# Initialize lists to store sampled values\n",
        "sampled_X1 = []\n",
        "sampled_X2 = []\n",
        "sampled_y = []\n",
        "\n",
        "# Randomly sample num_sample values for each value of y\n",
        "unique_y_values = set(y)\n",
        "for val in unique_y_values:\n",
        "    indices_for_y = [idx for idx, value in enumerate(y) if value == val]  # Find indices corresponding to each value of y\n",
        "    sampled_indices = random.sample(indices_for_y, num_sample)  # Sample num_sample indices\n",
        "    sampled_X1.extend([X1[i] for i in sampled_indices])\n",
        "    sampled_X2.extend([X2[i] for i in sampled_indices])\n",
        "    sampled_y.extend([y[i] for i in sampled_indices])\n",
        "\n",
        "# Verify the lengths of sampled lists\n",
        "print(\"Sampled X1 length:\", len(sampled_X1))\n",
        "print(\"Sampled X2 length:\", len(sampled_X2))\n",
        "print(\"Sampled y length:\", len(sampled_y))\n"
      ],
      "metadata": {
        "colab": {
          "base_uri": "https://localhost:8080/"
        },
        "id": "Pc_I3bbQpMZN",
        "outputId": "6fbcfba0-bd53-4e4c-a045-eb5d9fb62c3e"
      },
      "execution_count": null,
      "outputs": [
        {
          "output_type": "stream",
          "name": "stdout",
          "text": [
            "Sampled X1 length: 9500\n",
            "Sampled X2 length: 9500\n",
            "Sampled y length: 9500\n"
          ]
        }
      ]
    },
    {
      "cell_type": "code",
      "source": [
        "X1 = sampled_X1\n",
        "X2 = sampled_X2\n",
        "y = sampled_y"
      ],
      "metadata": {
        "id": "M-iQznvlC391"
      },
      "execution_count": null,
      "outputs": []
    },
    {
      "cell_type": "markdown",
      "source": [
        "### 2a. Feature Extraction (Continuous Features)\n",
        "\n",
        "1. Sequence of packet timestamps (X1)\n",
        "2. Sequence of packet sizes (X2)\n",
        "3. Sequence of cumulative packet sizes\n",
        "4. Sequence of bursts\n",
        "\n"
      ],
      "metadata": {
        "id": "tMBp1aYON7u7"
      }
    },
    {
      "cell_type": "markdown",
      "source": [
        "Continuous Feature 3: Sequence of Cumulative Packet Sizes"
      ],
      "metadata": {
        "id": "asqfZXLYDe-K"
      }
    },
    {
      "cell_type": "code",
      "source": [
        "# Compute the cumulative sum for each sequence\n",
        "cumulative_sizes = [np.cumsum(seq) for seq in X2]\n",
        "\n",
        "# Print the first 10 values of the cumulative sizes for the 1st element\n",
        "print(\"First 10 values of cumulative sizes:\")\n",
        "print(cumulative_sizes[0][:10])"
      ],
      "metadata": {
        "id": "TmyMa-qfBtPG",
        "colab": {
          "base_uri": "https://localhost:8080/"
        },
        "outputId": "b1121b28-f7d2-46d1-8468-6b1ee83836ba"
      },
      "execution_count": null,
      "outputs": [
        {
          "output_type": "stream",
          "name": "stdout",
          "text": [
            "First 10 values of cumulative sizes:\n",
            "[ -512 -1024  -512 -1024  -512 -1024  -512     0  -512 -1024]\n"
          ]
        }
      ]
    },
    {
      "cell_type": "markdown",
      "source": [
        "Continuous Feature 4: Sequence of Bursts"
      ],
      "metadata": {
        "id": "YNawaHgnDtag"
      }
    },
    {
      "cell_type": "code",
      "source": [
        "def calculate_bursts_and_durations(X1, X2):\n",
        "    seq_of_bursts = []\n",
        "    burst_duration = []\n",
        "\n",
        "    for timestamps, sizes in zip(X1, X2):\n",
        "        burst = []\n",
        "        duration = []\n",
        "\n",
        "        current_size = 0\n",
        "        current_time = 0.0\n",
        "\n",
        "        time_start = 0.0\n",
        "\n",
        "        for time, size in zip(timestamps, sizes):\n",
        "          if current_size == 0 or (size > 0 and current_size > 0) or (size < 0 and current_size < 0):\n",
        "              current_size += size\n",
        "              current_time = time - time_start\n",
        "          else:\n",
        "              burst.append(current_size)\n",
        "              duration.append(current_time)\n",
        "              current_size = size\n",
        "              current_time = 0.0\n",
        "              time_start = time\n",
        "\n",
        "        burst.append(current_size)\n",
        "        duration.append(time-time_start)\n",
        "        seq_of_bursts.append(burst)\n",
        "        burst_duration.append(duration)\n",
        "\n",
        "    return burst_duration, seq_of_bursts\n",
        "\n",
        "burst_duration, seq_of_bursts = calculate_bursts_and_durations(X1, X2)\n",
        "\n",
        "print(burst_duration[0][:10])\n",
        "print(seq_of_bursts[0][:10])"
      ],
      "metadata": {
        "id": "pnhvsUz_Dyy_",
        "colab": {
          "base_uri": "https://localhost:8080/"
        },
        "outputId": "ae2ecb56-bce6-4e24-ad79-ef4df64c0f8a"
      },
      "execution_count": null,
      "outputs": [
        {
          "output_type": "stream",
          "name": "stdout",
          "text": [
            "[0.2, 0.0, 0.0, 0.0, 0.0, 0.0, 0.1100000000000001, 0.0, 0.0, 0.0]\n",
            "[-1024, 512, -512, 512, -512, 1024, -7168, 512, -512, 512]\n"
          ]
        }
      ]
    },
    {
      "cell_type": "code",
      "source": [
        "print(X1[0][:20])\n",
        "print(X2[0][:20])"
      ],
      "metadata": {
        "colab": {
          "base_uri": "https://localhost:8080/"
        },
        "id": "9vyMljXvu61_",
        "outputId": "19b7936f-7dea-45fe-9380-ccae02ecfc21"
      },
      "execution_count": null,
      "outputs": [
        {
          "output_type": "stream",
          "name": "stdout",
          "text": [
            "[0.0, 0.2, 0.2, 0.39, 1.0, 1.24, 1.24, 1.24, 1.46, 1.46, 1.46, 1.46, 1.46, 1.46, 1.46, 1.57, 1.57, 1.57, 1.57, 1.57]\n",
            "[-512, -512, 512, -512, 512, -512, 512, 512, -512, -512, -512, -512, -512, -512, -512, -512, -512, -512, -512, -512]\n"
          ]
        }
      ]
    },
    {
      "cell_type": "markdown",
      "source": [
        "### 2b. Feature Extraction (Categorical Features)\n",
        "\n",
        "\n",
        "1. Number of incoming packets\n",
        "2. Number of incoming packets as a fraction of the total number of packets\n",
        "3. Number of outgoing packets\n",
        "4. Number of outgoing packets as a fraction of the total number of packets\n",
        "5. Total number of packets.\n",
        "6. Packet rate\n",
        "7. Incoming packet rate (client to server)\n",
        "8. Outgoing packet rate (server to client)\n",
        "9. Average time gap\n",
        "10. Total incoming bytes\n",
        "11. Total outgoing bytes\n",
        "12. Total incoming bursts\n",
        "13. Total outgoing bursts\n",
        "14. Total bursts\n",
        "15. Average Inter-arrival time for incoming packets per sample\n",
        "16. Average inter-departure time for outgoing packets per sample\n",
        "17. Total burst duration"
      ],
      "metadata": {
        "id": "v4HCd_RGOvh3"
      }
    },
    {
      "cell_type": "code",
      "source": [
        "# 1. Number of incoming packets\n",
        "incoming_packets = [sum(1 for size in size_seq if size > 0) for size_seq in X2]\n",
        "\n",
        "# 2. Number of incoming packets as a fraction of the total number of packets\n",
        "fraction_incoming_packets = [sum(1 for size in size_seq if size > 0) / len(size_seq) for size_seq in X2]\n",
        "\n",
        "# 3. Number of outgoing packets\n",
        "outgoing_packets = [sum(1 for size in size_seq if size < 0) for size_seq in X2]\n",
        "\n",
        "# 4. Number of outgoing packets as a fraction of the total number of packets\n",
        "fraction_outgoing_packets = [sum(1 for size in size_seq if size < 0) / len(size_seq) for size_seq in X2]\n",
        "\n",
        "# Print first 10 values of the resulting arrays\n",
        "print(\"Incoming Packets Array:\")\n",
        "print(incoming_packets[:10])\n",
        "\n",
        "print(\"\\nFraction of Incoming Packets Array:\")\n",
        "print(fraction_incoming_packets[:10])\n",
        "\n",
        "print(\"\\nOutgoing Packets Array:\")\n",
        "print(outgoing_packets[:10])\n",
        "\n",
        "print(\"\\nFraction of Outgoing Packets Array:\")\n",
        "print(fraction_outgoing_packets[:10])"
      ],
      "metadata": {
        "colab": {
          "base_uri": "https://localhost:8080/"
        },
        "id": "IoSK2qUtT7G2",
        "outputId": "f94f6496-45f0-41a4-af36-0eb2c5f73c14"
      },
      "execution_count": null,
      "outputs": [
        {
          "output_type": "stream",
          "name": "stdout",
          "text": [
            "Incoming Packets Array:\n",
            "[336, 376, 153, 483, 175, 168, 480, 458, 153, 156]\n",
            "\n",
            "Fraction of Incoming Packets Array:\n",
            "[0.1601525262154433, 0.1536575398447078, 0.06860986547085202, 0.049401656949984656, 0.09526401741970604, 0.16247582205029013, 0.049039640375970577, 0.046854219948849106, 0.06790945406125166, 0.06770833333333333]\n",
            "\n",
            "Outgoing Packets Array:\n",
            "[1762, 2071, 2077, 9294, 1662, 866, 9308, 9317, 2100, 2148]\n",
            "\n",
            "Fraction of Outgoing Packets Array:\n",
            "[0.8398474737845567, 0.8463424601552922, 0.931390134529148, 0.9505983430500153, 0.904735982580294, 0.8375241779497099, 0.9509603596240295, 0.9531457800511509, 0.9320905459387483, 0.9322916666666666]\n"
          ]
        }
      ]
    },
    {
      "cell_type": "code",
      "source": [
        "# 5. Total number of packets\n",
        "total_packets = [len(size_seq) for size_seq in X2]\n",
        "\n",
        "# 6. Packet Rate: Calculate the rate of packet arrival for each sequence\n",
        "packet_rate = [len(seq) / (max(seq) - min(seq)) if len(seq) > 1 else 0 for seq in X1]\n",
        "\n",
        "# 7. Incoming packet rate (client to server)\n",
        "incoming_packet_rate = [sum(1 for size in sizes if size > 0) / (max(seq) - min(seq)) if len(seq) > 1 else 0 for seq, sizes in zip(X1, X2)]\n",
        "\n",
        "# 8. Outgoing packet rate (server to client)\n",
        "outgoing_packet_rate = [sum(1 for size in sizes if size < 0) / (max(seq) - min(seq)) if len(seq) > 1 else 0 for seq, sizes in zip(X1, X2)]\n",
        "\n",
        "print(\"Total Packets Array:\")\n",
        "print(total_packets[:10])\n",
        "\n",
        "print(\"\\nPacket Rate:\")\n",
        "print(packet_rate[:10])\n",
        "\n",
        "print(\"\\nIncoming Packet Rate:\")\n",
        "print(incoming_packet_rate[:10])\n",
        "\n",
        "print(\"\\nOutgoing Packet Rate:\")\n",
        "print(outgoing_packet_rate[:10])"
      ],
      "metadata": {
        "colab": {
          "base_uri": "https://localhost:8080/"
        },
        "id": "E_oBZbNJZ9_z",
        "outputId": "d61b0096-6691-48af-a899-0132569cfe3e"
      },
      "execution_count": null,
      "outputs": [
        {
          "output_type": "stream",
          "name": "stdout",
          "text": [
            "Total Packets Array:\n",
            "[2098, 2447, 2230, 9777, 1837, 1034, 9788, 9775, 2253, 2304]\n",
            "\n",
            "Packet Rate:\n",
            "[62.4962764372952, 72.7624145108534, 227.3190621814475, 588.2671480144404, 112.14896214896216, 103.7111334002006, 770.7086614173229, 481.0531496062992, 206.88705234159778, 177.64070932922127]\n",
            "\n",
            "Incoming Packet Rate:\n",
            "[10.00893655049151, 11.180493606898601, 15.596330275229358, 29.061371841155232, 10.683760683760685, 16.850551654964892, 37.795275590551185, 22.539370078740156, 14.049586776859503, 12.02775636083269]\n",
            "\n",
            "Outgoing Packet Rate:\n",
            "[52.487339886803696, 61.581920903954796, 211.72273190621814, 559.2057761732851, 101.46520146520147, 86.8605817452357, 732.9133858267717, 458.51377952755905, 192.8374655647383, 165.61295296838858]\n"
          ]
        }
      ]
    },
    {
      "cell_type": "code",
      "source": [
        "# 9. Average Time Gap: Calculate the average time gap for each sequence in X1\n",
        "avg_time_gaps = []\n",
        "\n",
        "for seq in X1:\n",
        "    if len(seq) > 1:\n",
        "        time_gaps_sum = sum(j - i for i, j in zip(seq, seq[1:]))\n",
        "        avg_time_gap = time_gaps_sum / (len(seq) - 1)  # Subtract 1 because there are len(seq) - 1 time gaps\n",
        "        avg_time_gaps.append(avg_time_gap)\n",
        "    else:\n",
        "        avg_time_gaps.append(0)\n",
        "\n",
        "print(\"\\nAverage Time Gaps:\")\n",
        "print(avg_time_gaps[:10])"
      ],
      "metadata": {
        "id": "gtngxnPAb01q",
        "colab": {
          "base_uri": "https://localhost:8080/"
        },
        "outputId": "d29adc3d-8590-4e09-f719-5ad52dc9f209"
      },
      "execution_count": null,
      "outputs": [
        {
          "output_type": "stream",
          "name": "stdout",
          "text": [
            "\n",
            "Average Time Gaps:\n",
            "[0.016008583690987125, 0.01374897792313982, 0.004401076716016151, 0.0017000818330605565, 0.00892156862745098, 0.009651500484027107, 0.0012976397261673647, 0.0020789850624104767, 0.004835701598579041, 0.005631784628745115]\n"
          ]
        }
      ]
    },
    {
      "cell_type": "code",
      "source": [
        "# 10. & 11. Total incoming and outgoing bytes\n",
        "incoming_bytes = []\n",
        "outgoing_bytes = []\n",
        "\n",
        "for sample in X2:\n",
        "    incoming = sum(size for size in sample if size > 0)\n",
        "    outgoing = abs(sum(size for size in sample if size < 0))\n",
        "\n",
        "    incoming_bytes.append(incoming)\n",
        "    outgoing_bytes.append(outgoing)\n",
        "\n",
        "# Print total incoming and outgoing bytes for the first 10 samples\n",
        "print(f'Incoming Bytes: {incoming_bytes[:10]}')\n",
        "print(f'Outgoing Bytes: {outgoing_bytes[:10]}')"
      ],
      "metadata": {
        "colab": {
          "base_uri": "https://localhost:8080/"
        },
        "id": "YWhjePw_TQQM",
        "outputId": "946ce835-7503-4512-e786-ff7d42d3064a"
      },
      "execution_count": null,
      "outputs": [
        {
          "output_type": "stream",
          "name": "stdout",
          "text": [
            "Incoming Bytes: [172032, 192512, 78336, 247296, 89600, 86016, 245760, 234496, 78336, 79872]\n",
            "Outgoing Bytes: [902144, 1060352, 1063424, 4758528, 850944, 443392, 4765696, 4770304, 1075200, 1099776]\n"
          ]
        }
      ]
    },
    {
      "cell_type": "code",
      "source": [
        "# 12. & 13. Number of incoming and outgoing burst\n",
        "\n",
        "total_incoming_bursts = []\n",
        "total_outgoing_bursts = []\n",
        "\n",
        "# Calculate total number of incoming and outgoing bursts for all samples\n",
        "for sample in seq_of_bursts:\n",
        "  incoming_bursts = sum(1 for val in sample if val > 0)\n",
        "  outgoing_bursts = sum(1 for val in sample if val < 0)\n",
        "\n",
        "  total_incoming_bursts.append(incoming_bursts)\n",
        "  total_outgoing_bursts.append(outgoing_bursts)\n",
        "\n",
        "# 14. Calculate burst count for each sample\n",
        "burst_count = [len(bursts) for bursts in seq_of_bursts]\n",
        "\n",
        "# Print total incoming and outgoing bursts for first 10 samples\n",
        "print(f\"Total Incoming Bursts: {total_incoming_bursts[:10]}\")\n",
        "print(f\"Total Outgoing Bursts: {total_outgoing_bursts[:10]}\")\n",
        "print(f\"Burst Count: {burst_count[:10]}\")\n",
        "\n"
      ],
      "metadata": {
        "colab": {
          "base_uri": "https://localhost:8080/"
        },
        "id": "qE_p_eExYfO9",
        "outputId": "635bc603-4767-49c9-85ea-dfb659d4747f"
      },
      "execution_count": null,
      "outputs": [
        {
          "output_type": "stream",
          "name": "stdout",
          "text": [
            "Total Incoming Bursts: [128, 127, 104, 349, 97, 65, 343, 348, 102, 100]\n",
            "Total Outgoing Bursts: [129, 128, 104, 349, 97, 65, 343, 348, 102, 100]\n",
            "Burst Count: [257, 255, 208, 698, 194, 130, 686, 696, 204, 200]\n"
          ]
        }
      ]
    },
    {
      "cell_type": "code",
      "source": [
        "# 15. Calculate average inter-arrival time for incoming packets per sample\n",
        "avg_interarrival_times = []\n",
        "\n",
        "for idx, (sample_packets, sample_directions) in enumerate(zip(X1, X2)):\n",
        "    incoming_packet_times = []\n",
        "\n",
        "    # Filter incoming packets based on positive direction values\n",
        "    incoming_packet_times = [packet_time for packet_time, direction in zip(sample_packets, sample_directions) if direction > 0]\n",
        "\n",
        "    if len(incoming_packet_times) <= 1:\n",
        "        # If only one or no incoming packet in the sample, assign 0 average inter-arrival time\n",
        "        avg_interarrival_times.append(0)\n",
        "    else:\n",
        "        # Calculate inter-arrival times between incoming packets\n",
        "        interarrival_times = [incoming_packet_times[i + 1] - incoming_packet_times[i] for i in range(len(incoming_packet_times) - 1)]\n",
        "\n",
        "        # Compute the average inter-arrival time for incoming packets\n",
        "        avg_interarrival_time = sum(interarrival_times) / len(interarrival_times)\n",
        "        avg_interarrival_times.append(avg_interarrival_time)\n",
        "\n",
        "# Print average inter-arrival time for incoming packets per sample\n",
        "print(\"Average inter-arrival time for incoming packets per sample:\")\n",
        "for i, avg_interarrival_time in enumerate(avg_interarrival_times[:10], start=1):\n",
        "    print(f\"Sample {i}: {avg_interarrival_time}\")\n"
      ],
      "metadata": {
        "colab": {
          "base_uri": "https://localhost:8080/"
        },
        "id": "-enbabn_aG_S",
        "outputId": "ab212ab4-5bd1-44c8-b73a-fb52f384f7d2"
      },
      "execution_count": null,
      "outputs": [
        {
          "output_type": "stream",
          "name": "stdout",
          "text": [
            "Average inter-arrival time for incoming packets per sample:\n",
            "Sample 1: 0.09919402985074625\n",
            "Sample 2: 0.08888000000000001\n",
            "Sample 3: 0.06388157894736843\n",
            "Sample 4: 0.03417012448132781\n",
            "Sample 5: 0.09304597701149424\n",
            "Sample 6: 0.05832335329341318\n",
            "Sample 7: 0.02622129436325678\n",
            "Sample 8: 0.044157549234135667\n",
            "Sample 9: 0.07078947368421053\n",
            "Sample 10: 0.08245161290322581\n"
          ]
        }
      ]
    },
    {
      "cell_type": "code",
      "source": [
        "# 16. Calculate average inter-departure time for outgoing packets per sample\n",
        "avg_interdepart_times = []\n",
        "\n",
        "for idx, (sample_packets, sample_directions) in enumerate(zip(X1, X2)):\n",
        "    outcoming_packet_times = []\n",
        "\n",
        "    # Filter outgoing packets based on negative direction values\n",
        "    outcoming_packet_times = [packet_time for packet_time, direction in zip(sample_packets, sample_directions) if direction < 0]\n",
        "\n",
        "    if len(outcoming_packet_times) <= 1:\n",
        "        # If only one or no outgoing packet in the sample, assign 0 average inter-depart time\n",
        "        avg_interdepart_times.append(0)\n",
        "    else:\n",
        "        # Calculate inter-depart times between outgoing packets\n",
        "        interdepart_times = [outcoming_packet_times[i + 1] - outcoming_packet_times[i] for i in range(len(outcoming_packet_times) - 1)]\n",
        "\n",
        "        # Compute the average inter-depart time for outgoing packets\n",
        "        avg_interdepart_time = sum(interdepart_times) / len(interdepart_times)\n",
        "        avg_interdepart_times.append(avg_interdepart_time)\n",
        "\n",
        "# Print average inter-depart time for outgoing packets per sample\n",
        "print(\"Average inter-departure time for outgoing packets per sample:\")\n",
        "for i, avg_interdepart_time in enumerate(avg_interdepart_times[:10], start=1):\n",
        "    print(f\"Sample {i}: {avg_interdepart_time}\")\n"
      ],
      "metadata": {
        "colab": {
          "base_uri": "https://localhost:8080/"
        },
        "id": "tUrCIrXRiDiq",
        "outputId": "4d79b2a5-6be2-4893-a218-db7b7d78a0c5"
      },
      "execution_count": null,
      "outputs": [
        {
          "output_type": "stream",
          "name": "stdout",
          "text": [
            "Average inter-departure time for outgoing packets per sample:\n",
            "Sample 1: 0.019063032367972743\n",
            "Sample 2: 0.016246376811594205\n",
            "Sample 3: 0.003044315992292871\n",
            "Sample 4: 0.0017884429140213065\n",
            "Sample 5: 0.008657435279951838\n",
            "Sample 6: 0.011526011560693645\n",
            "Sample 7: 0.0013591920060169766\n",
            "Sample 8: 0.002181193645341348\n",
            "Sample 9: 0.0034730824202000954\n",
            "Sample 10: 0.00463903120633442\n"
          ]
        }
      ]
    },
    {
      "cell_type": "code",
      "source": [
        "# 17. Total burst duration\n",
        "total_burst_duration = [sum(duration) for duration in burst_duration]\n",
        "print(total_burst_duration[:10])"
      ],
      "metadata": {
        "colab": {
          "base_uri": "https://localhost:8080/"
        },
        "id": "OETtb0FqHi4T",
        "outputId": "fcbf5225-ecb6-47cb-d85d-d59c289046bf"
      },
      "execution_count": null,
      "outputs": [
        {
          "output_type": "stream",
          "name": "stdout",
          "text": [
            "[8.799999999999997, 27.680000000000003, 5.560000000000002, 8.240000000000002, 6.780000000000001, 4.779999999999998, 6.039999999999999, 10.879999999999995, 5.219999999999999, 5.489999999999999]\n"
          ]
        }
      ]
    },
    {
      "cell_type": "markdown",
      "source": [
        "### 3b. Model Testing"
      ],
      "metadata": {
        "id": "UCkT-NJVVVa4"
      }
    },
    {
      "cell_type": "code",
      "source": [
        "# Predict on the test set\n",
        "y_pred = clf.predict(X_test)\n",
        "\n",
        "# Evaluate the model\n",
        "accuracy = accuracy_score(y_test, y_pred)\n",
        "print(f\"Accuracy: {accuracy:.2f}\")\n",
        "\n",
        "# Get a classification report\n",
        "print(classification_report(y_test, y_pred))"
      ],
      "metadata": {
        "id": "q7Rt4g25VZn8",
        "colab": {
          "base_uri": "https://localhost:8080/"
        },
        "outputId": "b58bc791-d386-415e-c660-c98ffd29befa"
      },
      "execution_count": null,
      "outputs": [
        {
          "output_type": "stream",
          "name": "stdout",
          "text": [
            "Accuracy: 0.50\n",
            "              precision    recall  f1-score   support\n",
            "\n",
            "           0       0.52      0.33      0.41        39\n",
            "           1       0.58      0.42      0.49        26\n",
            "           2       0.68      0.71      0.69        24\n",
            "           3       0.64      0.58      0.61        24\n",
            "           4       0.55      0.50      0.52        24\n",
            "           5       0.39      0.50      0.44        26\n",
            "           6       0.80      0.67      0.73        24\n",
            "           7       0.64      0.44      0.52        32\n",
            "           8       0.59      0.50      0.54        20\n",
            "           9       0.37      0.53      0.43        19\n",
            "          10       0.36      0.34      0.35        29\n",
            "          11       0.28      0.29      0.28        28\n",
            "          12       0.79      0.79      0.79        24\n",
            "          13       0.12      0.12      0.12        25\n",
            "          14       0.36      0.32      0.34        28\n",
            "          15       0.63      0.44      0.52        27\n",
            "          16       0.62      0.31      0.41        26\n",
            "          17       0.26      0.23      0.25        30\n",
            "          18       0.69      0.64      0.67        14\n",
            "          19       0.31      0.56      0.40        18\n",
            "          20       0.88      0.84      0.86        25\n",
            "          21       0.35      0.30      0.32        30\n",
            "          22       0.44      0.44      0.44        27\n",
            "          23       0.52      0.61      0.56        18\n",
            "          24       0.21      0.30      0.25        23\n",
            "          25       0.24      0.35      0.29        17\n",
            "          26       0.59      0.62      0.60        26\n",
            "          27       0.33      0.36      0.35        22\n",
            "          28       0.59      0.66      0.62        29\n",
            "          29       0.52      0.43      0.47        28\n",
            "          30       0.57      0.57      0.57        35\n",
            "          31       0.61      0.52      0.56        27\n",
            "          32       0.41      0.48      0.44        23\n",
            "          33       0.72      0.62      0.67        21\n",
            "          34       0.23      0.24      0.24        25\n",
            "          35       0.70      0.78      0.74        27\n",
            "          36       0.38      0.30      0.33        20\n",
            "          37       0.21      0.30      0.25        20\n",
            "          38       0.53      0.39      0.45        23\n",
            "          39       0.48      0.52      0.50        23\n",
            "          40       0.61      0.41      0.49        34\n",
            "          41       0.79      0.77      0.78        30\n",
            "          42       0.26      0.42      0.32        26\n",
            "          43       0.62      0.78      0.69        27\n",
            "          44       0.83      0.90      0.86        21\n",
            "          45       0.34      0.42      0.38        24\n",
            "          46       0.67      0.60      0.63        30\n",
            "          47       0.45      0.40      0.43        25\n",
            "          48       0.48      0.54      0.51        24\n",
            "          49       0.50      0.68      0.58        22\n",
            "          50       0.63      0.68      0.65        25\n",
            "          51       0.42      0.28      0.33        29\n",
            "          52       0.41      0.41      0.41        29\n",
            "          53       0.41      0.33      0.37        21\n",
            "          54       0.72      0.88      0.79        24\n",
            "          55       0.21      0.33      0.26        18\n",
            "          56       0.96      0.93      0.95        28\n",
            "          57       0.41      0.50      0.45        28\n",
            "          58       0.78      0.94      0.85        31\n",
            "          59       0.46      0.64      0.53        25\n",
            "          60       0.63      0.44      0.52        27\n",
            "          61       0.42      0.33      0.37        30\n",
            "          62       0.50      0.26      0.34        23\n",
            "          63       0.30      0.32      0.31        22\n",
            "          64       0.50      0.38      0.43        29\n",
            "          65       0.26      0.32      0.29        19\n",
            "          66       0.52      0.58      0.55        24\n",
            "          67       0.47      0.41      0.44        22\n",
            "          68       0.56      0.34      0.43        29\n",
            "          69       0.29      0.40      0.33        20\n",
            "          70       0.88      0.84      0.86        25\n",
            "          71       0.33      0.22      0.27        27\n",
            "          72       0.52      0.40      0.45        35\n",
            "          73       0.94      0.68      0.79        22\n",
            "          74       0.29      0.33      0.31        21\n",
            "          75       0.83      0.77      0.80        26\n",
            "          76       0.94      1.00      0.97        33\n",
            "          77       0.15      0.21      0.18        19\n",
            "          78       0.23      0.21      0.22        28\n",
            "          79       0.22      0.21      0.21        24\n",
            "          80       0.69      0.64      0.67        28\n",
            "          81       0.39      0.50      0.44        18\n",
            "          82       0.52      0.42      0.47        26\n",
            "          83       0.39      0.52      0.45        21\n",
            "          84       0.36      0.47      0.41        17\n",
            "          85       0.56      0.69      0.62        26\n",
            "          86       0.88      1.00      0.93        21\n",
            "          87       0.67      0.64      0.65        22\n",
            "          88       0.44      0.52      0.48        21\n",
            "          89       0.23      0.23      0.23        26\n",
            "          90       0.71      0.50      0.59        20\n",
            "          91       0.71      0.81      0.76        21\n",
            "          92       0.31      0.30      0.31        30\n",
            "          93       0.53      0.66      0.58        29\n",
            "          94       0.30      0.26      0.28        27\n",
            "\n",
            "    accuracy                           0.50      2375\n",
            "   macro avg       0.51      0.50      0.50      2375\n",
            "weighted avg       0.51      0.50      0.50      2375\n",
            "\n"
          ]
        }
      ]
    },
    {
      "cell_type": "markdown",
      "source": [
        "#### 5b. Feature Selection"
      ],
      "metadata": {
        "id": "QORUYa38vXRp"
      }
    },
    {
      "cell_type": "code",
      "source": [
        "# Get the names of the features\n",
        "feature_names = ['incoming_packets', 'fraction_incoming_packets', 'outgoing_packets', 'fraction_outgoing_packets',\n",
        "                 'total_packets', 'packet_rate', 'incoming_packet_rate', 'outgoing_packet_rate', 'avg_time_gaps',\n",
        "                 'incoming_bytes', 'outgoing_bytes', 'total_incoming_bursts', 'total_outgoing_bursts', 'burst_count',\n",
        "                 'avg_interarrival_times', 'avg_interdepart_times', 'total_burst_duration']\n",
        "\n",
        "# Get feature importances\n",
        "feature_importances = rf_clf.feature_importances_\n",
        "\n",
        "# Create a dictionary to map feature names to importance scores\n",
        "feature_importance_dict = dict(zip(feature_names, feature_importances))\n",
        "\n",
        "# Print feature importance scores in descending order\n",
        "print(\"Features importance scores in descending order\")\n",
        "sorted_feature_importances = sorted(feature_importance_dict.items(), key=lambda x: x[1], reverse=True)\n",
        "for feature, importance in sorted_feature_importances:\n",
        "    print(f\"{feature}: {importance}\")"
      ],
      "metadata": {
        "colab": {
          "base_uri": "https://localhost:8080/"
        },
        "id": "cNZksFqfjKy7",
        "outputId": "26ac0669-273d-4081-f771-6ca9f28ff6d8"
      },
      "execution_count": null,
      "outputs": [
        {
          "output_type": "stream",
          "name": "stdout",
          "text": [
            "Features importance scores in descending order\n",
            "total_packets: 0.09569918513695211\n",
            "incoming_packet_rate: 0.08458289793728216\n",
            "fraction_incoming_packets: 0.08456070641541714\n",
            "outgoing_packets: 0.08420321009490443\n",
            "fraction_outgoing_packets: 0.08359740814237775\n",
            "total_incoming_bursts: 0.08310617071777184\n",
            "total_outgoing_bursts: 0.07416563256800875\n",
            "outgoing_bytes: 0.07238941088505872\n",
            "packet_rate: 0.07237102120813958\n",
            "incoming_packets: 0.07223734367990736\n",
            "incoming_bytes: 0.06672216062446722\n",
            "outgoing_packet_rate: 0.06366847659346467\n",
            "avg_time_gaps: 0.06269637599624832\n"
          ]
        }
      ]
    },
    {
      "cell_type": "code",
      "source": [
        "# Run the experiment multiple times\n",
        "num_iterations = 10  # Change this based on your preference\n",
        "\n",
        "# Initialize a dictionary to store the accuracy results for each top-k subset\n",
        "accuracy_results = {k: [] for k in range(3, len(feature_names) + 1)}\n",
        "\n",
        "for iteration in range(num_iterations):\n",
        "    # Create subsets of X with top k features\n",
        "    for k in range(3, len(feature_names) + 1):\n",
        "        top_k_features = [feature for feature, _ in sorted_feature_importances[:k]]\n",
        "        X_subset = X[:, [feature_names.index(feature) for feature in top_k_features]]\n",
        "\n",
        "        # Split the data into training and testing sets\n",
        "        X_train, X_test, y_train, y_test = train_test_split(X_subset, y, test_size=0.25, random_state=iteration)\n",
        "\n",
        "        # Initialize a new model (you may want to retrain the model with the subset)\n",
        "        rf_model_subset = RandomForestClassifier()\n",
        "\n",
        "        # Train the model with the subset\n",
        "        rf_model_subset.fit(X_train, y_train)\n",
        "\n",
        "        # Make predictions on the testing set\n",
        "        y_pred = rf_model_subset.predict(X_test)\n",
        "\n",
        "        # Evaluate the model and store the accuracy\n",
        "        accuracy = accuracy_score(y_test, y_pred)\n",
        "        accuracy_results[k].append(accuracy)\n",
        "\n",
        "# Calculate and print the average accuracy for each top-k subset\n",
        "for k, accuracies in accuracy_results.items():\n",
        "    average_accuracy = np.mean(accuracies)\n",
        "    print(f\"Top {k} Features Average Accuracy: {average_accuracy}\")"
      ],
      "metadata": {
        "id": "XZyKy8EYjOXO"
      },
      "execution_count": null,
      "outputs": []
    },
    {
      "cell_type": "code",
      "source": [
        "top_12_features = [feature for feature, importance in sorted_feature_importances[:12]]\n",
        "print(top_12_features)\n"
      ],
      "metadata": {
        "id": "7uQgiz1RPUcg"
      },
      "execution_count": null,
      "outputs": []
    },
    {
      "cell_type": "code",
      "source": [
        "X = [total_packets,\n",
        "     outgoing_bytes,\n",
        "     outgoing_packets,\n",
        "     incoming_packets,\n",
        "     fraction_outgoing_packets,\n",
        "     fraction_incoming_packets,\n",
        "     incoming_bytes,\n",
        "     burst_count,\n",
        "     incoming_packet_rate,\n",
        "     total_incoming_bursts,\n",
        "     total_outgoing_bursts,\n",
        "     outgoing_packet_rate]\n",
        "\n",
        "# Transpose the feature matrix X to have samples as rows and features as columns\n",
        "X = np.array(X).T\n",
        "\n",
        "y = np.array(y)"
      ],
      "metadata": {
        "id": "3_S2lJUNQXyx"
      },
      "execution_count": null,
      "outputs": []
    }
  ]
}